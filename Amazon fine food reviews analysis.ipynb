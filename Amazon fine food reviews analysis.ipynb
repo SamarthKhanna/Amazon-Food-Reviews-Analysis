{
 "cells": [
  {
   "cell_type": "markdown",
   "metadata": {},
   "source": [
    "# Amazon Fine Food Reviews Analysis\n",
    "\n",
    "\n",
    "Data Source: https://www.kaggle.com/snap/amazon-fine-food-reviews <br>\n",
    "\n",
    "EDA: https://nycdatascience.com/blog/student-works/amazon-fine-foods-visualization/\n",
    "\n",
    "\n",
    "The Amazon Fine Food Reviews dataset consists of reviews of fine foods from Amazon.<br>\n",
    "\n",
    "Number of reviews: 568,454<br>\n",
    "Number of users: 256,059<br>\n",
    "Number of products: 74,258<br>\n",
    "Timespan: Oct 1999 - Oct 2012<br>\n",
    "Number of Attributes/Columns in data: 10 \n",
    "\n",
    "Attribute Information:\n",
    "\n",
    "1. Id\n",
    "2. ProductId - unique identifier for the product\n",
    "3. UserId - unqiue identifier for the user\n",
    "4. ProfileName\n",
    "5. HelpfulnessNumerator - number of users who found the review helpful\n",
    "6. HelpfulnessDenominator - number of users who indicated whether they found the review helpful or not\n",
    "7. Score - rating between 1 and 5\n",
    "8. Time - timestamp for the review\n",
    "9. Summary - brief summary of the review\n",
    "10. Text - text of the review\n",
    "\n",
    "\n",
    "#### Objective:\n",
    "Given a review, determine whether the review is positive (Rating of 4 or 5) or negative (rating of 1 or 2).\n",
    "\n",
    "<br>\n",
    "[Q] How to determine if a review is positive or negative?<br>\n",
    "<br> \n",
    "[Ans] We could use the Score/Rating. A rating of 4 or 5 could be cosnidered a positive review. A review of 1 or 2 could be considered negative. A review of 3 is nuetral and ignored. This is an approximate and proxy way of determining the polarity (positivity/negativity) of a review."
   ]
  },
  {
   "cell_type": "markdown",
   "metadata": {},
   "source": [
    "## Loading the data\n",
    "\n",
    "The dataset is available in two forms\n",
    "1. .csv file\n",
    "2. SQLite Database\n",
    "\n",
    "In order to load the data, We have used the SQLITE dataset as it easier to query the data and visualise the data efficiently.\n",
    "<br> \n",
    "\n",
    "Here as we only want to get the global sentiment of the recommendations (positive or negative), we will purposefully ignore all Scores equal to 3. If the score id above 3, then the recommendation wil be set to \"positive\". Otherwise, it will be set to \"negative\"."
   ]
  },
  {
   "cell_type": "code",
   "execution_count": 1,
   "metadata": {},
   "outputs": [],
   "source": [
    "%matplotlib inline\n",
    "import warnings\n",
    "warnings.filterwarnings(\"ignore\")\n",
    "\n",
    "import sqlite3\n",
    "import pandas as pd\n",
    "import numpy as np\n",
    "import nltk\n",
    "import string\n",
    "import matplotlib.pyplot as plt\n",
    "import seaborn as sns\n",
    "from sklearn.feature_extraction.text import TfidfTransformer\n",
    "from sklearn.feature_extraction.text import TfidfVectorizer\n",
    "\n",
    "from sklearn.feature_extraction.text import CountVectorizer\n",
    "from sklearn.metrics import confusion_matrix\n",
    "from sklearn import metrics\n",
    "from sklearn.metrics import roc_curve, auc\n",
    "from nltk.stem.porter import PorterStemmer\n",
    "from sklearn.neighbors import KNeighborsClassifier\n",
    "from sklearn.naive_bayes import MultinomialNB\n",
    "from sklearn.linear_model import LogisticRegression\n",
    "from sklearn.linear_model import SGDClassifier\n",
    "from sklearn.svm import SVC\n",
    "from sklearn.tree import DecisionTreeClassifier\n",
    "\n",
    "import re\n",
    "# Tutorial about Python regular expressions: https://pymotw.com/2/re/\n",
    "import string\n",
    "from nltk.corpus import stopwords\n",
    "from nltk.stem import SnowballStemmer\n",
    "from nltk.stem.wordnet import WordNetLemmatizer\n",
    "\n",
    "from gensim.models import Word2Vec\n",
    "from gensim.models import KeyedVectors\n",
    "import pickle\n",
    "\n",
    "from tqdm import tqdm\n",
    "import os"
   ]
  },
  {
   "cell_type": "markdown",
   "metadata": {},
   "source": [
    "# [1]. Reading Data"
   ]
  },
  {
   "cell_type": "code",
   "execution_count": 2,
   "metadata": {},
   "outputs": [
    {
     "name": "stdout",
     "output_type": "stream",
     "text": [
      "            Id   ProductId          UserId              ProfileName  \\\n",
      "568449  568450  B001EO7N10  A28KG5XORO54AY         Lettie D. Carter   \n",
      "568450  568451  B003S1WTCU  A3I8AFVPEE8KI5                R. Sawyer   \n",
      "568451  568452  B004I613EE  A121AA1GQV751Z            pksd \"pk_007\"   \n",
      "568452  568453  B004I613EE   A3IBEVCTXKNOH  Kathy A. Welch \"katwel\"   \n",
      "568453  568454  B001LR2CU2  A3LGQPJCZVL9UC                 srfell17   \n",
      "\n",
      "        HelpfulnessNumerator  HelpfulnessDenominator  Score        Time  \\\n",
      "568449                     0                       0      5  1299628800   \n",
      "568450                     0                       0      2  1331251200   \n",
      "568451                     2                       2      5  1329782400   \n",
      "568452                     1                       1      5  1331596800   \n",
      "568453                     0                       0      5  1338422400   \n",
      "\n",
      "                                   Summary  \\\n",
      "568449                 Will not do without   \n",
      "568450                        disappointed   \n",
      "568451            Perfect for our maltipoo   \n",
      "568452  Favorite Training and reward treat   \n",
      "568453                         Great Honey   \n",
      "\n",
      "                                                     Text  \n",
      "568449  Great for sesame chicken..this is a good if no...  \n",
      "568450  I'm disappointed with the flavor. The chocolat...  \n",
      "568451  These stars are small, so you can give 10-15 o...  \n",
      "568452  These are the BEST treats for training and rew...  \n",
      "568453  I am very satisfied ,product is as advertised,...  \n",
      "(568454, 10)\n",
      "   Id   ProductId          UserId                      ProfileName  \\\n",
      "0   1  B001E4KFG0  A3SGXH7AUHU8GW                       delmartian   \n",
      "1   2  B00813GRG4  A1D87F6ZCVE5NK                           dll pa   \n",
      "2   3  B000LQOCH0   ABXLMWJIXXAIN  Natalia Corres \"Natalia Corres\"   \n",
      "3   4  B000UA0QIQ  A395BORC6FGVXV                             Karl   \n",
      "4   5  B006K2ZZ7K  A1UQRSCLF8GW1T    Michael D. Bigham \"M. Wassir\"   \n",
      "\n",
      "   HelpfulnessNumerator  HelpfulnessDenominator  Score        Time  \\\n",
      "0                     1                       1      1  1303862400   \n",
      "1                     0                       0      0  1346976000   \n",
      "2                     1                       1      1  1219017600   \n",
      "3                     3                       3      0  1307923200   \n",
      "4                     0                       0      1  1350777600   \n",
      "\n",
      "                 Summary                                               Text  \n",
      "0  Good Quality Dog Food  I have bought several of the Vitality canned d...  \n",
      "1      Not as Advertised  Product arrived labeled as Jumbo Salted Peanut...  \n",
      "2  \"Delight\" says it all  This is a confection that has been around a fe...  \n",
      "3         Cough Medicine  If you are looking for the secret ingredient i...  \n",
      "4            Great taffy  Great taffy at a great price.  There was a wid...  \n"
     ]
    }
   ],
   "source": [
    "data = pd.read_csv('Reviews.csv')\n",
    "print(data.tail(5))\n",
    "print(data.shape)\n",
    "\n",
    "filter_data = pd.DataFrame(data)\n",
    "\n",
    "df = filter_data[filter_data.Score != 3]\n",
    "\n",
    "def partition(x):\n",
    "    if x < 3:\n",
    "        return 0\n",
    "    return 1\n",
    "\n",
    "#changing reviews with score less than 3 to be positive and vice-versa\n",
    "actualScore = df['Score']\n",
    "positiveNegative = actualScore.map(partition) \n",
    "df['Score'] = positiveNegative\n",
    "\n",
    "print(df.head(5))"
   ]
  },
  {
   "cell_type": "code",
   "execution_count": 3,
   "metadata": {},
   "outputs": [
    {
     "data": {
      "text/plain": [
       "(364173, 10)"
      ]
     },
     "execution_count": 3,
     "metadata": {},
     "output_type": "execute_result"
    }
   ],
   "source": [
    "sorted_data = df.sort_values('ProductId', axis=0, ascending=True, inplace=False, kind='quicksort', na_position='last')\n",
    "\n",
    "#Deduplication of entries\n",
    "final=sorted_data.drop_duplicates(subset={\"UserId\",\"ProfileName\",\"Time\",\"Text\"}, keep='first', inplace=False)\n",
    "final.shape"
   ]
  },
  {
   "cell_type": "code",
   "execution_count": 4,
   "metadata": {},
   "outputs": [
    {
     "name": "stdout",
     "output_type": "stream",
     "text": [
      "(364171, 10)\n"
     ]
    },
    {
     "data": {
      "text/plain": [
       "1    307061\n",
       "0     57110\n",
       "Name: Score, dtype: int64"
      ]
     },
     "execution_count": 4,
     "metadata": {},
     "output_type": "execute_result"
    }
   ],
   "source": [
    "final=final[final.HelpfulnessNumerator<=final.HelpfulnessDenominator]\n",
    "\n",
    "\n",
    "#Before starting the next phase of preprocessing lets see the number of entries left\n",
    "print(final.shape)\n",
    "\n",
    "#How many positive and negative reviews are present in our dataset?\n",
    "final['Score'].value_counts()\n"
   ]
  },
  {
   "cell_type": "code",
   "execution_count": 5,
   "metadata": {},
   "outputs": [
    {
     "data": {
      "text/html": [
       "<div>\n",
       "<style scoped>\n",
       "    .dataframe tbody tr th:only-of-type {\n",
       "        vertical-align: middle;\n",
       "    }\n",
       "\n",
       "    .dataframe tbody tr th {\n",
       "        vertical-align: top;\n",
       "    }\n",
       "\n",
       "    .dataframe thead th {\n",
       "        text-align: right;\n",
       "    }\n",
       "</style>\n",
       "<table border=\"1\" class=\"dataframe\">\n",
       "  <thead>\n",
       "    <tr style=\"text-align: right;\">\n",
       "      <th></th>\n",
       "      <th>Id</th>\n",
       "      <th>ProductId</th>\n",
       "      <th>UserId</th>\n",
       "      <th>ProfileName</th>\n",
       "      <th>HelpfulnessNumerator</th>\n",
       "      <th>HelpfulnessDenominator</th>\n",
       "      <th>Score</th>\n",
       "      <th>Time</th>\n",
       "      <th>Summary</th>\n",
       "      <th>Text</th>\n",
       "    </tr>\n",
       "  </thead>\n",
       "  <tbody>\n",
       "    <tr>\n",
       "      <th>150523</th>\n",
       "      <td>150524</td>\n",
       "      <td>0006641040</td>\n",
       "      <td>ACITT7DI6IDDL</td>\n",
       "      <td>shari zychinski</td>\n",
       "      <td>0</td>\n",
       "      <td>0</td>\n",
       "      <td>1</td>\n",
       "      <td>939340800</td>\n",
       "      <td>EVERY book is educational</td>\n",
       "      <td>this witty little book makes my son laugh at l...</td>\n",
       "    </tr>\n",
       "    <tr>\n",
       "      <th>150500</th>\n",
       "      <td>150501</td>\n",
       "      <td>0006641040</td>\n",
       "      <td>AJ46FKXOVC7NR</td>\n",
       "      <td>Nicholas A Mesiano</td>\n",
       "      <td>2</td>\n",
       "      <td>2</td>\n",
       "      <td>1</td>\n",
       "      <td>940809600</td>\n",
       "      <td>This whole series is great way to spend time w...</td>\n",
       "      <td>I can remember seeing the show when it aired o...</td>\n",
       "    </tr>\n",
       "    <tr>\n",
       "      <th>451855</th>\n",
       "      <td>451856</td>\n",
       "      <td>B00004CXX9</td>\n",
       "      <td>AIUWLEQ1ADEG5</td>\n",
       "      <td>Elizabeth Medina</td>\n",
       "      <td>0</td>\n",
       "      <td>0</td>\n",
       "      <td>1</td>\n",
       "      <td>944092800</td>\n",
       "      <td>Entertainingl Funny!</td>\n",
       "      <td>Beetlejuice is a well written movie ..... ever...</td>\n",
       "    </tr>\n",
       "    <tr>\n",
       "      <th>374358</th>\n",
       "      <td>374359</td>\n",
       "      <td>B00004CI84</td>\n",
       "      <td>A344SMIA5JECGM</td>\n",
       "      <td>Vincent P. Ross</td>\n",
       "      <td>1</td>\n",
       "      <td>2</td>\n",
       "      <td>1</td>\n",
       "      <td>944438400</td>\n",
       "      <td>A modern day fairy tale</td>\n",
       "      <td>A twist of rumplestiskin captured on film, sta...</td>\n",
       "    </tr>\n",
       "    <tr>\n",
       "      <th>451854</th>\n",
       "      <td>451855</td>\n",
       "      <td>B00004CXX9</td>\n",
       "      <td>AJH6LUC1UT1ON</td>\n",
       "      <td>The Phantom of the Opera</td>\n",
       "      <td>0</td>\n",
       "      <td>0</td>\n",
       "      <td>1</td>\n",
       "      <td>946857600</td>\n",
       "      <td>FANTASTIC!</td>\n",
       "      <td>Beetlejuice is an excellent and funny movie. K...</td>\n",
       "    </tr>\n",
       "  </tbody>\n",
       "</table>\n",
       "</div>"
      ],
      "text/plain": [
       "            Id   ProductId          UserId               ProfileName  \\\n",
       "150523  150524  0006641040   ACITT7DI6IDDL           shari zychinski   \n",
       "150500  150501  0006641040   AJ46FKXOVC7NR        Nicholas A Mesiano   \n",
       "451855  451856  B00004CXX9   AIUWLEQ1ADEG5          Elizabeth Medina   \n",
       "374358  374359  B00004CI84  A344SMIA5JECGM           Vincent P. Ross   \n",
       "451854  451855  B00004CXX9   AJH6LUC1UT1ON  The Phantom of the Opera   \n",
       "\n",
       "        HelpfulnessNumerator  HelpfulnessDenominator  Score       Time  \\\n",
       "150523                     0                       0      1  939340800   \n",
       "150500                     2                       2      1  940809600   \n",
       "451855                     0                       0      1  944092800   \n",
       "374358                     1                       2      1  944438400   \n",
       "451854                     0                       0      1  946857600   \n",
       "\n",
       "                                                  Summary  \\\n",
       "150523                          EVERY book is educational   \n",
       "150500  This whole series is great way to spend time w...   \n",
       "451855                               Entertainingl Funny!   \n",
       "374358                            A modern day fairy tale   \n",
       "451854                                         FANTASTIC!   \n",
       "\n",
       "                                                     Text  \n",
       "150523  this witty little book makes my son laugh at l...  \n",
       "150500  I can remember seeing the show when it aired o...  \n",
       "451855  Beetlejuice is a well written movie ..... ever...  \n",
       "374358  A twist of rumplestiskin captured on film, sta...  \n",
       "451854  Beetlejuice is an excellent and funny movie. K...  "
      ]
     },
     "execution_count": 5,
     "metadata": {},
     "output_type": "execute_result"
    }
   ],
   "source": [
    "sorted_d = final.sort_values('Time', axis=0, ascending=True, inplace=False, kind='quicksort', na_position='last')\n",
    "sorted_d.head(5)"
   ]
  },
  {
   "cell_type": "code",
   "execution_count": 6,
   "metadata": {},
   "outputs": [
    {
     "data": {
      "text/plain": [
       "(364171,)"
      ]
     },
     "execution_count": 6,
     "metadata": {},
     "output_type": "execute_result"
    }
   ],
   "source": [
    "Y = sorted_d['Score']\n",
    "Y.shape"
   ]
  },
  {
   "cell_type": "code",
   "execution_count": 7,
   "metadata": {
    "scrolled": true
   },
   "outputs": [
    {
     "data": {
      "text/html": [
       "<div>\n",
       "<style scoped>\n",
       "    .dataframe tbody tr th:only-of-type {\n",
       "        vertical-align: middle;\n",
       "    }\n",
       "\n",
       "    .dataframe tbody tr th {\n",
       "        vertical-align: top;\n",
       "    }\n",
       "\n",
       "    .dataframe thead th {\n",
       "        text-align: right;\n",
       "    }\n",
       "</style>\n",
       "<table border=\"1\" class=\"dataframe\">\n",
       "  <thead>\n",
       "    <tr style=\"text-align: right;\">\n",
       "      <th></th>\n",
       "      <th>Summary</th>\n",
       "      <th>Text</th>\n",
       "    </tr>\n",
       "  </thead>\n",
       "  <tbody>\n",
       "    <tr>\n",
       "      <th>150523</th>\n",
       "      <td>EVERY book is educational</td>\n",
       "      <td>this witty little book makes my son laugh at l...</td>\n",
       "    </tr>\n",
       "    <tr>\n",
       "      <th>150500</th>\n",
       "      <td>This whole series is great way to spend time w...</td>\n",
       "      <td>I can remember seeing the show when it aired o...</td>\n",
       "    </tr>\n",
       "    <tr>\n",
       "      <th>451855</th>\n",
       "      <td>Entertainingl Funny!</td>\n",
       "      <td>Beetlejuice is a well written movie ..... ever...</td>\n",
       "    </tr>\n",
       "    <tr>\n",
       "      <th>374358</th>\n",
       "      <td>A modern day fairy tale</td>\n",
       "      <td>A twist of rumplestiskin captured on film, sta...</td>\n",
       "    </tr>\n",
       "    <tr>\n",
       "      <th>451854</th>\n",
       "      <td>FANTASTIC!</td>\n",
       "      <td>Beetlejuice is an excellent and funny movie. K...</td>\n",
       "    </tr>\n",
       "  </tbody>\n",
       "</table>\n",
       "</div>"
      ],
      "text/plain": [
       "                                                  Summary  \\\n",
       "150523                          EVERY book is educational   \n",
       "150500  This whole series is great way to spend time w...   \n",
       "451855                               Entertainingl Funny!   \n",
       "374358                            A modern day fairy tale   \n",
       "451854                                         FANTASTIC!   \n",
       "\n",
       "                                                     Text  \n",
       "150523  this witty little book makes my son laugh at l...  \n",
       "150500  I can remember seeing the show when it aired o...  \n",
       "451855  Beetlejuice is a well written movie ..... ever...  \n",
       "374358  A twist of rumplestiskin captured on film, sta...  \n",
       "451854  Beetlejuice is an excellent and funny movie. K...  "
      ]
     },
     "execution_count": 7,
     "metadata": {},
     "output_type": "execute_result"
    }
   ],
   "source": [
    "X = sorted_d.drop(['Id', 'ProductId', 'UserId', 'ProfileName', 'Score', 'Time', 'HelpfulnessNumerator', 'HelpfulnessDenominator'], axis = 1)\n",
    "X.head()"
   ]
  },
  {
   "cell_type": "markdown",
   "metadata": {},
   "source": [
    "## 7.2.3  Text Preprocessing: Stemming, stop-word removal and Lemmatization.\n",
    "\n",
    "\n",
    "7. Finally Snowball Stemming the word (it was obsereved to be better than Porter Stemming)<br>\n",
    "\n",
    "After which we collect the words used to describe positive and negative reviewse finished deduplication our data requires some preprocessing before we go on further with analysis and making the prediction model.\n",
    "\n",
    "Hence in the Preprocessing phase we do the following in the order below:-\n",
    "\n",
    "1. Begin by removing the html tags\n",
    "2. Remove any punctuations or limited set of special characters like , or . or # etc.\n",
    "3. Check if the word is made up of english letters and is not alpha-numeric\n",
    "4. Check to see if the length of the word is greater than 2 (as it was researched that there is no adjective in 2-letters)\n",
    "5. Convert the word to lowercase\n",
    "6. Remove Stopwords\n",
    "\n",
    "7. Finally Snowball Stemming the word (it was obsereved to be better than Porter Stemming)"
   ]
  },
  {
   "cell_type": "code",
   "execution_count": 8,
   "metadata": {},
   "outputs": [],
   "source": [
    "from bs4 import BeautifulSoup\n",
    "import re\n",
    "from tqdm import tqdm"
   ]
  },
  {
   "cell_type": "code",
   "execution_count": 9,
   "metadata": {},
   "outputs": [],
   "source": [
    "def decontracted(phrase):\n",
    "    # specific\n",
    "    phrase = re.sub(r\"won't\", \"will not\", phrase)\n",
    "    phrase = re.sub(r\"can\\'t\", \"can not\", phrase)\n",
    "\n",
    "    # general\n",
    "    phrase = re.sub(r\"n\\'t\", \" not\", phrase)\n",
    "    phrase = re.sub(r\"\\'re\", \" are\", phrase)\n",
    "    phrase = re.sub(r\"\\'s\", \" is\", phrase)\n",
    "    phrase = re.sub(r\"\\'d\", \" would\", phrase)\n",
    "    phrase = re.sub(r\"\\'ll\", \" will\", phrase)\n",
    "    phrase = re.sub(r\"\\'t\", \" not\", phrase)\n",
    "    phrase = re.sub(r\"\\'ve\", \" have\", phrase)\n",
    "    phrase = re.sub(r\"\\'m\", \" am\", phrase)\n",
    "    return phrase"
   ]
  },
  {
   "cell_type": "code",
   "execution_count": 10,
   "metadata": {},
   "outputs": [],
   "source": [
    "stopwords= set(['br', 'the', 'i', 'me', 'my', 'myself', 'we', 'our', 'ours', 'ourselves', 'you', \"you're\", \"you've\",\\\n",
    "            \"you'll\", \"you'd\", 'your', 'yours', 'yourself', 'yourselves', 'he', 'him', 'his', 'himself', \\\n",
    "            'she', \"she's\", 'her', 'hers', 'herself', 'it', \"it's\", 'its', 'itself', 'they', 'them', 'their',\\\n",
    "            'theirs', 'themselves', 'what', 'which', 'who', 'whom', 'this', 'that', \"that'll\", 'these', 'those', \\\n",
    "            'am', 'is', 'are', 'was', 'were', 'be', 'been', 'being', 'have', 'has', 'had', 'having', 'do', 'does', \\\n",
    "            'did', 'doing', 'a', 'an', 'the', 'and', 'but', 'if', 'or', 'because', 'as', 'until', 'while', 'of', \\\n",
    "            'at', 'by', 'for', 'with', 'about', 'against', 'between', 'into', 'through', 'during', 'before', 'after',\\\n",
    "            'above', 'below', 'to', 'from', 'up', 'down', 'in', 'out', 'on', 'off', 'over', 'under', 'again', 'further',\\\n",
    "            'then', 'once', 'here', 'there', 'when', 'where', 'why', 'how', 'all', 'any', 'both', 'each', 'few', 'more',\\\n",
    "            'most', 'other', 'some', 'such', 'only', 'own', 'same', 'so', 'than', 'too', 'very', \\\n",
    "            's', 't', 'can', 'will', 'just', 'don', \"don't\", 'should', \"should've\", 'now', 'd', 'll', 'm', 'o', 're', \\\n",
    "            've', 'y', 'ain', 'aren', \"aren't\", 'couldn', \"couldn't\", 'didn', \"didn't\", 'doesn', \"doesn't\", 'hadn',\\\n",
    "            \"hadn't\", 'hasn', \"hasn't\", 'haven', \"haven't\", 'isn', \"isn't\", 'ma', 'mightn', \"mightn't\", 'mustn',\\\n",
    "            \"mustn't\", 'needn', \"needn't\", 'shan', \"shan't\", 'shouldn', \"shouldn't\", 'wasn', \"wasn't\", 'weren', \"weren't\", \\\n",
    "            'won', \"won't\", 'wouldn', \"wouldn't\"])"
   ]
  },
  {
   "cell_type": "code",
   "execution_count": 11,
   "metadata": {},
   "outputs": [],
   "source": [
    "def cleanpunc(sentence): #function to clean the word of any punctuation or special characters\n",
    "    cleaned = re.sub(r'[?|!|\\'|\"|#]',r'',sentence)\n",
    "    cleaned = re.sub(r'[.|,|)|(|\\|/]',r' ',cleaned)\n",
    "    return  cleaned"
   ]
  },
  {
   "cell_type": "code",
   "execution_count": 12,
   "metadata": {},
   "outputs": [],
   "source": [
    "stemmer = SnowballStemmer(\"english\")"
   ]
  },
  {
   "cell_type": "code",
   "execution_count": 13,
   "metadata": {},
   "outputs": [
    {
     "name": "stderr",
     "output_type": "stream",
     "text": [
      "100%|████████████████████████████████████████████████████████████████████████| 364171/364171 [01:42<00:00, 3536.55it/s]\n"
     ]
    }
   ],
   "source": [
    "preprocessed_reviews = []\n",
    "# tqdm is for printing the status bar\n",
    "for sentance in tqdm(X['Text'].values):\n",
    "    sentance = re.sub(r\"http\\S+\", \"\", sentance)\n",
    "    sentance = BeautifulSoup(sentance, 'lxml').get_text()\n",
    "    sentance = decontracted(sentance)\n",
    "    sentance = re.sub(\"\\S*\\d\\S*\", \"\", sentance).strip()\n",
    "    sentance = re.sub('[^A-Za-z]+', ' ', sentance)\n",
    "    #sentance = [stemmer.stem(word) for word in sentance]\n",
    "    sentance = cleanpunc(sentance)\n",
    "    sentance = ' '.join(e.lower() for e in sentance.split() if e.lower() not in stopwords)\n",
    "    preprocessed_reviews.append(sentance)"
   ]
  },
  {
   "cell_type": "code",
   "execution_count": 14,
   "metadata": {
    "scrolled": true
   },
   "outputs": [
    {
     "data": {
      "text/plain": [
       "['witty little book makes son laugh loud recite car driving along always sing refrain learned whales india drooping roses love new words book introduces silliness classic book willing bet son still able recite memory college',\n",
       " 'remember seeing show aired television years ago child sister later bought lp day thirty something used series books songs student teaching preschoolers turned whole school purchasing cd along books children tradition lives',\n",
       " 'beetlejuice well written movie everything excellent acting special effects delighted chose view movie',\n",
       " 'twist rumplestiskin captured film starring michael keaton geena davis prime tim burton masterpiece rumbles absurdity wonderfully paced point not dull moment',\n",
       " 'beetlejuice excellent funny movie keaton hilarious wacky beetlejuice great special effects help film think one best movies ever made sure agree good time watch beetlejuice',\n",
       " 'one movie movie collection filled comedy action whatever else want call',\n",
       " 'always enjoyed movie funny entertaining not hesitate pick clamshell edition guess marketing plan make movie families something eliminated strong profanity elements usually edited television version warned want uncut version avoid clamshell edition',\n",
       " 'bought apartment infested fruit flies hours trap attracted many flies within days practically gone may not long term solution flies driving crazy consider buying one caution surface sticky try avoid touching',\n",
       " 'happens say name three times michael keaten stars comedy two couples live old two story house coming back supply store couple suddenly get caught inside broken bridge start tumble lake board catches got hopes small dog steps board car starts slide bridge lake waters minutes later find back home find somehow somehad light fireplace done magic find weird looking dead guy known bettlejuice way get help call name three times appear survice soon wish never called name bettlejuice troublemaker one save account said name three times not leave houses else find theirselves another world giant sandworms stellar comedy see michael keaton awesome plays leading role bettlejuice',\n",
       " 'getting crazy looking beatlejuice french version video really impossible today not find french vhs version film could u please tell something tks',\n",
       " 'getting crazy really impossible today not find french vhs version film could u please tell something tks',\n",
       " 'really good idea final product outstanding use decals car window everybody asks bought decals made two thumbs',\n",
       " 'received shipment could hardly wait try product love slickers call instead stickers removed easily daughter designed signs printed reverse use car windows printed beautifully print shop program going lot fun product windows everywhere surfaces like tv screens computer monitors',\n",
       " 'recently purchased woodstream corp gopher trap within minutes laying traps catching gophers product best ever used gopher trap easy set works great success also remember use wire attached trap tie steak prevent gophers dragging trap hole caught hope find product easy use good luck',\n",
       " 'much easier use wilson paste colors colors vibrant not taint frosting like colors simple use not make mess complaint not find years ago must decorate often',\n",
       " 'easy use not make mess offer vibrant colors not taint decorting colors would highly recommend anyone likes decorate',\n",
       " 'great film not even know sum first completely original unlike film ever seen second great comedy kind spooky weird feel something tim burton films look film probably like best art director bo welch tim burton show us world unlike anything seen movie great film would recommend anyone looking enjoyable entertaining film original inventive',\n",
       " 'beetlejuice awe inspiring wonderfully amusing comedic romp explores incredible possibilities life boundaries absurd telling tale recently dead married couple suddenly gets led chaotic world supernatural adam barbara maitland alec baldwin geena davis discover many conflicting rather human imperfections haunt lives living also plague afterlife well unlike film projects seemed blindly assigned dispassionate filmmakers commercial reasons beetlejuice plot bizarre subject matter remarkably complemented burton unusually macabre artistic sensibilities extraordinarily well created unbelievably brilliant guidance imaginative film director tim burton pee wee big adventure batman ed wood sleepy hollow film uniquely creative landscape culmination essentially abundant irony outlandish yet human behaviors graced body burton work augmented deviously energetic performances glenn shadix jeffrey jones winona ryder catherine hara geena davis alec baldwin film bustles uninhibited brilliant hilarity persistently pushes film level almost affable euphoria paired ingenious screenplay tour de force performance michael keaton beetlejuice film transforms exuberant jovial exercise extremely satisfying philosophically perceptive many levels though comedy usually considered unable undeserving deep critical analysis beetlejuice undeniably inspired concept flawlessly transferred film one outstanding comedies film dvd package dvd includes theatrical trailer isolated danny elfman musical track choice watch film anamorphic widescreen pan scan hopefully beetlejuice eventually graced special edition always hope',\n",
       " 'sick scads nasty toothpicks counter tinting icings squeeze bottle concept one long overdue exceptionally welcome colors vibrant not offensive taste blend opinion smoothly wilton pastes need experiment bit get hues right first well worth',\n",
       " 'thought movie funny michael keaton beetlejuice right alec baldwin playing geeky husband priceless love da oo scence kids really enjoy one']"
      ]
     },
     "execution_count": 14,
     "metadata": {},
     "output_type": "execute_result"
    }
   ],
   "source": [
    "preprocessed_reviews[0:20]"
   ]
  },
  {
   "cell_type": "code",
   "execution_count": 15,
   "metadata": {},
   "outputs": [
    {
     "name": "stderr",
     "output_type": "stream",
     "text": [
      "100%|████████████████████████████████████████████████████████████████████████| 364171/364171 [01:11<00:00, 5059.66it/s]\n"
     ]
    }
   ],
   "source": [
    "preprocessed_summaries = []\n",
    "for summary in tqdm(X['Summary'].values):\n",
    "    summary = re.sub(r\"http\\S+\", \"\", str(summary))\n",
    "    summary = BeautifulSoup(summary, \"lxml\").get_text()\n",
    "    summary = decontracted(summary)\n",
    "    summary = re.sub(\"\\S*\\d\\S*\", \"\", summary).strip()\n",
    "    summary = re.sub('[^A-Za-z]+', ' ', summary)\n",
    "    summary = cleanpunc(summary)\n",
    "    summary = ' '.join(e.lower() for e in summary.split() if e.lower() not in stopwords)\n",
    "    preprocessed_summaries.append(summary.strip())"
   ]
  },
  {
   "cell_type": "markdown",
   "metadata": {},
   "source": [
    "# 1. Bag of words"
   ]
  },
  {
   "cell_type": "code",
   "execution_count": 16,
   "metadata": {},
   "outputs": [
    {
     "data": {
      "text/plain": [
       "(364171, 10000)"
      ]
     },
     "execution_count": 16,
     "metadata": {},
     "output_type": "execute_result"
    }
   ],
   "source": [
    "covec = CountVectorizer(min_df = 10, max_features = 10000)\n",
    "reviews_bow = covec.fit_transform(preprocessed_reviews)\n",
    "reviews_bow.shape"
   ]
  },
  {
   "cell_type": "code",
   "execution_count": 17,
   "metadata": {},
   "outputs": [
    {
     "data": {
      "text/plain": [
       "(364171, 5839)"
      ]
     },
     "execution_count": 17,
     "metadata": {},
     "output_type": "execute_result"
    }
   ],
   "source": [
    "summaries_bow = covec.fit_transform(preprocessed_summaries)\n",
    "summaries_bow.shape"
   ]
  },
  {
   "cell_type": "code",
   "execution_count": 18,
   "metadata": {},
   "outputs": [
    {
     "name": "stdout",
     "output_type": "stream",
     "text": [
      "1    8868\n",
      "0    1132\n",
      "Name: Score, dtype: int64\n"
     ]
    }
   ],
   "source": [
    "from scipy.sparse import hstack\n",
    "from sklearn.model_selection import train_test_split\n",
    "from sklearn.metrics import roc_auc_score\n",
    "X_bow = hstack((reviews_bow, summaries_bow)).tocsr()\n",
    "X_bow = X_bow[:10000]\n",
    "Y = Y[:10000]\n",
    "print(Y.value_counts())\n",
    "X_bow_1, X_bow_te, y_bow_1, y_bow_te = train_test_split(X_bow, Y, test_size = 0.3, random_state = 0)\n",
    "X_bow_tr, X_bow_cv, y_bow_tr, y_bow_cv = train_test_split(X_bow_1, y_bow_1, test_size=0.3)"
   ]
  },
  {
   "cell_type": "code",
   "execution_count": 19,
   "metadata": {},
   "outputs": [],
   "source": [
    "from sklearn.metrics import balanced_accuracy_score"
   ]
  },
  {
   "cell_type": "code",
   "execution_count": 20,
   "metadata": {},
   "outputs": [
    {
     "name": "stdout",
     "output_type": "stream",
     "text": [
      "Fitting 3 folds for each of 9 candidates, totalling 27 fits\n"
     ]
    },
    {
     "name": "stderr",
     "output_type": "stream",
     "text": [
      "[Parallel(n_jobs=1)]: Using backend SequentialBackend with 1 concurrent workers.\n"
     ]
    },
    {
     "name": "stdout",
     "output_type": "stream",
     "text": [
      "[CV] n_neighbors=1 ...................................................\n",
      "[CV] ....................... n_neighbors=1, score=0.610, total=   0.1s\n"
     ]
    },
    {
     "name": "stderr",
     "output_type": "stream",
     "text": [
      "[Parallel(n_jobs=1)]: Done   1 out of   1 | elapsed:    0.1s remaining:    0.0s\n"
     ]
    },
    {
     "name": "stdout",
     "output_type": "stream",
     "text": [
      "[CV] n_neighbors=1 ...................................................\n",
      "[CV] ....................... n_neighbors=1, score=0.655, total=   0.2s\n"
     ]
    },
    {
     "name": "stderr",
     "output_type": "stream",
     "text": [
      "[Parallel(n_jobs=1)]: Done   2 out of   2 | elapsed:    0.2s remaining:    0.0s\n"
     ]
    },
    {
     "name": "stdout",
     "output_type": "stream",
     "text": [
      "[CV] n_neighbors=1 ...................................................\n",
      "[CV] ....................... n_neighbors=1, score=0.553, total=   0.2s\n"
     ]
    },
    {
     "name": "stderr",
     "output_type": "stream",
     "text": [
      "[Parallel(n_jobs=1)]: Done   3 out of   3 | elapsed:    0.4s remaining:    0.0s\n"
     ]
    },
    {
     "name": "stdout",
     "output_type": "stream",
     "text": [
      "[CV] n_neighbors=3 ...................................................\n",
      "[CV] ....................... n_neighbors=3, score=0.621, total=   0.2s\n"
     ]
    },
    {
     "name": "stderr",
     "output_type": "stream",
     "text": [
      "[Parallel(n_jobs=1)]: Done   4 out of   4 | elapsed:    0.6s remaining:    0.0s\n"
     ]
    },
    {
     "name": "stdout",
     "output_type": "stream",
     "text": [
      "[CV] n_neighbors=3 ...................................................\n",
      "[CV] ....................... n_neighbors=3, score=0.674, total=   0.2s\n"
     ]
    },
    {
     "name": "stderr",
     "output_type": "stream",
     "text": [
      "[Parallel(n_jobs=1)]: Done   5 out of   5 | elapsed:    0.7s remaining:    0.0s\n"
     ]
    },
    {
     "name": "stdout",
     "output_type": "stream",
     "text": [
      "[CV] n_neighbors=3 ...................................................\n",
      "[CV] ....................... n_neighbors=3, score=0.618, total=   0.2s\n"
     ]
    },
    {
     "name": "stderr",
     "output_type": "stream",
     "text": [
      "[Parallel(n_jobs=1)]: Done   6 out of   6 | elapsed:    0.9s remaining:    0.0s\n"
     ]
    },
    {
     "name": "stdout",
     "output_type": "stream",
     "text": [
      "[CV] n_neighbors=5 ...................................................\n",
      "[CV] ....................... n_neighbors=5, score=0.647, total=   0.2s\n"
     ]
    },
    {
     "name": "stderr",
     "output_type": "stream",
     "text": [
      "[Parallel(n_jobs=1)]: Done   7 out of   7 | elapsed:    1.1s remaining:    0.0s\n"
     ]
    },
    {
     "name": "stdout",
     "output_type": "stream",
     "text": [
      "[CV] n_neighbors=5 ...................................................\n",
      "[CV] ....................... n_neighbors=5, score=0.667, total=   0.2s\n"
     ]
    },
    {
     "name": "stderr",
     "output_type": "stream",
     "text": [
      "[Parallel(n_jobs=1)]: Done   8 out of   8 | elapsed:    1.3s remaining:    0.0s\n"
     ]
    },
    {
     "name": "stdout",
     "output_type": "stream",
     "text": [
      "[CV] n_neighbors=5 ...................................................\n",
      "[CV] ....................... n_neighbors=5, score=0.657, total=   0.2s\n"
     ]
    },
    {
     "name": "stderr",
     "output_type": "stream",
     "text": [
      "[Parallel(n_jobs=1)]: Done   9 out of   9 | elapsed:    1.4s remaining:    0.0s\n"
     ]
    },
    {
     "name": "stdout",
     "output_type": "stream",
     "text": [
      "[CV] n_neighbors=9 ...................................................\n",
      "[CV] ....................... n_neighbors=9, score=0.711, total=   0.2s\n",
      "[CV] n_neighbors=9 ...................................................\n",
      "[CV] ....................... n_neighbors=9, score=0.707, total=   0.2s\n",
      "[CV] n_neighbors=9 ...................................................\n",
      "[CV] ....................... n_neighbors=9, score=0.735, total=   0.2s\n",
      "[CV] n_neighbors=13 ..................................................\n",
      "[CV] ...................... n_neighbors=13, score=0.705, total=   0.2s\n",
      "[CV] n_neighbors=13 ..................................................\n",
      "[CV] ...................... n_neighbors=13, score=0.720, total=   0.2s\n",
      "[CV] n_neighbors=13 ..................................................\n",
      "[CV] ...................... n_neighbors=13, score=0.742, total=   0.2s\n",
      "[CV] n_neighbors=19 ..................................................\n",
      "[CV] ...................... n_neighbors=19, score=0.715, total=   0.2s\n",
      "[CV] n_neighbors=19 ..................................................\n",
      "[CV] ...................... n_neighbors=19, score=0.727, total=   0.2s\n",
      "[CV] n_neighbors=19 ..................................................\n",
      "[CV] ...................... n_neighbors=19, score=0.740, total=   0.2s\n",
      "[CV] n_neighbors=25 ..................................................\n",
      "[CV] ...................... n_neighbors=25, score=0.733, total=   0.2s\n",
      "[CV] n_neighbors=25 ..................................................\n",
      "[CV] ...................... n_neighbors=25, score=0.732, total=   0.2s\n",
      "[CV] n_neighbors=25 ..................................................\n",
      "[CV] ...................... n_neighbors=25, score=0.749, total=   0.2s\n",
      "[CV] n_neighbors=35 ..................................................\n",
      "[CV] ...................... n_neighbors=35, score=0.755, total=   0.2s\n",
      "[CV] n_neighbors=35 ..................................................\n",
      "[CV] ...................... n_neighbors=35, score=0.736, total=   0.2s\n",
      "[CV] n_neighbors=35 ..................................................\n",
      "[CV] ...................... n_neighbors=35, score=0.757, total=   0.2s\n",
      "[CV] n_neighbors=50 ..................................................\n",
      "[CV] ...................... n_neighbors=50, score=0.768, total=   0.2s\n",
      "[CV] n_neighbors=50 ..................................................\n",
      "[CV] ...................... n_neighbors=50, score=0.755, total=   0.2s\n",
      "[CV] n_neighbors=50 ..................................................\n",
      "[CV] ...................... n_neighbors=50, score=0.771, total=   0.2s\n"
     ]
    },
    {
     "name": "stderr",
     "output_type": "stream",
     "text": [
      "[Parallel(n_jobs=1)]: Done  27 out of  27 | elapsed:    4.7s finished\n"
     ]
    },
    {
     "name": "stdout",
     "output_type": "stream",
     "text": [
      "{'n_neighbors': 50}\n",
      "0.8219130178325029\n"
     ]
    }
   ],
   "source": [
    "from sklearn.model_selection import GridSearchCV\n",
    "gsc = GridSearchCV(\n",
    "        estimator = KNeighborsClassifier(),\n",
    "        param_grid = {\n",
    "            'n_neighbors': [1, 3, 5, 9, 13, 19, 25, 35, 50]\n",
    "        }, cv = 3, scoring = 'roc_auc', verbose = 10)\n",
    "\n",
    "grid_result = gsc.fit(X_bow_tr, y_bow_tr)\n",
    "best_params = grid_result.best_params_\n",
    "print(best_params)\n",
    "print(gsc.score(X_bow_tr, y_bow_tr))"
   ]
  },
  {
   "cell_type": "code",
   "execution_count": 90,
   "metadata": {},
   "outputs": [
    {
     "name": "stderr",
     "output_type": "stream",
     "text": [
      "\r",
      "  0%|                                                                                            | 0/9 [00:00<?, ?it/s]"
     ]
    },
    {
     "name": "stdout",
     "output_type": "stream",
     "text": [
      "The accuracy for1nearest neighbors is:1.0for train and0.8604761904761905for cv\n"
     ]
    },
    {
     "name": "stderr",
     "output_type": "stream",
     "text": [
      "\r",
      " 11%|█████████▎                                                                          | 1/9 [00:01<00:08,  1.12s/it]"
     ]
    },
    {
     "name": "stdout",
     "output_type": "stream",
     "text": [
      "The accuracy for3nearest neighbors is:0.9340816326530612for train and0.8652380952380953for cv\n"
     ]
    },
    {
     "name": "stderr",
     "output_type": "stream",
     "text": [
      "\r",
      " 22%|██████████████████▋                                                                 | 2/9 [00:02<00:07,  1.13s/it]"
     ]
    },
    {
     "name": "stdout",
     "output_type": "stream",
     "text": [
      "The accuracy for5nearest neighbors is:0.9085714285714286for train and0.8871428571428571for cv\n"
     ]
    },
    {
     "name": "stderr",
     "output_type": "stream",
     "text": [
      "\r",
      " 33%|████████████████████████████                                                        | 3/9 [00:03<00:07,  1.19s/it]"
     ]
    },
    {
     "name": "stdout",
     "output_type": "stream",
     "text": [
      "The accuracy for9nearest neighbors is:0.8955102040816326for train and0.8933333333333333for cv\n"
     ]
    },
    {
     "name": "stderr",
     "output_type": "stream",
     "text": [
      "\r",
      " 44%|█████████████████████████████████████▎                                              | 4/9 [00:04<00:06,  1.24s/it]"
     ]
    },
    {
     "name": "stdout",
     "output_type": "stream",
     "text": [
      "The accuracy for13nearest neighbors is:0.8942857142857142for train and0.8933333333333333for cv\n"
     ]
    },
    {
     "name": "stderr",
     "output_type": "stream",
     "text": [
      "\r",
      " 56%|██████████████████████████████████████████████▋                                     | 5/9 [00:06<00:05,  1.27s/it]"
     ]
    },
    {
     "name": "stdout",
     "output_type": "stream",
     "text": [
      "The accuracy for19nearest neighbors is:0.8912244897959184for train and0.8942857142857142for cv\n"
     ]
    },
    {
     "name": "stderr",
     "output_type": "stream",
     "text": [
      "\r",
      " 67%|████████████████████████████████████████████████████████                            | 6/9 [00:07<00:03,  1.30s/it]"
     ]
    },
    {
     "name": "stdout",
     "output_type": "stream",
     "text": [
      "The accuracy for25nearest neighbors is:0.8904081632653061for train and0.8966666666666666for cv\n"
     ]
    },
    {
     "name": "stderr",
     "output_type": "stream",
     "text": [
      "\r",
      " 78%|█████████████████████████████████████████████████████████████████▎                  | 7/9 [00:09<00:02,  1.31s/it]"
     ]
    },
    {
     "name": "stdout",
     "output_type": "stream",
     "text": [
      "The accuracy for35nearest neighbors is:0.8904081632653061for train and0.8957142857142857for cv\n"
     ]
    },
    {
     "name": "stderr",
     "output_type": "stream",
     "text": [
      "\r",
      " 89%|██████████████████████████████████████████████████████████████████████████▋         | 8/9 [00:10<00:01,  1.33s/it]"
     ]
    },
    {
     "name": "stdout",
     "output_type": "stream",
     "text": [
      "The accuracy for50nearest neighbors is:0.8891836734693878for train and0.8938095238095238for cv\n"
     ]
    },
    {
     "name": "stderr",
     "output_type": "stream",
     "text": [
      "100%|████████████████████████████████████████████████████████████████████████████████████| 9/9 [00:11<00:00,  1.35s/it]\n"
     ]
    }
   ],
   "source": [
    "#Applying KNN\n",
    "from sklearn.metrics import accuracy_score\n",
    "ks = [1, 3, 5, 9, 13, 19, 25, 35, 50]\n",
    "for k in tqdm(ks):\n",
    "    clf = KNeighborsClassifier(n_neighbors = k)\n",
    "    clf.fit(X_bow_tr, y_bow_tr)\n",
    "    \n",
    "    y_pred_tr = clf.predict(X_bow_tr)\n",
    "    y_pred_cv = clf.predict(X_bow_cv)\n",
    "    \n",
    "    tr_acc = accuracy_score(y_bow_tr, y_pred_tr)\n",
    "    cv_acc = accuracy_score(y_bow_cv, y_pred_cv)\n",
    "    \n",
    "    print(\"The accuracy for\" + str(k) + \"nearest neighbors is:\" +str(tr_acc)+\"for train and\" + str(cv_acc) +\"for cv\")"
   ]
  },
  {
   "cell_type": "code",
   "execution_count": 91,
   "metadata": {},
   "outputs": [
    {
     "data": {
      "image/png": "[encoded data removed]",
      "text/plain": [
       "<Figure size 432x288 with 1 Axes>"
      ]
     },
     "metadata": {
      "needs_background": "light"
     },
     "output_type": "display_data"
    }
   ],
   "source": [
    "#Roc curve usign best KNN\n",
    "from sklearn.metrics import roc_curve, auc\n",
    "\n",
    "\n",
    "clf = KNeighborsClassifier(n_neighbors = 9)\n",
    "clf.fit(X_bow_tr, y_bow_tr)\n",
    "# roc_auc_score(y_true, y_score) the 2nd parameter should be probability estimates of the positive class\n",
    "# not the predicted outputs\n",
    "\n",
    "y_train_pred = clf.predict(X_bow_tr)    \n",
    "y_test_pred = clf.predict(X_bow_te)\n",
    "\n",
    "train_fpr, train_tpr, tr_thresholds = roc_curve(y_bow_tr, y_train_pred)\n",
    "test_fpr, test_tpr, te_thresholds = roc_curve(y_bow_te, y_test_pred)\n",
    "\n",
    "plt.plot(train_fpr, train_tpr, label=\"train AUC =\"+str(auc(train_fpr, train_tpr)))\n",
    "plt.plot(test_fpr, test_tpr, label=\"test AUC =\"+str(auc(test_fpr, test_tpr)))\n",
    "plt.legend()\n",
    "plt.xlabel(\"n_neighbors: hyperparameter\")\n",
    "plt.ylabel(\"AUC\")\n",
    "plt.title(\"ERROR PLOTS\")\n",
    "plt.grid()\n",
    "plt.show()"
   ]
  },
  {
   "cell_type": "code",
   "execution_count": 130,
   "metadata": {},
   "outputs": [
    {
     "data": {
      "image/png": "[encoded data removed]",
      "text/plain": [
       "<Figure size 432x288 with 1 Axes>"
      ]
     },
     "metadata": {
      "needs_background": "light"
     },
     "output_type": "display_data"
    }
   ],
   "source": [
    "clf = KNeighborsClassifier(n_neighbors = 25)\n",
    "clf.fit(X_bow_tr, y_bow_tr)\n",
    "\n",
    "y_pred_tr = clf.predict_proba(X_bow_tr)[::,1]\n",
    "y_pred_te = clf.predict_proba(X_bow_te)[::,1]\n",
    "fpr_tr, tpr_tr, _tr = metrics.roc_curve(y_bow_tr,  y_pred_tr)\n",
    "fpr_te, tpr_te, _te = metrics.roc_curve(y_bow_te,  y_pred_te)\n",
    "auc_tr_bow_knn = metrics.roc_auc_score(y_bow_tr, y_pred_tr)\n",
    "auc_te_bow_knn = metrics.roc_auc_score(y_bow_te, y_pred_te)\n",
    "plt.plot(fpr_tr,tpr_tr,label=\"Train, auc=\"+str(auc_tr_bow_knn))\n",
    "plt.plot(fpr_te,tpr_te,label=\"Test, auc=\"+str(auc_te_bow_knn))\n",
    "plt.legend(loc=4)\n",
    "plt.show()"
   ]
  },
  {
   "cell_type": "code",
   "execution_count": 24,
   "metadata": {
    "scrolled": true
   },
   "outputs": [
    {
     "name": "stderr",
     "output_type": "stream",
     "text": [
      "\r",
      "  0%|                                                                                            | 0/9 [00:00<?, ?it/s]"
     ]
    },
    {
     "name": "stdout",
     "output_type": "stream",
     "text": [
      "The accuracy for value of alpha: 0.0001 is 0.9936734693877551 for train and 0.9033333333333333for cv\n",
      "The accuracy for value of alpha: 0.001 is 0.9928571428571429 for train and 0.9057142857142857for cv\n",
      "The accuracy for value of alpha: 0.01 is 0.9914285714285714 for train and 0.9128571428571428for cv\n",
      "The accuracy for value of alpha: 0.1 is 0.9842857142857143 for train and 0.9247619047619048for cv\n",
      "The accuracy for value of alpha: 1 is 0.9563265306122449 for train and 0.9152380952380952for cv\n",
      "The accuracy for value of alpha: 10 is 0.8883673469387755 for train and 0.8938095238095238for cv\n",
      "The accuracy for value of alpha: 100 is 0.8881632653061224 for train and 0.8938095238095238for cv\n",
      "The accuracy for value of alpha: 1000 is 0.8881632653061224 for train and 0.8938095238095238for cv\n",
      "The accuracy for value of alpha: 10000 is 0.8881632653061224 for train and 0.8938095238095238for cv\n"
     ]
    },
    {
     "name": "stderr",
     "output_type": "stream",
     "text": [
      "100%|███████████████████████████████████████████████████████████████████████████████████| 9/9 [00:00<00:00, 134.69it/s]\n"
     ]
    }
   ],
   "source": [
    "#Manually searching for the best hyperparamter using Naive Bayes\n",
    "from sklearn.metrics import accuracy_score\n",
    "A = [0.0001, 0.001, 0.01, 0.1, 1, 10, 100, 1000, 10000]\n",
    "for a in tqdm(A):\n",
    "    clf = MultinomialNB(alpha = a)\n",
    "    clf.fit(X_bow_tr, y_bow_tr)\n",
    "    \n",
    "    y_pred_tr = clf.predict(X_bow_tr)\n",
    "    y_pred_cv = clf.predict(X_bow_cv)\n",
    "    \n",
    "    tr_acc = accuracy_score(y_bow_tr, y_pred_tr)\n",
    "    cv_acc = accuracy_score(y_bow_cv, y_pred_cv)\n",
    "    \n",
    "    print(\"The accuracy for value of alpha: \" + str(a)+\" is \" +str(tr_acc)+\" for train and \" + str(cv_acc) +\"for cv\")"
   ]
  },
  {
   "cell_type": "code",
   "execution_count": 92,
   "metadata": {
    "scrolled": true
   },
   "outputs": [
    {
     "name": "stdout",
     "output_type": "stream",
     "text": [
      "Fitting 3 folds for each of 9 candidates, totalling 27 fits\n"
     ]
    },
    {
     "name": "stderr",
     "output_type": "stream",
     "text": [
      "[Parallel(n_jobs=1)]: Using backend SequentialBackend with 1 concurrent workers.\n"
     ]
    },
    {
     "name": "stdout",
     "output_type": "stream",
     "text": [
      "[CV] alpha=0.0001 ....................................................\n",
      "[CV] ........................ alpha=0.0001, score=0.740, total=   0.0s\n"
     ]
    },
    {
     "name": "stderr",
     "output_type": "stream",
     "text": [
      "[Parallel(n_jobs=1)]: Done   1 out of   1 | elapsed:    0.0s remaining:    0.0s\n"
     ]
    },
    {
     "name": "stdout",
     "output_type": "stream",
     "text": [
      "[CV] alpha=0.0001 ....................................................\n",
      "[CV] ........................ alpha=0.0001, score=0.706, total=   0.0s\n"
     ]
    },
    {
     "name": "stderr",
     "output_type": "stream",
     "text": [
      "[Parallel(n_jobs=1)]: Done   2 out of   2 | elapsed:    0.0s remaining:    0.0s\n"
     ]
    },
    {
     "name": "stdout",
     "output_type": "stream",
     "text": [
      "[CV] alpha=0.0001 ....................................................\n",
      "[CV] ........................ alpha=0.0001, score=0.724, total=   0.0s\n"
     ]
    },
    {
     "name": "stderr",
     "output_type": "stream",
     "text": [
      "[Parallel(n_jobs=1)]: Done   3 out of   3 | elapsed:    0.0s remaining:    0.0s\n"
     ]
    },
    {
     "name": "stdout",
     "output_type": "stream",
     "text": [
      "[CV] alpha=0.001 .....................................................\n",
      "[CV] ......................... alpha=0.001, score=0.768, total=   0.0s\n"
     ]
    },
    {
     "name": "stderr",
     "output_type": "stream",
     "text": [
      "[Parallel(n_jobs=1)]: Done   4 out of   4 | elapsed:    0.0s remaining:    0.0s\n"
     ]
    },
    {
     "name": "stdout",
     "output_type": "stream",
     "text": [
      "[CV] alpha=0.001 .....................................................\n",
      "[CV] ......................... alpha=0.001, score=0.747, total=   0.0s\n"
     ]
    },
    {
     "name": "stderr",
     "output_type": "stream",
     "text": [
      "[Parallel(n_jobs=1)]: Done   5 out of   5 | elapsed:    0.0s remaining:    0.0s\n"
     ]
    },
    {
     "name": "stdout",
     "output_type": "stream",
     "text": [
      "[CV] alpha=0.001 .....................................................\n",
      "[CV] ......................... alpha=0.001, score=0.767, total=   0.0s\n"
     ]
    },
    {
     "name": "stderr",
     "output_type": "stream",
     "text": [
      "[Parallel(n_jobs=1)]: Done   6 out of   6 | elapsed:    0.0s remaining:    0.0s\n"
     ]
    },
    {
     "name": "stdout",
     "output_type": "stream",
     "text": [
      "[CV] alpha=0.01 ......................................................\n",
      "[CV] .......................... alpha=0.01, score=0.830, total=   0.0s\n"
     ]
    },
    {
     "name": "stderr",
     "output_type": "stream",
     "text": [
      "[Parallel(n_jobs=1)]: Done   7 out of   7 | elapsed:    0.0s remaining:    0.0s\n"
     ]
    },
    {
     "name": "stdout",
     "output_type": "stream",
     "text": [
      "[CV] alpha=0.01 ......................................................\n",
      "[CV] .......................... alpha=0.01, score=0.786, total=   0.0s\n"
     ]
    },
    {
     "name": "stderr",
     "output_type": "stream",
     "text": [
      "[Parallel(n_jobs=1)]: Done   8 out of   8 | elapsed:    0.0s remaining:    0.0s\n"
     ]
    },
    {
     "name": "stdout",
     "output_type": "stream",
     "text": [
      "[CV] alpha=0.01 ......................................................\n",
      "[CV] .......................... alpha=0.01, score=0.817, total=   0.0s\n"
     ]
    },
    {
     "name": "stderr",
     "output_type": "stream",
     "text": [
      "[Parallel(n_jobs=1)]: Done   9 out of   9 | elapsed:    0.0s remaining:    0.0s\n"
     ]
    },
    {
     "name": "stdout",
     "output_type": "stream",
     "text": [
      "[CV] alpha=0.1 .......................................................\n",
      "[CV] ........................... alpha=0.1, score=0.889, total=   0.0s\n",
      "[CV] alpha=0.1 .......................................................\n",
      "[CV] ........................... alpha=0.1, score=0.863, total=   0.0s\n",
      "[CV] alpha=0.1 .......................................................\n",
      "[CV] ........................... alpha=0.1, score=0.860, total=   0.0s\n",
      "[CV] alpha=1 .........................................................\n",
      "[CV] ............................. alpha=1, score=0.816, total=   0.0s\n",
      "[CV] alpha=1 .........................................................\n",
      "[CV] ............................. alpha=1, score=0.811, total=   0.0s\n",
      "[CV] alpha=1 .........................................................\n",
      "[CV] ............................. alpha=1, score=0.815, total=   0.0s\n",
      "[CV] alpha=10 ........................................................\n",
      "[CV] ............................ alpha=10, score=0.614, total=   0.0s\n",
      "[CV] alpha=10 ........................................................\n",
      "[CV] ............................ alpha=10, score=0.599, total=   0.0s\n",
      "[CV] alpha=10 ........................................................\n",
      "[CV] ............................ alpha=10, score=0.637, total=   0.0s\n",
      "[CV] alpha=100 .......................................................\n",
      "[CV] ........................... alpha=100, score=0.571, total=   0.0s\n",
      "[CV] alpha=100 .......................................................\n",
      "[CV] ........................... alpha=100, score=0.557, total=   0.0s\n",
      "[CV] alpha=100 .......................................................\n",
      "[CV] ........................... alpha=100, score=0.593, total=   0.0s\n",
      "[CV] alpha=1000 ......................................................\n",
      "[CV] .......................... alpha=1000, score=0.528, total=   0.0s\n",
      "[CV] alpha=1000 ......................................................\n",
      "[CV] .......................... alpha=1000, score=0.509, total=   0.0s\n",
      "[CV] alpha=1000 ......................................................\n",
      "[CV] .......................... alpha=1000, score=0.555, total=   0.0s\n",
      "[CV] alpha=10000 .....................................................\n",
      "[CV] ......................... alpha=10000, score=0.499, total=   0.0s\n",
      "[CV] alpha=10000 .....................................................\n",
      "[CV] ......................... alpha=10000, score=0.477, total=   0.0s\n",
      "[CV] alpha=10000 .....................................................\n",
      "[CV] ......................... alpha=10000, score=0.527, total=   0.0s\n"
     ]
    },
    {
     "name": "stderr",
     "output_type": "stream",
     "text": [
      "[Parallel(n_jobs=1)]: Done  27 out of  27 | elapsed:    0.1s finished\n"
     ]
    },
    {
     "name": "stdout",
     "output_type": "stream",
     "text": [
      "{'alpha': 0.1}\n",
      "0.9973344749624302\n"
     ]
    }
   ],
   "source": [
    "#Hyperparameter tuning for Naive Bayes\n",
    "from sklearn.model_selection import GridSearchCV\n",
    "gsc = GridSearchCV(\n",
    "        estimator = MultinomialNB(),\n",
    "        param_grid = {\n",
    "            'alpha': [0.0001, 0.001, 0.01, 0.1, 1, 10, 100, 1000, 10000]\n",
    "        }, cv = 3, scoring = 'roc_auc', verbose = 10)\n",
    "\n",
    "grid_result = gsc.fit(X_bow_tr, y_bow_tr)\n",
    "best_params = grid_result.best_params_\n",
    "print(best_params)\n",
    "print(gsc.score(X_bow_tr, y_bow_tr))\n",
    "best_model = MultinomialNB(alpha = best_params['alpha'])"
   ]
  },
  {
   "cell_type": "code",
   "execution_count": 93,
   "metadata": {},
   "outputs": [
    {
     "data": {
      "image/png": "[encoded data removed]",
      "text/plain": [
       "<Figure size 432x288 with 1 Axes>"
      ]
     },
     "metadata": {
      "needs_background": "light"
     },
     "output_type": "display_data"
    }
   ],
   "source": [
    "#Plotting the ROC-AUC curve using Naive Bayes\n",
    "best_model.fit(X_bow_tr, y_bow_tr)\n",
    "\n",
    "y_pred_tr = best_model.predict_proba(X_bow_tr)[::,1]\n",
    "y_pred_te = best_model.predict_proba(X_bow_te)[::,1]\n",
    "fpr_tr, tpr_tr, _tr = metrics.roc_curve(y_bow_tr,  y_pred_tr)\n",
    "fpr_te, tpr_te, _te = metrics.roc_curve(y_bow_te,  y_pred_te)\n",
    "auc_tr_bow_nb1 = metrics.roc_auc_score(y_bow_tr, y_pred_tr)\n",
    "auc_te_bow_nb1 = metrics.roc_auc_score(y_bow_te, y_pred_te)\n",
    "plt.plot(fpr_tr,tpr_tr,label=\"Train, auc=\"+str(auc_tr_bow_nb1))\n",
    "plt.plot(fpr_te,tpr_te,label=\"Test, auc=\"+str(auc_te_bow_nb1))\n",
    "plt.legend(loc=4)\n",
    "plt.show()"
   ]
  },
  {
   "cell_type": "code",
   "execution_count": 27,
   "metadata": {},
   "outputs": [
    {
     "data": {
      "image/png": "[encoded data removed]",
      "text/plain": [
       "<Figure size 432x288 with 1 Axes>"
      ]
     },
     "metadata": {
      "needs_background": "light"
     },
     "output_type": "display_data"
    }
   ],
   "source": [
    "#Plotting the ROC-AUC curve using Naive Bayes\n",
    "clf = MultinomialNB(alpha = 0.001)\n",
    "clf.fit(X_bow_tr, y_bow_tr)\n",
    "# roc_auc_score(y_true, y_score) the 2nd parameter should be probability estimates of the positive class\n",
    "# not the predicted outputs\n",
    "\n",
    "y_pred_tr = clf.predict_proba(X_bow_tr)[::,1]\n",
    "y_pred_te = clf.predict_proba(X_bow_te)[::,1]\n",
    "fpr_tr, tpr_tr, _tr = metrics.roc_curve(y_bow_tr,  y_pred_tr)\n",
    "fpr_te, tpr_te, _te = metrics.roc_curve(y_bow_te,  y_pred_te)\n",
    "auc_tr_bow_nb2 = metrics.roc_auc_score(y_bow_tr, y_pred_tr)\n",
    "auc_te_bow_nb2 = metrics.roc_auc_score(y_bow_te, y_pred_te)\n",
    "plt.plot(fpr_tr,tpr_tr,label=\"Train, auc=\"+str(auc_tr_bow_nb2))\n",
    "plt.plot(fpr_te,tpr_te,label=\"Test, auc=\"+str(auc_te_bow_nb2))\n",
    "plt.legend(loc=4)\n",
    "plt.show()"
   ]
  },
  {
   "cell_type": "code",
   "execution_count": 28,
   "metadata": {
    "scrolled": false
   },
   "outputs": [
    {
     "name": "stdout",
     "output_type": "stream",
     "text": [
      "Fitting 5 folds for each of 9 candidates, totalling 45 fits\n"
     ]
    },
    {
     "name": "stderr",
     "output_type": "stream",
     "text": [
      "[Parallel(n_jobs=-1)]: Using backend LokyBackend with 12 concurrent workers.\n",
      "[Parallel(n_jobs=-1)]: Done   1 tasks      | elapsed:    3.0s\n",
      "[Parallel(n_jobs=-1)]: Done   8 tasks      | elapsed:    3.0s\n",
      "[Parallel(n_jobs=-1)]: Done  17 tasks      | elapsed:    3.1s\n",
      "[Parallel(n_jobs=-1)]: Done  27 out of  45 | elapsed:    3.2s remaining:    2.1s\n",
      "[Parallel(n_jobs=-1)]: Done  32 out of  45 | elapsed:    3.2s remaining:    1.2s\n",
      "[Parallel(n_jobs=-1)]: Done  37 out of  45 | elapsed:    3.2s remaining:    0.6s\n",
      "[Parallel(n_jobs=-1)]: Done  42 out of  45 | elapsed:    3.2s remaining:    0.1s\n",
      "[Parallel(n_jobs=-1)]: Done  45 out of  45 | elapsed:    3.3s finished\n"
     ]
    },
    {
     "name": "stdout",
     "output_type": "stream",
     "text": [
      "{'alpha': 0.001}\n",
      "-0.010816326530612244\n"
     ]
    }
   ],
   "source": [
    "#Hyperparamter tuning for logistic regression\n",
    "gsc = GridSearchCV(\n",
    "    estimator = SGDClassifier(loss = 'log'), \n",
    "    param_grid = {\n",
    "        'alpha': [0.00001, 0.0001, 0.001, 0.01, 0.1, 1, 10, 100, 1000]\n",
    "    }, cv = 5, scoring='neg_mean_squared_error', verbose=10, n_jobs=-1)\n",
    "\n",
    "grid_result = gsc.fit(X_bow_tr, y_bow_tr)\n",
    "best_params = grid_result.best_params_\n",
    "print(best_params)\n",
    "print(gsc.score(X_bow_tr, y_bow_tr))\n",
    "best_model = SGDClassifier(loss = 'log', alpha = best_params['alpha'])"
   ]
  },
  {
   "cell_type": "code",
   "execution_count": 29,
   "metadata": {},
   "outputs": [
    {
     "data": {
      "image/png": "[encoded data removed]",
      "text/plain": [
       "<Figure size 432x288 with 1 Axes>"
      ]
     },
     "metadata": {
      "needs_background": "light"
     },
     "output_type": "display_data"
    }
   ],
   "source": [
    "#Roc curve using logistic regression\n",
    "#Code taken from https://www.datacamp.com/community/tutorials/understanding-logistic-regression-python\n",
    "best_model.fit(X_bow_tr, y_bow_tr)\n",
    "\n",
    "y_pred_tr = best_model.predict_proba(X_bow_tr)[::,1]\n",
    "y_pred_te = best_model.predict_proba(X_bow_te)[::,1]\n",
    "fpr_tr, tpr_tr, _tr = metrics.roc_curve(y_bow_tr,  y_pred_tr)\n",
    "fpr_te, tpr_te, _te = metrics.roc_curve(y_bow_te,  y_pred_te)\n",
    "auc_tr_bow_lr = metrics.roc_auc_score(y_bow_tr, y_pred_tr)\n",
    "auc_te_bow_lr = metrics.roc_auc_score(y_bow_te, y_pred_te)\n",
    "plt.plot(fpr_tr,tpr_tr,label=\"Train, auc=\"+str(auc_tr_bow_lr))\n",
    "plt.plot(fpr_te,tpr_te,label=\"Test, auc=\"+str(auc_te_bow_lr))\n",
    "plt.legend(loc=4)\n",
    "plt.show()"
   ]
  },
  {
   "cell_type": "code",
   "execution_count": 96,
   "metadata": {},
   "outputs": [
    {
     "name": "stdout",
     "output_type": "stream",
     "text": [
      "Fitting 5 folds for each of 9 candidates, totalling 45 fits\n"
     ]
    },
    {
     "name": "stderr",
     "output_type": "stream",
     "text": [
      "[Parallel(n_jobs=-1)]: Using backend LokyBackend with 12 concurrent workers.\n",
      "[Parallel(n_jobs=-1)]: Done   1 tasks      | elapsed:    0.0s\n",
      "[Parallel(n_jobs=-1)]: Batch computation too fast (0.0479s.) Setting batch_size=8.\n",
      "[Parallel(n_jobs=-1)]: Done   7 out of  45 | elapsed:    0.0s remaining:    0.4s\n",
      "[Parallel(n_jobs=-1)]: Done  12 out of  45 | elapsed:    0.1s remaining:    0.3s\n",
      "[Parallel(n_jobs=-1)]: Done  17 out of  45 | elapsed:    0.1s remaining:    0.2s\n",
      "[Parallel(n_jobs=-1)]: Done  22 out of  45 | elapsed:    0.1s remaining:    0.1s\n",
      "[Parallel(n_jobs=-1)]: Done  37 out of  45 | elapsed:    0.2s remaining:    0.0s\n",
      "[Parallel(n_jobs=-1)]: Done  45 out of  45 | elapsed:    0.2s finished\n"
     ]
    },
    {
     "name": "stdout",
     "output_type": "stream",
     "text": [
      "{'alpha': 0.001}\n",
      "-0.0020408163265306124\n"
     ]
    }
   ],
   "source": [
    "#Hpyerparamter tuning for SVM\n",
    "gsc = GridSearchCV(\n",
    "    estimator = SGDClassifier(loss = 'hinge'), \n",
    "    param_grid = {\n",
    "        'alpha': [0.00001, 0.0001, 0.001, 0.01, 0.1, 1, 10, 100, 1000]\n",
    "    }, cv = 5, scoring='neg_mean_squared_error', verbose=10, n_jobs=-1)\n",
    "\n",
    "grid_result = gsc.fit(X_bow_tr, y_bow_tr)\n",
    "best_params = grid_result.best_params_\n",
    "print(best_params)\n",
    "print(gsc.score(X_bow_tr, y_bow_tr))\n",
    "best_model = SGDClassifier(loss = 'hinge', alpha = best_params['alpha'])"
   ]
  },
  {
   "cell_type": "code",
   "execution_count": 97,
   "metadata": {},
   "outputs": [
    {
     "data": {
      "image/png": "[encoded data removed]",
      "text/plain": [
       "<Figure size 432x288 with 1 Axes>"
      ]
     },
     "metadata": {
      "needs_background": "light"
     },
     "output_type": "display_data"
    }
   ],
   "source": [
    "#Roc curve using SVM\n",
    "#Code taken from https://www.datacamp.com/community/tutorials/understanding-logistic-regression-python\n",
    "best_model.fit(X_bow_tr, y_bow_tr)\n",
    "\n",
    "y_pred_tr = best_model.predict(X_bow_tr)\n",
    "y_pred_te = best_model.predict(X_bow_te)\n",
    "fpr_tr, tpr_tr, _tr = metrics.roc_curve(y_bow_tr,  y_pred_tr)\n",
    "fpr_te, tpr_te, _te = metrics.roc_curve(y_bow_te,  y_pred_te)\n",
    "auc_tr_bow_svm = metrics.roc_auc_score(y_bow_tr, y_pred_tr)\n",
    "auc_te_bow_svm = metrics.roc_auc_score(y_bow_te, y_pred_te)\n",
    "plt.plot(fpr_tr,tpr_tr,label=\"Train, auc=\"+str(auc_tr_bow_svm))\n",
    "plt.plot(fpr_te,tpr_te,label=\"Test, auc=\"+str(auc_te_bow_svm))\n",
    "plt.legend(loc=4)\n",
    "plt.show()"
   ]
  },
  {
   "cell_type": "code",
   "execution_count": 32,
   "metadata": {},
   "outputs": [
    {
     "name": "stderr",
     "output_type": "stream",
     "text": [
      "\r",
      "  0%|                                                                                            | 0/5 [00:00<?, ?it/s]"
     ]
    },
    {
     "name": "stdout",
     "output_type": "stream",
     "text": [
      "The accuracy for value of depth: 2 and min samples split: 5 is 0.8914285714285715 for train and 0.8942857142857142for cv\n",
      "The accuracy for value of depth: 2 and min samples split: 10 is 0.8914285714285715 for train and 0.8942857142857142for cv\n",
      "The accuracy for value of depth: 2 and min samples split: 20 is 0.8914285714285715 for train and 0.8942857142857142for cv\n",
      "The accuracy for value of depth: 2 and min samples split: 30 is 0.8914285714285715 for train and 0.8942857142857142for cv\n",
      "The accuracy for value of depth: 2 and min samples split: 50 is 0.8914285714285715 for train and 0.8942857142857142for cv\n",
      "The accuracy for value of depth: 2 and min samples split: 100 is 0.8914285714285715 for train and 0.8942857142857142for cv\n"
     ]
    },
    {
     "name": "stderr",
     "output_type": "stream",
     "text": [
      "\r",
      " 20%|████████████████▊                                                                   | 1/5 [00:00<00:00,  5.45it/s]"
     ]
    },
    {
     "name": "stdout",
     "output_type": "stream",
     "text": [
      "The accuracy for value of depth: 5 and min samples split: 5 is 0.9038775510204081 for train and 0.9052380952380953for cv\n",
      "The accuracy for value of depth: 5 and min samples split: 10 is 0.9040816326530612 for train and 0.9052380952380953for cv\n",
      "The accuracy for value of depth: 5 and min samples split: 20 is 0.9026530612244898 for train and 0.9042857142857142for cv\n",
      "The accuracy for value of depth: 5 and min samples split: 30 is 0.9026530612244898 for train and 0.9047619047619048for cv\n",
      "The accuracy for value of depth: 5 and min samples split: 50 is 0.9018367346938776 for train and 0.9047619047619048for cv\n",
      "The accuracy for value of depth: 5 and min samples split: 100 is 0.9018367346938776 for train and 0.9047619047619048for cv\n"
     ]
    },
    {
     "name": "stderr",
     "output_type": "stream",
     "text": [
      "\r",
      " 40%|█████████████████████████████████▌                                                  | 2/5 [00:00<00:00,  4.82it/s]"
     ]
    },
    {
     "name": "stdout",
     "output_type": "stream",
     "text": [
      "The accuracy for value of depth: 10 and min samples split: 5 is 0.9179591836734694 for train and 0.910952380952381for cv\n",
      "The accuracy for value of depth: 10 and min samples split: 10 is 0.9177551020408163 for train and 0.9119047619047619for cv\n",
      "The accuracy for value of depth: 10 and min samples split: 20 is 0.9155102040816326 for train and 0.9080952380952381for cv\n",
      "The accuracy for value of depth: 10 and min samples split: 30 is 0.9142857142857143 for train and 0.91for cv\n",
      "The accuracy for value of depth: 10 and min samples split: 50 is 0.9140816326530612 for train and 0.9095238095238095for cv\n",
      "The accuracy for value of depth: 10 and min samples split: 100 is 0.9138775510204081 for train and 0.910952380952381for cv\n"
     ]
    },
    {
     "name": "stderr",
     "output_type": "stream",
     "text": [
      "\r",
      " 60%|██████████████████████████████████████████████████▍                                 | 3/5 [00:00<00:00,  3.81it/s]"
     ]
    },
    {
     "name": "stdout",
     "output_type": "stream",
     "text": [
      "The accuracy for value of depth: 20 and min samples split: 5 is 0.9391836734693878 for train and 0.9095238095238095for cv\n",
      "The accuracy for value of depth: 20 and min samples split: 10 is 0.9369387755102041 for train and 0.91for cv\n",
      "The accuracy for value of depth: 20 and min samples split: 20 is 0.9310204081632653 for train and 0.9095238095238095for cv\n",
      "The accuracy for value of depth: 20 and min samples split: 30 is 0.9277551020408163 for train and 0.9085714285714286for cv\n",
      "The accuracy for value of depth: 20 and min samples split: 50 is 0.9257142857142857 for train and 0.909047619047619for cv\n",
      "The accuracy for value of depth: 20 and min samples split: 100 is 0.9259183673469388 for train and 0.909047619047619for cv\n"
     ]
    },
    {
     "name": "stderr",
     "output_type": "stream",
     "text": [
      "\r",
      " 80%|███████████████████████████████████████████████████████████████████▏                | 4/5 [00:01<00:00,  2.62it/s]"
     ]
    },
    {
     "name": "stdout",
     "output_type": "stream",
     "text": [
      "The accuracy for value of depth: 50 and min samples split: 5 is 0.9677551020408163 for train and 0.9014285714285715for cv\n",
      "The accuracy for value of depth: 50 and min samples split: 10 is 0.9628571428571429 for train and 0.9061904761904762for cv\n",
      "The accuracy for value of depth: 50 and min samples split: 20 is 0.9528571428571428 for train and 0.9066666666666666for cv\n",
      "The accuracy for value of depth: 50 and min samples split: 30 is 0.9469387755102041 for train and 0.9066666666666666for cv\n",
      "The accuracy for value of depth: 50 and min samples split: 50 is 0.9430612244897959 for train and 0.9095238095238095for cv\n",
      "The accuracy for value of depth: 50 and min samples split: 100 is 0.9408163265306122 for train and 0.9095238095238095for cv\n"
     ]
    },
    {
     "name": "stderr",
     "output_type": "stream",
     "text": [
      "100%|████████████████████████████████████████████████████████████████████████████████████| 5/5 [00:02<00:00,  1.40it/s]\n"
     ]
    }
   ],
   "source": [
    "#Hyperparamter tuning for Decision trees\n",
    "D = [2, 5, 10, 20, 50]\n",
    "MSS = [5, 10, 20, 30, 50, 100]\n",
    "for d in tqdm(D):\n",
    "    for m in MSS:\n",
    "        clf = DecisionTreeClassifier(max_depth = d, min_samples_split = m)\n",
    "        clf.fit(X_bow_tr, y_bow_tr)\n",
    "\n",
    "        y_pred_tr = clf.predict(X_bow_tr)\n",
    "        y_pred_cv = clf.predict(X_bow_cv)\n",
    "\n",
    "        tr_acc = accuracy_score(y_bow_tr, y_pred_tr)\n",
    "        cv_acc = accuracy_score(y_bow_cv, y_pred_cv)\n",
    "    \n",
    "        print(\"The accuracy for value of depth: \" + str(d)+\" and min samples split: \" + str(m) +\" is \" +str(tr_acc)+\" for train and \" + str(cv_acc) +\"for cv\")"
   ]
  },
  {
   "cell_type": "code",
   "execution_count": 21,
   "metadata": {},
   "outputs": [
    {
     "name": "stdout",
     "output_type": "stream",
     "text": [
      "Fitting 5 folds for each of 30 candidates, totalling 150 fits\n"
     ]
    },
    {
     "name": "stderr",
     "output_type": "stream",
     "text": [
      "[Parallel(n_jobs=-1)]: Using backend LokyBackend with 12 concurrent workers.\n",
      "[Parallel(n_jobs=-1)]: Done   1 tasks      | elapsed:    2.2s\n",
      "[Parallel(n_jobs=-1)]: Done   8 tasks      | elapsed:    2.2s\n",
      "[Parallel(n_jobs=-1)]: Done  17 tasks      | elapsed:    2.3s\n",
      "[Parallel(n_jobs=-1)]: Done  26 tasks      | elapsed:    2.4s\n",
      "[Parallel(n_jobs=-1)]: Done  37 tasks      | elapsed:    2.5s\n",
      "[Parallel(n_jobs=-1)]: Done  48 tasks      | elapsed:    2.6s\n",
      "[Parallel(n_jobs=-1)]: Done  61 tasks      | elapsed:    2.8s\n",
      "[Parallel(n_jobs=-1)]: Done  74 tasks      | elapsed:    3.0s\n",
      "[Parallel(n_jobs=-1)]: Done  89 tasks      | elapsed:    3.2s\n",
      "[Parallel(n_jobs=-1)]: Done 104 tasks      | elapsed:    3.7s\n",
      "[Parallel(n_jobs=-1)]: Done 121 tasks      | elapsed:    4.2s\n",
      "[Parallel(n_jobs=-1)]: Done 143 out of 150 | elapsed:    5.3s remaining:    0.2s\n",
      "[Parallel(n_jobs=-1)]: Done 150 out of 150 | elapsed:    5.6s finished\n"
     ]
    },
    {
     "name": "stdout",
     "output_type": "stream",
     "text": [
      "{'max_depth': 50, 'min_samples_split': 100}\n",
      "0.903440524968664\n"
     ]
    }
   ],
   "source": [
    "gsc = GridSearchCV(\n",
    "    estimator = DecisionTreeClassifier(), \n",
    "    param_grid = {\n",
    "        'max_depth': [2, 5, 10, 20, 50],\n",
    "        'min_samples_split': [5, 10, 20, 30, 50, 100]\n",
    "    }, cv = 5, scoring='roc_auc', verbose=10, n_jobs=-1)\n",
    "\n",
    "grid_result = gsc.fit(X_bow_tr, y_bow_tr)\n",
    "best_params = grid_result.best_params_\n",
    "print(best_params)\n",
    "print(gsc.score(X_bow_tr, y_bow_tr))\n",
    "best_model = DecisionTreeClassifier(max_depth = best_params['max_depth'], min_samples_split = best_params['min_samples_split'])"
   ]
  },
  {
   "cell_type": "code",
   "execution_count": 22,
   "metadata": {},
   "outputs": [
    {
     "data": {
      "image/png": "[encoded data removed]",
      "text/plain": [
       "<Figure size 432x288 with 1 Axes>"
      ]
     },
     "metadata": {
      "needs_background": "light"
     },
     "output_type": "display_data"
    }
   ],
   "source": [
    "#Plotting the ROC curve for Decision Tree\n",
    "best_model.fit(X_bow_tr, y_bow_tr)\n",
    "\n",
    "y_pred_tr = best_model.predict_proba(X_bow_tr)[::,1]\n",
    "y_pred_te = best_model.predict_proba(X_bow_te)[::,1]\n",
    "fpr_tr, tpr_tr, _tr = metrics.roc_curve(y_bow_tr,  y_pred_tr)\n",
    "fpr_te, tpr_te, _te = metrics.roc_curve(y_bow_te,  y_pred_te)\n",
    "auc_tr_bow_dt = metrics.roc_auc_score(y_bow_tr, y_pred_tr)\n",
    "auc_te_bow_dt = metrics.roc_auc_score(y_bow_te, y_pred_te)\n",
    "plt.plot(fpr_tr,tpr_tr,label=\"Train, auc=\"+str(auc_tr_bow_dt))\n",
    "plt.plot(fpr_te,tpr_te,label=\"Test, auc=\"+str(auc_te_bow_dt))\n",
    "plt.legend(loc=4)\n",
    "plt.show()"
   ]
  },
  {
   "cell_type": "markdown",
   "metadata": {},
   "source": [
    "# 2 TF-IDF vectors"
   ]
  },
  {
   "cell_type": "code",
   "execution_count": 54,
   "metadata": {
    "scrolled": true
   },
   "outputs": [
    {
     "name": "stdout",
     "output_type": "stream",
     "text": [
      "(364171, 10000)\n",
      "(364171, 10000)\n"
     ]
    }
   ],
   "source": [
    "tfidfv = TfidfVectorizer(ngram_range = (1, 4), min_df = 10, max_features = 10000)\n",
    "reviews_tfidf = tfidfv.fit_transform(preprocessed_reviews)\n",
    "summaries_tfidf = tfidfv.fit_transform(preprocessed_summaries)\n",
    "print(reviews_tfidf.shape)\n",
    "print(summaries_tfidf.shape)"
   ]
  },
  {
   "cell_type": "code",
   "execution_count": 55,
   "metadata": {
    "scrolled": true
   },
   "outputs": [
    {
     "name": "stdout",
     "output_type": "stream",
     "text": [
      "1    8868\n",
      "0    1132\n",
      "Name: Score, dtype: int64\n"
     ]
    }
   ],
   "source": [
    "from scipy.sparse import hstack\n",
    "from sklearn.model_selection import train_test_split\n",
    "from sklearn.metrics import roc_auc_score\n",
    "X_tfidf = hstack((reviews_tfidf, summaries_tfidf)).tocsr()\n",
    "X_tfidf = X_tfidf[:10000]\n",
    "Y = Y[:10000]\n",
    "print(Y.value_counts())\n",
    "X_tfidf_1, X_tfidf_te, y_tfidf_1, y_tfidf_te = train_test_split(X_tfidf, Y, test_size = 0.3, random_state = 0)\n",
    "X_tfidf_tr, X_tfidf_cv, y_tfidf_tr, y_tfidf_cv = train_test_split(X_tfidf_1, y_tfidf_1, test_size=0.3)"
   ]
  },
  {
   "cell_type": "code",
   "execution_count": null,
   "metadata": {},
   "outputs": [],
   "source": [
    "#Hyperparamter tuning for KNN\n",
    "gsc = GridSearchCV(\n",
    "        estimator = KNeighborsClassifier(),\n",
    "        param_grid = {\n",
    "            'n_neighbors': [1, 3, 5, 9, 13, 19, 25, 35, 50]\n",
    "        }, cv = 3, scoring = 'roc_auc', verbose = 10)\n",
    "\n",
    "grid_result = gsc.fit(X_tfidf_tr, y_tfidf_tr)\n",
    "best_params = grid_result.best_params_\n",
    "print(best_params)\n",
    "print(gsc.score(X_tfidf_tr, y_tfidf_tr))\n",
    "best_model = KNeighborsClassifier(n_neighbors = best_params['n_neighbors'])"
   ]
  },
  {
   "cell_type": "code",
   "execution_count": null,
   "metadata": {},
   "outputs": [],
   "source": [
    "#Plotting the ROC curve for KNN\n",
    "best_model.fit(X_bow_tr, y_bow_tr)\n",
    "\n",
    "y_pred_tr = best_model.predict_proba(X_bow_tr)[::,1]\n",
    "y_pred_te = best_model.predict_proba(X_bow_te)[::,1]\n",
    "fpr_tr, tpr_tr, _tr = metrics.roc_curve(y_bow_tr,  y_pred_tr)\n",
    "fpr_te, tpr_te, _te = metrics.roc_curve(y_bow_te,  y_pred_te)\n",
    "auc_tr_tfidf_knn = metrics.roc_auc_score(y_bow_tr, y_pred_tr)\n",
    "auc_te_tfidf_knn = metrics.roc_auc_score(y_bow_te, y_pred_te)\n",
    "plt.plot(fpr_tr,tpr_tr,label=\"Train, auc=\"+str(auc_tr_tfidf_knn))\n",
    "plt.plot(fpr_te,tpr_te,label=\"Test, auc=\"+str(auc_te_tfidf_knn))\n",
    "plt.legend(loc=4)\n",
    "plt.show()"
   ]
  },
  {
   "cell_type": "code",
   "execution_count": 26,
   "metadata": {},
   "outputs": [
    {
     "name": "stdout",
     "output_type": "stream",
     "text": [
      "Fitting 3 folds for each of 9 candidates, totalling 27 fits\n"
     ]
    },
    {
     "name": "stderr",
     "output_type": "stream",
     "text": [
      "[Parallel(n_jobs=1)]: Using backend SequentialBackend with 1 concurrent workers.\n"
     ]
    },
    {
     "name": "stdout",
     "output_type": "stream",
     "text": [
      "[CV] alpha=0.0001 ....................................................\n",
      "[CV] ....................... alpha=0.0001, score=-0.082, total=   0.0s\n"
     ]
    },
    {
     "name": "stderr",
     "output_type": "stream",
     "text": [
      "[Parallel(n_jobs=1)]: Done   1 out of   1 | elapsed:    0.0s remaining:    0.0s\n"
     ]
    },
    {
     "name": "stdout",
     "output_type": "stream",
     "text": [
      "[CV] alpha=0.0001 ....................................................\n",
      "[CV] ....................... alpha=0.0001, score=-0.084, total=   0.0s\n"
     ]
    },
    {
     "name": "stderr",
     "output_type": "stream",
     "text": [
      "[Parallel(n_jobs=1)]: Done   2 out of   2 | elapsed:    0.0s remaining:    0.0s\n"
     ]
    },
    {
     "name": "stdout",
     "output_type": "stream",
     "text": [
      "[CV] alpha=0.0001 ....................................................\n",
      "[CV] ....................... alpha=0.0001, score=-0.092, total=   0.0s\n"
     ]
    },
    {
     "name": "stderr",
     "output_type": "stream",
     "text": [
      "[Parallel(n_jobs=1)]: Done   3 out of   3 | elapsed:    0.0s remaining:    0.0s\n"
     ]
    },
    {
     "name": "stdout",
     "output_type": "stream",
     "text": [
      "[CV] alpha=0.001 .....................................................\n",
      "[CV] ........................ alpha=0.001, score=-0.080, total=   0.0s\n"
     ]
    },
    {
     "name": "stderr",
     "output_type": "stream",
     "text": [
      "[Parallel(n_jobs=1)]: Done   4 out of   4 | elapsed:    0.0s remaining:    0.0s\n"
     ]
    },
    {
     "name": "stdout",
     "output_type": "stream",
     "text": [
      "[CV] alpha=0.001 .....................................................\n",
      "[CV] ........................ alpha=0.001, score=-0.081, total=   0.0s\n"
     ]
    },
    {
     "name": "stderr",
     "output_type": "stream",
     "text": [
      "[Parallel(n_jobs=1)]: Done   5 out of   5 | elapsed:    0.0s remaining:    0.0s\n"
     ]
    },
    {
     "name": "stdout",
     "output_type": "stream",
     "text": [
      "[CV] alpha=0.001 .....................................................\n",
      "[CV] ........................ alpha=0.001, score=-0.088, total=   0.0s\n"
     ]
    },
    {
     "name": "stderr",
     "output_type": "stream",
     "text": [
      "[Parallel(n_jobs=1)]: Done   6 out of   6 | elapsed:    0.0s remaining:    0.0s\n"
     ]
    },
    {
     "name": "stdout",
     "output_type": "stream",
     "text": [
      "[CV] alpha=0.01 ......................................................\n",
      "[CV] ......................... alpha=0.01, score=-0.073, total=   0.0s\n"
     ]
    },
    {
     "name": "stderr",
     "output_type": "stream",
     "text": [
      "[Parallel(n_jobs=1)]: Done   7 out of   7 | elapsed:    0.0s remaining:    0.0s\n"
     ]
    },
    {
     "name": "stdout",
     "output_type": "stream",
     "text": [
      "[CV] alpha=0.01 ......................................................\n",
      "[CV] ......................... alpha=0.01, score=-0.076, total=   0.0s\n"
     ]
    },
    {
     "name": "stderr",
     "output_type": "stream",
     "text": [
      "[Parallel(n_jobs=1)]: Done   8 out of   8 | elapsed:    0.0s remaining:    0.0s\n"
     ]
    },
    {
     "name": "stdout",
     "output_type": "stream",
     "text": [
      "[CV] alpha=0.01 ......................................................\n",
      "[CV] ......................... alpha=0.01, score=-0.082, total=   0.0s\n"
     ]
    },
    {
     "name": "stderr",
     "output_type": "stream",
     "text": [
      "[Parallel(n_jobs=1)]: Done   9 out of   9 | elapsed:    0.0s remaining:    0.0s\n"
     ]
    },
    {
     "name": "stdout",
     "output_type": "stream",
     "text": [
      "[CV] alpha=0.1 .......................................................\n",
      "[CV] .......................... alpha=0.1, score=-0.073, total=   0.0s\n",
      "[CV] alpha=0.1 .......................................................\n",
      "[CV] .......................... alpha=0.1, score=-0.075, total=   0.0s\n",
      "[CV] alpha=0.1 .......................................................\n",
      "[CV] .......................... alpha=0.1, score=-0.080, total=   0.0s\n",
      "[CV] alpha=1 .........................................................\n",
      "[CV] ............................ alpha=1, score=-0.111, total=   0.0s\n",
      "[CV] alpha=1 .........................................................\n",
      "[CV] ............................ alpha=1, score=-0.109, total=   0.0s\n",
      "[CV] alpha=1 .........................................................\n",
      "[CV] ............................ alpha=1, score=-0.110, total=   0.0s\n",
      "[CV] alpha=10 ........................................................\n",
      "[CV] ........................... alpha=10, score=-0.111, total=   0.0s\n",
      "[CV] alpha=10 ........................................................\n",
      "[CV] ........................... alpha=10, score=-0.111, total=   0.0s\n",
      "[CV] alpha=10 ........................................................\n",
      "[CV] ........................... alpha=10, score=-0.111, total=   0.0s\n",
      "[CV] alpha=100 .......................................................\n",
      "[CV] .......................... alpha=100, score=-0.111, total=   0.0s\n",
      "[CV] alpha=100 .......................................................\n",
      "[CV] .......................... alpha=100, score=-0.111, total=   0.0s\n",
      "[CV] alpha=100 .......................................................\n",
      "[CV] .......................... alpha=100, score=-0.111, total=   0.0s\n",
      "[CV] alpha=1000 ......................................................\n",
      "[CV] ......................... alpha=1000, score=-0.111, total=   0.0s\n",
      "[CV] alpha=1000 ......................................................\n",
      "[CV] ......................... alpha=1000, score=-0.111, total=   0.0s\n",
      "[CV] alpha=1000 ......................................................\n",
      "[CV] ......................... alpha=1000, score=-0.111, total=   0.0s\n",
      "[CV] alpha=10000 .....................................................\n",
      "[CV] ........................ alpha=10000, score=-0.111, total=   0.0s\n",
      "[CV] alpha=10000 .....................................................\n",
      "[CV] ........................ alpha=10000, score=-0.111, total=   0.0s\n",
      "[CV] alpha=10000 .....................................................\n",
      "[CV] ........................ alpha=10000, score=-0.111, total=   0.0s\n"
     ]
    },
    {
     "name": "stderr",
     "output_type": "stream",
     "text": [
      "[Parallel(n_jobs=1)]: Done  27 out of  27 | elapsed:    0.2s finished\n"
     ]
    },
    {
     "name": "stdout",
     "output_type": "stream",
     "text": [
      "{'alpha': 0.1}\n",
      "-0.01020408163265306\n"
     ]
    }
   ],
   "source": [
    "#Hyperparameter tuning for Naive Bayes\n",
    "from sklearn.model_selection import GridSearchCV\n",
    "gsc = GridSearchCV(\n",
    "        estimator = MultinomialNB(),\n",
    "        param_grid = {\n",
    "            'alpha': [0.0001, 0.001, 0.01, 0.1, 1, 10, 100, 1000, 10000]\n",
    "        }, cv = 3, scoring = 'neg_mean_squared_error', verbose = 10)\n",
    "\n",
    "grid_result = gsc.fit(X_tfidf_tr, y_tfidf_tr)\n",
    "best_params = grid_result.best_params_\n",
    "print(best_params)\n",
    "print(gsc.score(X_tfidf_tr, y_tfidf_tr))\n",
    "best_model = MultinomialNB(alpha = best_params['alpha'])"
   ]
  },
  {
   "cell_type": "code",
   "execution_count": 27,
   "metadata": {},
   "outputs": [
    {
     "data": {
      "image/png": "[encoded data removed]",
      "text/plain": [
       "<Figure size 432x288 with 1 Axes>"
      ]
     },
     "metadata": {
      "needs_background": "light"
     },
     "output_type": "display_data"
    }
   ],
   "source": [
    "#Plotting the ROC curve for Niave Bayes\n",
    "best_model.fit(X_tfidf_tr, y_tfidf_tr)\n",
    "\n",
    "y_pred_tr = best_model.predict_proba(X_tfidf_tr)[::,1]\n",
    "y_pred_te = best_model.predict_proba(X_tfidf_te)[::,1]\n",
    "fpr_tr, tpr_tr, _tr = metrics.roc_curve(y_tfidf_tr,  y_pred_tr)\n",
    "fpr_te, tpr_te, _te = metrics.roc_curve(y_tfidf_te,  y_pred_te)\n",
    "auc_tr_tfidf_nb = metrics.roc_auc_score(y_tfidf_tr, y_pred_tr)\n",
    "auc_te_tfidf_nb = metrics.roc_auc_score(y_tfidf_te, y_pred_te)\n",
    "plt.plot(fpr_tr,tpr_tr,label=\"Train, auc=\"+str(auc_tr_tfidf_nb))\n",
    "plt.plot(fpr_te,tpr_te,label=\"Test, auc=\"+str(auc_te_tfidf_nb))\n",
    "plt.legend(loc=4)\n",
    "plt.show()"
   ]
  },
  {
   "cell_type": "code",
   "execution_count": null,
   "metadata": {},
   "outputs": [],
   "source": [
    "#Hyperparamter tuning for logistic regression\n",
    "gsc = GridSearchCV(\n",
    "    estimator = SGDClassifier(loss = 'log'), \n",
    "    param_grid = {\n",
    "        'alpha': [0.00001, 0.0001, 0.001, 0.01, 0.1, 1, 10, 100, 1000]\n",
    "    }, cv = 5, scoring='roc_auc', verbose=10, n_jobs=-1)\n",
    "\n",
    "grid_result = gsc.fit(X_tfidf_tr, y_tfidf_tr)\n",
    "best_params = grid_result.best_params_\n",
    "print(best_params)\n",
    "print(gsc.score(X_tfidf_tr, y_tfidf_tr))\n",
    "best_model = SGDClassifier(loss = 'log', alpha = best_params['alpha'])"
   ]
  },
  {
   "cell_type": "code",
   "execution_count": 133,
   "metadata": {},
   "outputs": [
    {
     "data": {
      "image/png": "[encoded data removed]",
      "text/plain": [
       "<Figure size 432x288 with 1 Axes>"
      ]
     },
     "metadata": {
      "needs_background": "light"
     },
     "output_type": "display_data"
    }
   ],
   "source": [
    "#Roc curve using logistic regression\n",
    "#Code taken from https://www.datacamp.com/community/tutorials/understanding-logistic-regression-python\n",
    "best_model.fit(X_tfidf_tr, y_tfidf_tr)\n",
    "\n",
    "y_pred_tr = best_model.predict_proba(X_tfidf_tr)[::,1]\n",
    "y_pred_te = best_model.predict_proba(X_tfidf_te)[::,1]\n",
    "fpr_tr, tpr_tr, _tr = metrics.roc_curve(y_tfidf_tr,  y_pred_tr)\n",
    "fpr_te, tpr_te, _te = metrics.roc_curve(y_tfidf_te,  y_pred_te)\n",
    "auc_tr_tfidf_lr = metrics.roc_auc_score(y_tfidf_tr, y_pred_tr)\n",
    "auc_te_tfidf_lr = metrics.roc_auc_score(y_tfidf_te, y_pred_te)\n",
    "plt.plot(fpr_tr,tpr_tr,label=\"Train, auc=\"+str(auc_tr_tfidf_lr))\n",
    "plt.plot(fpr_te,tpr_te,label=\"Test, auc=\"+str(auc_te_tfidf_lr))\n",
    "plt.legend(loc=4)\n",
    "plt.show()"
   ]
  },
  {
   "cell_type": "code",
   "execution_count": 104,
   "metadata": {},
   "outputs": [
    {
     "name": "stdout",
     "output_type": "stream",
     "text": [
      "Fitting 5 folds for each of 9 candidates, totalling 45 fits\n"
     ]
    },
    {
     "name": "stderr",
     "output_type": "stream",
     "text": [
      "[Parallel(n_jobs=-1)]: Using backend LokyBackend with 12 concurrent workers.\n",
      "[Parallel(n_jobs=-1)]: Done   1 tasks      | elapsed:    0.0s\n",
      "[Parallel(n_jobs=-1)]: Batch computation too fast (0.0439s.) Setting batch_size=8.\n",
      "[Parallel(n_jobs=-1)]: Done   7 out of  45 | elapsed:    0.0s remaining:    0.4s\n",
      "[Parallel(n_jobs=-1)]: Done  12 out of  45 | elapsed:    0.1s remaining:    0.3s\n",
      "[Parallel(n_jobs=-1)]: Done  17 out of  45 | elapsed:    0.1s remaining:    0.2s\n",
      "[Parallel(n_jobs=-1)]: Done  22 out of  45 | elapsed:    0.1s remaining:    0.2s\n",
      "[Parallel(n_jobs=-1)]: Done  37 out of  45 | elapsed:    0.2s remaining:    0.0s\n",
      "[Parallel(n_jobs=-1)]: Done  45 out of  45 | elapsed:    0.2s finished\n"
     ]
    },
    {
     "name": "stdout",
     "output_type": "stream",
     "text": [
      "{'alpha': 0.0001}\n",
      "-0.00040816326530612246\n"
     ]
    }
   ],
   "source": [
    "#Hpyerparamter tuning for SVM\n",
    "gsc = GridSearchCV(\n",
    "    estimator = SGDClassifier(loss = 'hinge'), \n",
    "    param_grid = {\n",
    "        'alpha': [0.00001, 0.0001, 0.001, 0.01, 0.1, 1, 10, 100, 1000]\n",
    "    }, cv = 5, scoring='neg_mean_squared_error', verbose=10, n_jobs=-1)\n",
    "\n",
    "grid_result = gsc.fit(X_tfidf_tr, y_tfidf_tr)\n",
    "best_params = grid_result.best_params_\n",
    "print(best_params)\n",
    "print(gsc.score(X_tfidf_tr, y_tfidf_tr))\n",
    "best_model = SGDClassifier(loss = 'hinge', alpha = best_params['alpha'])"
   ]
  },
  {
   "cell_type": "code",
   "execution_count": 105,
   "metadata": {},
   "outputs": [
    {
     "data": {
      "image/png": "[encoded data removed]",
      "text/plain": [
       "<Figure size 432x288 with 1 Axes>"
      ]
     },
     "metadata": {
      "needs_background": "light"
     },
     "output_type": "display_data"
    }
   ],
   "source": [
    "#Roc curve using SVM\n",
    "#Code taken from https://www.datacamp.com/community/tutorials/understanding-logistic-regression-python\n",
    "best_model.fit(X_tfidf_tr, y_tfidf_tr)\n",
    "\n",
    "y_pred_tr = best_model.predict(X_tfidf_tr)\n",
    "y_pred_te = best_model.predict(X_tfidf_te)\n",
    "fpr_tr, tpr_tr, _tr = metrics.roc_curve(y_tfidf_tr,  y_pred_tr)\n",
    "fpr_te, tpr_te, _te = metrics.roc_curve(y_tfidf_te,  y_pred_te)\n",
    "auc_tr_tfidf_svm = metrics.roc_auc_score(y_tfidf_tr, y_pred_tr)\n",
    "auc_te_tfidf_svm = metrics.roc_auc_score(y_tfidf_te, y_pred_te)\n",
    "plt.plot(fpr_tr,tpr_tr,label=\"Train, auc=\"+str(auc_tr_tfidf_svm))\n",
    "plt.plot(fpr_te,tpr_te,label=\"Test, auc=\"+str(auc_te_tfidf_svm))\n",
    "plt.legend(loc=4)\n",
    "plt.show()"
   ]
  },
  {
   "cell_type": "code",
   "execution_count": 45,
   "metadata": {
    "scrolled": true
   },
   "outputs": [
    {
     "name": "stderr",
     "output_type": "stream",
     "text": [
      "\r",
      "  0%|                                                                                            | 0/5 [00:00<?, ?it/s]"
     ]
    },
    {
     "name": "stdout",
     "output_type": "stream",
     "text": [
      "The accuracy for value of depth: 2 and min samples split: 5 is 1.0 for train and 1.0 for cv\n",
      "The accuracy for value of depth: 2 and min samples split: 10 is 1.0 for train and 1.0 for cv\n",
      "The accuracy for value of depth: 2 and min samples split: 20 is 1.0 for train and 1.0 for cv\n",
      "The accuracy for value of depth: 2 and min samples split: 30 is 1.0 for train and 1.0 for cv\n",
      "The accuracy for value of depth: 2 and min samples split: 50 is 1.0 for train and 1.0 for cv\n",
      "The accuracy for value of depth: 2 and min samples split: 100 is 1.0 for train and 1.0 for cv\n"
     ]
    },
    {
     "name": "stderr",
     "output_type": "stream",
     "text": [
      "\r",
      " 20%|████████████████▊                                                                   | 1/5 [00:00<00:01,  3.45it/s]"
     ]
    },
    {
     "name": "stdout",
     "output_type": "stream",
     "text": [
      "The accuracy for value of depth: 5 and min samples split: 5 is 1.0 for train and 1.0 for cv\n",
      "The accuracy for value of depth: 5 and min samples split: 10 is 1.0 for train and 1.0 for cv\n",
      "The accuracy for value of depth: 5 and min samples split: 20 is 1.0 for train and 1.0 for cv\n",
      "The accuracy for value of depth: 5 and min samples split: 30 is 1.0 for train and 1.0 for cv\n",
      "The accuracy for value of depth: 5 and min samples split: 50 is 1.0 for train and 1.0 for cv\n",
      "The accuracy for value of depth: 5 and min samples split: 100 is 1.0 for train and 1.0 for cv\n"
     ]
    },
    {
     "name": "stderr",
     "output_type": "stream",
     "text": [
      "\r",
      " 40%|█████████████████████████████████▌                                                  | 2/5 [00:00<00:01,  2.71it/s]"
     ]
    },
    {
     "name": "stdout",
     "output_type": "stream",
     "text": [
      "The accuracy for value of depth: 10 and min samples split: 5 is 1.0 for train and 1.0 for cv\n",
      "The accuracy for value of depth: 10 and min samples split: 10 is 1.0 for train and 1.0 for cv\n",
      "The accuracy for value of depth: 10 and min samples split: 20 is 1.0 for train and 1.0 for cv\n",
      "The accuracy for value of depth: 10 and min samples split: 30 is 1.0 for train and 1.0 for cv\n",
      "The accuracy for value of depth: 10 and min samples split: 50 is 1.0 for train and 1.0 for cv\n",
      "The accuracy for value of depth: 10 and min samples split: 100 is 1.0 for train and 1.0 for cv\n"
     ]
    },
    {
     "name": "stderr",
     "output_type": "stream",
     "text": [
      "\r",
      " 60%|██████████████████████████████████████████████████▍                                 | 3/5 [00:01<00:01,  1.81it/s]"
     ]
    },
    {
     "name": "stdout",
     "output_type": "stream",
     "text": [
      "The accuracy for value of depth: 20 and min samples split: 5 is 1.0 for train and 1.0 for cv\n",
      "The accuracy for value of depth: 20 and min samples split: 10 is 1.0 for train and 1.0 for cv\n",
      "The accuracy for value of depth: 20 and min samples split: 20 is 1.0 for train and 1.0 for cv\n",
      "The accuracy for value of depth: 20 and min samples split: 30 is 1.0 for train and 1.0 for cv\n",
      "The accuracy for value of depth: 20 and min samples split: 50 is 1.0 for train and 1.0 for cv\n",
      "The accuracy for value of depth: 20 and min samples split: 100 is 1.0 for train and 1.0 for cv\n"
     ]
    },
    {
     "name": "stderr",
     "output_type": "stream",
     "text": [
      "\r",
      " 80%|███████████████████████████████████████████████████████████████████▏                | 4/5 [00:03<00:00,  1.05it/s]"
     ]
    },
    {
     "name": "stdout",
     "output_type": "stream",
     "text": [
      "The accuracy for value of depth: 50 and min samples split: 5 is 1.0 for train and 1.0 for cv\n",
      "The accuracy for value of depth: 50 and min samples split: 10 is 1.0 for train and 1.0 for cv\n",
      "The accuracy for value of depth: 50 and min samples split: 20 is 1.0 for train and 1.0 for cv\n",
      "The accuracy for value of depth: 50 and min samples split: 30 is 1.0 for train and 1.0 for cv\n",
      "The accuracy for value of depth: 50 and min samples split: 50 is 1.0 for train and 1.0 for cv\n",
      "The accuracy for value of depth: 50 and min samples split: 100 is 1.0 for train and 1.0 for cv\n"
     ]
    },
    {
     "name": "stderr",
     "output_type": "stream",
     "text": [
      "100%|████████████████████████████████████████████████████████████████████████████████████| 5/5 [00:07<00:00,  1.88s/it]\n"
     ]
    }
   ],
   "source": [
    "#Hyperparamter tuning for Decision trees\n",
    "D = [2, 5, 10, 20, 50]\n",
    "MSS = [5, 10, 20, 30, 50, 100]\n",
    "for d in tqdm(D):\n",
    "    for m in MSS:\n",
    "        clf = DecisionTreeClassifier(max_depth = d, min_samples_split = m)\n",
    "        clf.fit(X_tfidf_tr, y_tfidf_tr)\n",
    "\n",
    "        y_pred_tr = clf.predict(X_tfidf_tr)\n",
    "        y_pred_cv = clf.predict(X_tfidf_cv)\n",
    "\n",
    "        tr_acc = accuracy_score(y_tfidf_tr, y_tfidf_tr)\n",
    "        cv_acc = accuracy_score(y_tfidf_cv, y_tfidf_cv)\n",
    "    \n",
    "        print(\"The accuracy for value of depth: \" + str(d)+\" and min samples split: \" + str(m) +\" is \" +str(tr_acc)+\" for train and \" + str(cv_acc) +\" for cv\")"
   ]
  },
  {
   "cell_type": "code",
   "execution_count": 57,
   "metadata": {
    "scrolled": true
   },
   "outputs": [
    {
     "name": "stdout",
     "output_type": "stream",
     "text": [
      "Fitting 5 folds for each of 30 candidates, totalling 150 fits\n"
     ]
    },
    {
     "name": "stderr",
     "output_type": "stream",
     "text": [
      "[Parallel(n_jobs=-1)]: Using backend LokyBackend with 12 concurrent workers.\n",
      "[Parallel(n_jobs=-1)]: Done   1 tasks      | elapsed:    3.1s\n",
      "[Parallel(n_jobs=-1)]: Done   8 tasks      | elapsed:    3.1s\n",
      "[Parallel(n_jobs=-1)]: Done  17 tasks      | elapsed:    3.3s\n",
      "[Parallel(n_jobs=-1)]: Done  26 tasks      | elapsed:    3.4s\n",
      "[Parallel(n_jobs=-1)]: Done  37 tasks      | elapsed:    3.6s\n",
      "[Parallel(n_jobs=-1)]: Done  48 tasks      | elapsed:    3.7s\n",
      "[Parallel(n_jobs=-1)]: Done  61 tasks      | elapsed:    4.1s\n",
      "[Parallel(n_jobs=-1)]: Done  74 tasks      | elapsed:    4.4s\n",
      "[Parallel(n_jobs=-1)]: Done  89 tasks      | elapsed:    4.9s\n",
      "[Parallel(n_jobs=-1)]: Done 104 tasks      | elapsed:    5.7s\n",
      "[Parallel(n_jobs=-1)]: Done 121 tasks      | elapsed:    7.1s\n",
      "[Parallel(n_jobs=-1)]: Done 143 out of 150 | elapsed:    8.7s remaining:    0.3s\n",
      "[Parallel(n_jobs=-1)]: Done 150 out of 150 | elapsed:    9.2s finished\n"
     ]
    },
    {
     "name": "stdout",
     "output_type": "stream",
     "text": [
      "{'max_depth': 10, 'min_samples_split': 100}\n",
      "-0.0810204081632653\n"
     ]
    }
   ],
   "source": [
    "#Hyperparamter tuning with decision trees\n",
    "gsc = GridSearchCV(\n",
    "    estimator = DecisionTreeClassifier(), \n",
    "    param_grid = {\n",
    "        'max_depth': [2, 5, 10, 20, 50],\n",
    "        'min_samples_split': [5, 10, 20, 30, 50, 100]\n",
    "    }, cv = 5, scoring='neg_mean_squared_error', verbose=10, n_jobs=-1)\n",
    "\n",
    "grid_result = gsc.fit(X_tfidf_tr, y_tfidf_tr)\n",
    "best_params = grid_result.best_params_\n",
    "print(best_params)\n",
    "print(gsc.score(X_tfidf_tr, y_tfidf_tr))\n",
    "best_model = DecisionTreeClassifier(max_depth = best_params['max_depth'], min_samples_split = best_params['min_samples_split'])"
   ]
  },
  {
   "cell_type": "code",
   "execution_count": 58,
   "metadata": {},
   "outputs": [
    {
     "data": {
      "image/png": "[encoded data removed]",
      "text/plain": [
       "<Figure size 432x288 with 1 Axes>"
      ]
     },
     "metadata": {
      "needs_background": "light"
     },
     "output_type": "display_data"
    }
   ],
   "source": [
    "#Plotting the ROC curve for Decision Tree\n",
    "best_model.fit(X_tfidf_tr, y_tfidf_tr)\n",
    "\n",
    "y_pred_tr = best_model.predict_proba(X_tfidf_tr)[::,1]\n",
    "y_pred_te = best_model.predict_proba(X_tfidf_te)[::,1]\n",
    "fpr_tr, tpr_tr, _tr = metrics.roc_curve(y_tfidf_tr,  y_pred_tr)\n",
    "fpr_te, tpr_te, _te = metrics.roc_curve(y_tfidf_te,  y_pred_te)\n",
    "auc_tr_tfidf_dt = metrics.roc_auc_score(y_tfidf_tr, y_pred_tr)\n",
    "auc_te_tfidf_dt = metrics.roc_auc_score(y_tfidf_te, y_pred_te)\n",
    "plt.plot(fpr_tr,tpr_tr,label=\"Train, auc=\"+str(auc_tr_tfidf_dt))\n",
    "plt.plot(fpr_te,tpr_te,label=\"Test, auc=\"+str(auc_te_tfidf_dt))\n",
    "plt.legend(loc=4)\n",
    "plt.show()"
   ]
  },
  {
   "cell_type": "markdown",
   "metadata": {},
   "source": [
    "# 3. Average Word2Vec"
   ]
  },
  {
   "cell_type": "code",
   "execution_count": 28,
   "metadata": {},
   "outputs": [],
   "source": [
    "i=0\n",
    "list_of_sentance=[]\n",
    "for sentance in preprocessed_reviews[:10000]:\n",
    "#for sentance in preprocessed_reviews:\n",
    "    list_of_sentance.append(sentance.split())"
   ]
  },
  {
   "cell_type": "code",
   "execution_count": 29,
   "metadata": {},
   "outputs": [],
   "source": [
    "i = 0\n",
    "summary_list = []\n",
    "for summ in preprocessed_summaries[0:10000]:\n",
    "#for summ in preprocessed_summaries:\n",
    "    summary_list.append(summ.split())"
   ]
  },
  {
   "cell_type": "code",
   "execution_count": 30,
   "metadata": {
    "scrolled": true
   },
   "outputs": [
    {
     "name": "stdout",
     "output_type": "stream",
     "text": [
      "[('terrific', 0.7989331483840942), ('fantastic', 0.7935211658477783), ('tremendous', 0.7748856544494629), ('wonderful', 0.7647868394851685), ('good', 0.7291510105133057), ('incredible', 0.7032873630523682), ('marvelous', 0.6971102952957153), ('phenomenal', 0.6841565370559692), ('amazing', 0.6634128093719482), ('awesome', 0.6510506868362427)]\n",
      "[('Worst', 0.6146092414855957), ('weakest', 0.6143776774406433), ('scariest', 0.5957258343696594), ('ugliest', 0.5931180715560913), ('best', 0.5835110545158386), ('bleakest', 0.5718506574630737), ('strongest', 0.567145586013794), ('nastiest', 0.5644308924674988), ('lousiest', 0.5631451606750488), ('toughest', 0.5624395608901978)]\n"
     ]
    }
   ],
   "source": [
    "if os.path.isfile('GoogleNews-vectors-negative300.bin'):\n",
    "    w2v_model=KeyedVectors.load_word2vec_format('GoogleNews-vectors-negative300.bin', binary=True)\n",
    "    print(w2v_model.wv.most_similar('great'))\n",
    "    print(w2v_model.wv.most_similar('worst'))\n",
    "else:\n",
    "    print(\"you don't have gogole's word2vec file, keep want_to_train_w2v = True, to train your own w2v \")"
   ]
  },
  {
   "cell_type": "code",
   "execution_count": 31,
   "metadata": {},
   "outputs": [
    {
     "name": "stdout",
     "output_type": "stream",
     "text": [
      "number of words that occured minimum 5 times  3000000\n",
      "sample words  ['</s>', 'in', 'for', 'that', 'is', 'on', '##', 'The', 'with', 'said', 'was', 'the', 'at', 'not', 'as', 'it', 'be', 'from', 'by', 'are', 'I', 'have', 'he', 'will', 'has', '####', 'his', 'an', 'this', 'or', 'their', 'who', 'they', 'but', '$', 'had', 'year', 'were', 'we', 'more', '###', 'up', 'been', 'you', 'its', 'one', 'about', 'would', 'which', 'out']\n"
     ]
    }
   ],
   "source": [
    "w2v_words = list(w2v_model.wv.vocab)\n",
    "print(\"number of words that occured minimum 5 times \",len(w2v_words))\n",
    "print(\"sample words \", w2v_words[0:50])"
   ]
  },
  {
   "cell_type": "code",
   "execution_count": 32,
   "metadata": {},
   "outputs": [
    {
     "name": "stderr",
     "output_type": "stream",
     "text": [
      "100%|████████████████████████████████████████████████████████████████████████████| 10000/10000 [13:06<00:00, 12.72it/s]\n"
     ]
    },
    {
     "name": "stdout",
     "output_type": "stream",
     "text": [
      "10000\n",
      "300\n"
     ]
    }
   ],
   "source": [
    "# average Word2Vec\n",
    "# compute average word2vec for each review.\n",
    "sent_vectors = []; # the avg-w2v for each sentence/review is stored in this list\n",
    "for sent in tqdm(list_of_sentance): # for each review/sentence\n",
    "    sent_vec = np.zeros(300) # as word vectors are of zero length 50, you might need to change this to 300 if you use google's w2v\n",
    "    cnt_words =0; # num of words with a valid vector in the sentence/review\n",
    "    for word in sent: # for each word in a review/sentence\n",
    "        if word in w2v_words:\n",
    "            vec = w2v_model.wv[word]\n",
    "            sent_vec += vec\n",
    "            cnt_words += 1\n",
    "    if cnt_words != 0:\n",
    "        sent_vec /= cnt_words\n",
    "    sent_vectors.append(sent_vec)\n",
    "print(len(sent_vectors))\n",
    "print(len(sent_vectors[0]))"
   ]
  },
  {
   "cell_type": "code",
   "execution_count": 33,
   "metadata": {},
   "outputs": [
    {
     "name": "stderr",
     "output_type": "stream",
     "text": [
      "100%|███████████████████████████████████████████████████████████████████████████| 10000/10000 [01:21<00:00, 122.98it/s]\n"
     ]
    },
    {
     "name": "stdout",
     "output_type": "stream",
     "text": [
      "10000\n",
      "300\n"
     ]
    }
   ],
   "source": [
    "sum_vectors = []; # the avg-w2v for each sentence/review is stored in this list\n",
    "for summ in tqdm(summary_list): # for each review/sentence\n",
    "    summ_v = np.zeros(300) # as word vectors are of zero length 50, you might need to change this to 300 if you use google's w2v\n",
    "    cnt_words =0; # num of words with a valid vector in the sentence/review\n",
    "    for word in summ: # for each word in a review/sentence\n",
    "        if word in w2v_words:\n",
    "            vec = w2v_model.wv[word]\n",
    "            summ_v += vec\n",
    "            cnt_words += 1\n",
    "    if cnt_words != 0:\n",
    "        summ_v /= cnt_words\n",
    "    sum_vectors.append(summ_v)\n",
    "print(len(sum_vectors))\n",
    "print(len(sum_vectors[0]))"
   ]
  },
  {
   "cell_type": "code",
   "execution_count": 36,
   "metadata": {},
   "outputs": [
    {
     "name": "stdout",
     "output_type": "stream",
     "text": [
      "(10000, 300) (10000, 300)\n"
     ]
    }
   ],
   "source": [
    "sev = np.asarray(sent_vectors)\n",
    "suv = np.asarray(sum_vectors)\n",
    "print(sev.shape, suv.shape)"
   ]
  },
  {
   "cell_type": "code",
   "execution_count": 37,
   "metadata": {},
   "outputs": [
    {
     "name": "stdout",
     "output_type": "stream",
     "text": [
      "1    8868\n",
      "0    1132\n",
      "Name: Score, dtype: int64\n",
      "(10000, 600)\n"
     ]
    }
   ],
   "source": [
    "from sklearn.model_selection import train_test_split\n",
    "from scipy.sparse import hstack\n",
    "y = Y[:10000]\n",
    "print(y.value_counts())\n",
    "X_aw2v = (np.vstack((sev.T, suv.T))).T\n",
    "print(X_aw2v.shape)\n",
    "X_aw2v_1, X_aw2v_te, y_aw2v_1, y_aw2v_te = train_test_split(X_aw2v, y, test_size = 0.3, random_state = 0)\n",
    "X_aw2v_tr, X_aw2v_cv, y_aw2v_tr, y_aw2v_cv = train_test_split(X_aw2v_1, y_aw2v_1, test_size = 0.3, random_state = 0)"
   ]
  },
  {
   "cell_type": "code",
   "execution_count": 107,
   "metadata": {
    "scrolled": true
   },
   "outputs": [
    {
     "name": "stdout",
     "output_type": "stream",
     "text": [
      "Fitting 3 folds for each of 9 candidates, totalling 27 fits\n"
     ]
    },
    {
     "name": "stderr",
     "output_type": "stream",
     "text": [
      "[Parallel(n_jobs=1)]: Using backend SequentialBackend with 1 concurrent workers.\n"
     ]
    },
    {
     "name": "stdout",
     "output_type": "stream",
     "text": [
      "[CV] n_neighbors=1 ...................................................\n",
      "[CV] ....................... n_neighbors=1, score=0.631, total=   4.6s\n"
     ]
    },
    {
     "name": "stderr",
     "output_type": "stream",
     "text": [
      "[Parallel(n_jobs=1)]: Done   1 out of   1 | elapsed:    4.5s remaining:    0.0s\n"
     ]
    },
    {
     "name": "stdout",
     "output_type": "stream",
     "text": [
      "[CV] n_neighbors=1 ...................................................\n",
      "[CV] ....................... n_neighbors=1, score=0.697, total=   4.7s\n"
     ]
    },
    {
     "name": "stderr",
     "output_type": "stream",
     "text": [
      "[Parallel(n_jobs=1)]: Done   2 out of   2 | elapsed:    9.3s remaining:    0.0s\n"
     ]
    },
    {
     "name": "stdout",
     "output_type": "stream",
     "text": [
      "[CV] n_neighbors=1 ...................................................\n",
      "[CV] ....................... n_neighbors=1, score=0.641, total=   4.7s\n"
     ]
    },
    {
     "name": "stderr",
     "output_type": "stream",
     "text": [
      "[Parallel(n_jobs=1)]: Done   3 out of   3 | elapsed:   13.9s remaining:    0.0s\n"
     ]
    },
    {
     "name": "stdout",
     "output_type": "stream",
     "text": [
      "[CV] n_neighbors=3 ...................................................\n",
      "[CV] ....................... n_neighbors=3, score=0.708, total=   4.8s\n"
     ]
    },
    {
     "name": "stderr",
     "output_type": "stream",
     "text": [
      "[Parallel(n_jobs=1)]: Done   4 out of   4 | elapsed:   18.8s remaining:    0.0s\n"
     ]
    },
    {
     "name": "stdout",
     "output_type": "stream",
     "text": [
      "[CV] n_neighbors=3 ...................................................\n",
      "[CV] ....................... n_neighbors=3, score=0.780, total=   4.7s\n"
     ]
    },
    {
     "name": "stderr",
     "output_type": "stream",
     "text": [
      "[Parallel(n_jobs=1)]: Done   5 out of   5 | elapsed:   23.5s remaining:    0.0s\n"
     ]
    },
    {
     "name": "stdout",
     "output_type": "stream",
     "text": [
      "[CV] n_neighbors=3 ...................................................\n",
      "[CV] ....................... n_neighbors=3, score=0.750, total=   4.7s\n"
     ]
    },
    {
     "name": "stderr",
     "output_type": "stream",
     "text": [
      "[Parallel(n_jobs=1)]: Done   6 out of   6 | elapsed:   28.2s remaining:    0.0s\n"
     ]
    },
    {
     "name": "stdout",
     "output_type": "stream",
     "text": [
      "[CV] n_neighbors=5 ...................................................\n",
      "[CV] ....................... n_neighbors=5, score=0.724, total=   4.7s\n"
     ]
    },
    {
     "name": "stderr",
     "output_type": "stream",
     "text": [
      "[Parallel(n_jobs=1)]: Done   7 out of   7 | elapsed:   32.9s remaining:    0.0s\n"
     ]
    },
    {
     "name": "stdout",
     "output_type": "stream",
     "text": [
      "[CV] n_neighbors=5 ...................................................\n",
      "[CV] ....................... n_neighbors=5, score=0.800, total=   4.7s\n"
     ]
    },
    {
     "name": "stderr",
     "output_type": "stream",
     "text": [
      "[Parallel(n_jobs=1)]: Done   8 out of   8 | elapsed:   37.7s remaining:    0.0s\n"
     ]
    },
    {
     "name": "stdout",
     "output_type": "stream",
     "text": [
      "[CV] n_neighbors=5 ...................................................\n",
      "[CV] ....................... n_neighbors=5, score=0.764, total=   4.7s\n"
     ]
    },
    {
     "name": "stderr",
     "output_type": "stream",
     "text": [
      "[Parallel(n_jobs=1)]: Done   9 out of   9 | elapsed:   42.4s remaining:    0.0s\n"
     ]
    },
    {
     "name": "stdout",
     "output_type": "stream",
     "text": [
      "[CV] n_neighbors=9 ...................................................\n",
      "[CV] ....................... n_neighbors=9, score=0.746, total=   4.7s\n",
      "[CV] n_neighbors=9 ...................................................\n",
      "[CV] ....................... n_neighbors=9, score=0.837, total=   4.8s\n",
      "[CV] n_neighbors=9 ...................................................\n",
      "[CV] ....................... n_neighbors=9, score=0.779, total=   4.7s\n",
      "[CV] n_neighbors=13 ..................................................\n",
      "[CV] ...................... n_neighbors=13, score=0.761, total=   4.9s\n",
      "[CV] n_neighbors=13 ..................................................\n",
      "[CV] ...................... n_neighbors=13, score=0.847, total=   4.8s\n",
      "[CV] n_neighbors=13 ..................................................\n",
      "[CV] ...................... n_neighbors=13, score=0.803, total=   4.8s\n",
      "[CV] n_neighbors=19 ..................................................\n",
      "[CV] ...................... n_neighbors=19, score=0.781, total=   4.9s\n",
      "[CV] n_neighbors=19 ..................................................\n",
      "[CV] ...................... n_neighbors=19, score=0.857, total=   4.8s\n",
      "[CV] n_neighbors=19 ..................................................\n",
      "[CV] ...................... n_neighbors=19, score=0.834, total=   4.8s\n",
      "[CV] n_neighbors=25 ..................................................\n",
      "[CV] ...................... n_neighbors=25, score=0.798, total=   4.8s\n",
      "[CV] n_neighbors=25 ..................................................\n",
      "[CV] ...................... n_neighbors=25, score=0.857, total=   4.8s\n",
      "[CV] n_neighbors=25 ..................................................\n",
      "[CV] ...................... n_neighbors=25, score=0.853, total=   4.8s\n",
      "[CV] n_neighbors=35 ..................................................\n",
      "[CV] ...................... n_neighbors=35, score=0.819, total=   4.8s\n",
      "[CV] n_neighbors=35 ..................................................\n",
      "[CV] ...................... n_neighbors=35, score=0.863, total=   4.8s\n",
      "[CV] n_neighbors=35 ..................................................\n",
      "[CV] ...................... n_neighbors=35, score=0.853, total=   4.8s\n",
      "[CV] n_neighbors=50 ..................................................\n",
      "[CV] ...................... n_neighbors=50, score=0.839, total=   4.8s\n",
      "[CV] n_neighbors=50 ..................................................\n",
      "[CV] ...................... n_neighbors=50, score=0.865, total=   4.8s\n",
      "[CV] n_neighbors=50 ..................................................\n",
      "[CV] ...................... n_neighbors=50, score=0.858, total=   4.8s\n"
     ]
    },
    {
     "name": "stderr",
     "output_type": "stream",
     "text": [
      "[Parallel(n_jobs=1)]: Done  27 out of  27 | elapsed:  2.1min finished\n"
     ]
    },
    {
     "name": "stdout",
     "output_type": "stream",
     "text": [
      "{'n_neighbors': 50}\n",
      "0.9014143882668988\n"
     ]
    }
   ],
   "source": [
    "#Hyperparamter tuning for KNN\n",
    "from sklearn.model_selection import GridSearchCV\n",
    "gsc = GridSearchCV(\n",
    "        estimator = KNeighborsClassifier(),\n",
    "        param_grid = {\n",
    "            'n_neighbors': [1, 3, 5, 9, 13, 19, 25, 35, 50]\n",
    "        }, cv = 3, scoring = 'roc_auc', verbose = 10)\n",
    "\n",
    "grid_result = gsc.fit(X_aw2v_tr, y_aw2v_tr)\n",
    "best_params = grid_result.best_params_\n",
    "print(best_params)\n",
    "print(gsc.score(X_aw2v_tr, y_aw2v_tr))\n",
    "best_model = KNeighborsClassifier(n_neighbors = best_params['n_neighbors'])"
   ]
  },
  {
   "cell_type": "code",
   "execution_count": 108,
   "metadata": {},
   "outputs": [
    {
     "name": "stderr",
     "output_type": "stream",
     "text": [
      "\r",
      "  0%|                                                                                            | 0/9 [00:00<?, ?it/s]"
     ]
    },
    {
     "name": "stdout",
     "output_type": "stream",
     "text": [
      "The accuracy for1nearest neighbors is:1.0for train and0.8885714285714286for cv\n"
     ]
    },
    {
     "name": "stderr",
     "output_type": "stream",
     "text": [
      "\r",
      " 11%|█████████▎                                                                          | 1/9 [00:10<01:24, 10.55s/it]"
     ]
    },
    {
     "name": "stdout",
     "output_type": "stream",
     "text": [
      "The accuracy for3nearest neighbors is:0.9344897959183673for train and0.909047619047619for cv\n"
     ]
    },
    {
     "name": "stderr",
     "output_type": "stream",
     "text": [
      "\r",
      " 22%|██████████████████▋                                                                 | 2/9 [00:43<02:01, 17.34s/it]"
     ]
    },
    {
     "name": "stdout",
     "output_type": "stream",
     "text": [
      "The accuracy for5nearest neighbors is:0.9240816326530612for train and0.9152380952380952for cv\n"
     ]
    },
    {
     "name": "stderr",
     "output_type": "stream",
     "text": [
      "\r",
      " 33%|████████████████████████████                                                        | 3/9 [01:17<02:12, 22.15s/it]"
     ]
    },
    {
     "name": "stdout",
     "output_type": "stream",
     "text": [
      "The accuracy for9nearest neighbors is:0.9126530612244897for train and0.9133333333333333for cv\n"
     ]
    },
    {
     "name": "stderr",
     "output_type": "stream",
     "text": [
      "\r",
      " 44%|█████████████████████████████████████▎                                              | 4/9 [01:50<02:08, 25.63s/it]"
     ]
    },
    {
     "name": "stdout",
     "output_type": "stream",
     "text": [
      "The accuracy for13nearest neighbors is:0.9069387755102041for train and0.9095238095238095for cv\n"
     ]
    },
    {
     "name": "stderr",
     "output_type": "stream",
     "text": [
      "\r",
      " 56%|██████████████████████████████████████████████▋                                     | 5/9 [02:24<01:52, 28.04s/it]"
     ]
    },
    {
     "name": "stdout",
     "output_type": "stream",
     "text": [
      "The accuracy for19nearest neighbors is:0.9004081632653061for train and0.9066666666666666for cv\n"
     ]
    },
    {
     "name": "stderr",
     "output_type": "stream",
     "text": [
      "\r",
      " 67%|████████████████████████████████████████████████████████                            | 6/9 [02:58<01:29, 29.78s/it]"
     ]
    },
    {
     "name": "stdout",
     "output_type": "stream",
     "text": [
      "The accuracy for25nearest neighbors is:0.8975510204081633for train and0.9028571428571428for cv\n"
     ]
    },
    {
     "name": "stderr",
     "output_type": "stream",
     "text": [
      "\r",
      " 78%|█████████████████████████████████████████████████████████████████▎                  | 7/9 [03:32<01:02, 31.12s/it]"
     ]
    },
    {
     "name": "stdout",
     "output_type": "stream",
     "text": [
      "The accuracy for35nearest neighbors is:0.8944897959183673for train and0.900952380952381for cv\n"
     ]
    },
    {
     "name": "stderr",
     "output_type": "stream",
     "text": [
      "\r",
      " 89%|██████████████████████████████████████████████████████████████████████████▋         | 8/9 [04:06<00:31, 32.00s/it]"
     ]
    },
    {
     "name": "stdout",
     "output_type": "stream",
     "text": [
      "The accuracy for50nearest neighbors is:0.8922448979591837for train and0.9004761904761904for cv\n"
     ]
    },
    {
     "name": "stderr",
     "output_type": "stream",
     "text": [
      "100%|████████████████████████████████████████████████████████████████████████████████████| 9/9 [04:40<00:00, 32.69s/it]\n"
     ]
    }
   ],
   "source": [
    "#Manually searching for the best hyperparameter using KNN\n",
    "from sklearn.metrics import accuracy_score\n",
    "ks = [1, 3, 5, 9, 13, 19, 25, 35, 50]\n",
    "for k in tqdm(ks):\n",
    "    clf = KNeighborsClassifier(n_neighbors = k)\n",
    "    clf.fit(X_aw2v_tr, y_aw2v_tr)\n",
    "    \n",
    "    y_pred_tr = clf.predict(X_aw2v_tr)\n",
    "    y_pred_cv = clf.predict(X_aw2v_cv)\n",
    "    \n",
    "    tr_acc = accuracy_score(y_aw2v_tr, y_pred_tr)\n",
    "    cv_acc = accuracy_score(y_aw2v_cv, y_pred_cv)\n",
    "    \n",
    "    print(\"The accuracy for\" + str(k) + \"nearest neighbors is:\" +str(tr_acc)+\"for train and\" + str(cv_acc) +\"for cv\")"
   ]
  },
  {
   "cell_type": "code",
   "execution_count": 110,
   "metadata": {
    "scrolled": true
   },
   "outputs": [
    {
     "data": {
      "image/png": "[encoded data removed]",
      "text/plain": [
       "<Figure size 432x288 with 1 Axes>"
      ]
     },
     "metadata": {
      "needs_background": "light"
     },
     "output_type": "display_data"
    }
   ],
   "source": [
    "#Plotting the ROC curve for KNN\n",
    "best_model.fit(X_aw2v_tr, y_aw2v_tr)\n",
    "\n",
    "y_pred_tr = best_model.predict_proba(X_aw2v_tr)[::,1]\n",
    "y_pred_te = best_model.predict_proba(X_aw2v_te)[::,1]\n",
    "fpr_tr, tpr_tr, _tr = metrics.roc_curve(y_aw2v_tr,  y_pred_tr)\n",
    "fpr_te, tpr_te, _te = metrics.roc_curve(y_aw2v_te,  y_pred_te)\n",
    "auc_tr_aw_knn = metrics.roc_auc_score(y_aw2v_tr, y_pred_tr)\n",
    "auc_te_aw_knn = metrics.roc_auc_score(y_aw2v_te, y_pred_te)\n",
    "plt.plot(fpr_tr,tpr_tr,label=\"Train, auc=\"+str(auc_tr_aw_knn))\n",
    "plt.plot(fpr_te,tpr_te,label=\"Test, auc=\"+str(auc_te_aw_knn))\n",
    "plt.legend(loc=4)\n",
    "plt.show()"
   ]
  },
  {
   "cell_type": "code",
   "execution_count": 59,
   "metadata": {},
   "outputs": [
    {
     "ename": "ValueError",
     "evalue": "Input X must be non-negative",
     "output_type": "error",
     "traceback": [
      "\u001b[1;31m---------------------------------------------------------------------------\u001b[0m",
      "\u001b[1;31mValueError\u001b[0m                                Traceback (most recent call last)",
      "\u001b[1;32m<ipython-input-59-02e256203251>\u001b[0m in \u001b[0;36m<module>\u001b[1;34m\u001b[0m\n\u001b[0;32m      4\u001b[0m \u001b[1;32mfor\u001b[0m \u001b[0ma\u001b[0m \u001b[1;32min\u001b[0m \u001b[0mA\u001b[0m\u001b[1;33m:\u001b[0m\u001b[1;33m\u001b[0m\u001b[1;33m\u001b[0m\u001b[0m\n\u001b[0;32m      5\u001b[0m     \u001b[0mclf\u001b[0m \u001b[1;33m=\u001b[0m \u001b[0mMultinomialNB\u001b[0m\u001b[1;33m(\u001b[0m\u001b[0malpha\u001b[0m \u001b[1;33m=\u001b[0m \u001b[0ma\u001b[0m\u001b[1;33m)\u001b[0m\u001b[1;33m\u001b[0m\u001b[1;33m\u001b[0m\u001b[0m\n\u001b[1;32m----> 6\u001b[1;33m     \u001b[0mclf\u001b[0m\u001b[1;33m.\u001b[0m\u001b[0mfit\u001b[0m\u001b[1;33m(\u001b[0m\u001b[0mX_aw2v_tr\u001b[0m\u001b[1;33m,\u001b[0m \u001b[0my_aw2v_tr\u001b[0m\u001b[1;33m)\u001b[0m\u001b[1;33m\u001b[0m\u001b[1;33m\u001b[0m\u001b[0m\n\u001b[0m\u001b[0;32m      7\u001b[0m \u001b[1;33m\u001b[0m\u001b[0m\n\u001b[0;32m      8\u001b[0m     \u001b[0my_pred_tr\u001b[0m \u001b[1;33m=\u001b[0m \u001b[0mclf\u001b[0m\u001b[1;33m.\u001b[0m\u001b[0mpredict\u001b[0m\u001b[1;33m(\u001b[0m\u001b[0mX_aw2v_tr\u001b[0m\u001b[1;33m)\u001b[0m\u001b[1;33m\u001b[0m\u001b[1;33m\u001b[0m\u001b[0m\n",
      "\u001b[1;32mc:\\users\\asus\\appdata\\local\\programs\\python\\python37\\lib\\site-packages\\sklearn\\naive_bayes.py\u001b[0m in \u001b[0;36mfit\u001b[1;34m(self, X, y, sample_weight)\u001b[0m\n\u001b[0;32m    611\u001b[0m         self.feature_count_ = np.zeros((n_effective_classes, n_features),\n\u001b[0;32m    612\u001b[0m                                        dtype=np.float64)\n\u001b[1;32m--> 613\u001b[1;33m         \u001b[0mself\u001b[0m\u001b[1;33m.\u001b[0m\u001b[0m_count\u001b[0m\u001b[1;33m(\u001b[0m\u001b[0mX\u001b[0m\u001b[1;33m,\u001b[0m \u001b[0mY\u001b[0m\u001b[1;33m)\u001b[0m\u001b[1;33m\u001b[0m\u001b[1;33m\u001b[0m\u001b[0m\n\u001b[0m\u001b[0;32m    614\u001b[0m         \u001b[0malpha\u001b[0m \u001b[1;33m=\u001b[0m \u001b[0mself\u001b[0m\u001b[1;33m.\u001b[0m\u001b[0m_check_alpha\u001b[0m\u001b[1;33m(\u001b[0m\u001b[1;33m)\u001b[0m\u001b[1;33m\u001b[0m\u001b[1;33m\u001b[0m\u001b[0m\n\u001b[0;32m    615\u001b[0m         \u001b[0mself\u001b[0m\u001b[1;33m.\u001b[0m\u001b[0m_update_feature_log_prob\u001b[0m\u001b[1;33m(\u001b[0m\u001b[0malpha\u001b[0m\u001b[1;33m)\u001b[0m\u001b[1;33m\u001b[0m\u001b[1;33m\u001b[0m\u001b[0m\n",
      "\u001b[1;32mc:\\users\\asus\\appdata\\local\\programs\\python\\python37\\lib\\site-packages\\sklearn\\naive_bayes.py\u001b[0m in \u001b[0;36m_count\u001b[1;34m(self, X, Y)\u001b[0m\n\u001b[0;32m    718\u001b[0m         \u001b[1;34m\"\"\"Count and smooth feature occurrences.\"\"\"\u001b[0m\u001b[1;33m\u001b[0m\u001b[1;33m\u001b[0m\u001b[0m\n\u001b[0;32m    719\u001b[0m         \u001b[1;32mif\u001b[0m \u001b[0mnp\u001b[0m\u001b[1;33m.\u001b[0m\u001b[0many\u001b[0m\u001b[1;33m(\u001b[0m\u001b[1;33m(\u001b[0m\u001b[0mX\u001b[0m\u001b[1;33m.\u001b[0m\u001b[0mdata\u001b[0m \u001b[1;32mif\u001b[0m \u001b[0missparse\u001b[0m\u001b[1;33m(\u001b[0m\u001b[0mX\u001b[0m\u001b[1;33m)\u001b[0m \u001b[1;32melse\u001b[0m \u001b[0mX\u001b[0m\u001b[1;33m)\u001b[0m \u001b[1;33m<\u001b[0m \u001b[1;36m0\u001b[0m\u001b[1;33m)\u001b[0m\u001b[1;33m:\u001b[0m\u001b[1;33m\u001b[0m\u001b[1;33m\u001b[0m\u001b[0m\n\u001b[1;32m--> 720\u001b[1;33m             \u001b[1;32mraise\u001b[0m \u001b[0mValueError\u001b[0m\u001b[1;33m(\u001b[0m\u001b[1;34m\"Input X must be non-negative\"\u001b[0m\u001b[1;33m)\u001b[0m\u001b[1;33m\u001b[0m\u001b[1;33m\u001b[0m\u001b[0m\n\u001b[0m\u001b[0;32m    721\u001b[0m         \u001b[0mself\u001b[0m\u001b[1;33m.\u001b[0m\u001b[0mfeature_count_\u001b[0m \u001b[1;33m+=\u001b[0m \u001b[0msafe_sparse_dot\u001b[0m\u001b[1;33m(\u001b[0m\u001b[0mY\u001b[0m\u001b[1;33m.\u001b[0m\u001b[0mT\u001b[0m\u001b[1;33m,\u001b[0m \u001b[0mX\u001b[0m\u001b[1;33m)\u001b[0m\u001b[1;33m\u001b[0m\u001b[1;33m\u001b[0m\u001b[0m\n\u001b[0;32m    722\u001b[0m         \u001b[0mself\u001b[0m\u001b[1;33m.\u001b[0m\u001b[0mclass_count_\u001b[0m \u001b[1;33m+=\u001b[0m \u001b[0mY\u001b[0m\u001b[1;33m.\u001b[0m\u001b[0msum\u001b[0m\u001b[1;33m(\u001b[0m\u001b[0maxis\u001b[0m\u001b[1;33m=\u001b[0m\u001b[1;36m0\u001b[0m\u001b[1;33m)\u001b[0m\u001b[1;33m\u001b[0m\u001b[1;33m\u001b[0m\u001b[0m\n",
      "\u001b[1;31mValueError\u001b[0m: Input X must be non-negative"
     ]
    }
   ],
   "source": [
    "#Application of Naive Bayes\n",
    "from sklearn.metrics import accuracy_score\n",
    "A = [0.0001, 0.001, 0.01, 0.1, 1, 10, 100, 1000, 10000]\n",
    "for a in A:\n",
    "    clf = MultinomialNB(alpha = a)\n",
    "    clf.fit(X_aw2v_tr, y_aw2v_tr)\n",
    "    \n",
    "    y_pred_tr = clf.predict(X_aw2v_tr)\n",
    "    y_pred_cv = clf.predict(X_aw2v_cv)\n",
    "    \n",
    "    tr_acc = accuracy_score(y_aw2v_tr, y_pred_tr)\n",
    "    cv_acc = accuracy_score(y_aw2v_cv, y_pred_cv)\n",
    "    \n",
    "    print(\"The accuracy for value of alpha: \" + str(a)+\" is \" +str(tr_acc)+\" for train and \" + str(cv_acc) +\"for cv\")"
   ]
  },
  {
   "cell_type": "code",
   "execution_count": 60,
   "metadata": {
    "scrolled": true
   },
   "outputs": [
    {
     "ename": "ValueError",
     "evalue": "'neg_mean_squared error' is not a valid scoring value. Use sorted(sklearn.metrics.SCORERS.keys()) to get valid options.",
     "output_type": "error",
     "traceback": [
      "\u001b[1;31m---------------------------------------------------------------------------\u001b[0m",
      "\u001b[1;31mKeyError\u001b[0m                                  Traceback (most recent call last)",
      "\u001b[1;32mc:\\users\\asus\\appdata\\local\\programs\\python\\python37\\lib\\site-packages\\sklearn\\metrics\\scorer.py\u001b[0m in \u001b[0;36mget_scorer\u001b[1;34m(scoring)\u001b[0m\n\u001b[0;32m    227\u001b[0m         \u001b[1;32mtry\u001b[0m\u001b[1;33m:\u001b[0m\u001b[1;33m\u001b[0m\u001b[1;33m\u001b[0m\u001b[0m\n\u001b[1;32m--> 228\u001b[1;33m             \u001b[0mscorer\u001b[0m \u001b[1;33m=\u001b[0m \u001b[0mSCORERS\u001b[0m\u001b[1;33m[\u001b[0m\u001b[0mscoring\u001b[0m\u001b[1;33m]\u001b[0m\u001b[1;33m\u001b[0m\u001b[1;33m\u001b[0m\u001b[0m\n\u001b[0m\u001b[0;32m    229\u001b[0m         \u001b[1;32mexcept\u001b[0m \u001b[0mKeyError\u001b[0m\u001b[1;33m:\u001b[0m\u001b[1;33m\u001b[0m\u001b[1;33m\u001b[0m\u001b[0m\n",
      "\u001b[1;31mKeyError\u001b[0m: 'neg_mean_squared error'",
      "\nDuring handling of the above exception, another exception occurred:\n",
      "\u001b[1;31mValueError\u001b[0m                                Traceback (most recent call last)",
      "\u001b[1;32m<ipython-input-60-4c02667f93c5>\u001b[0m in \u001b[0;36m<module>\u001b[1;34m\u001b[0m\n\u001b[0;32m      6\u001b[0m         }, cv = 3, scoring = 'neg_mean_squared error', verbose = 10)\n\u001b[0;32m      7\u001b[0m \u001b[1;33m\u001b[0m\u001b[0m\n\u001b[1;32m----> 8\u001b[1;33m \u001b[0mgrid_result\u001b[0m \u001b[1;33m=\u001b[0m \u001b[0mgsc\u001b[0m\u001b[1;33m.\u001b[0m\u001b[0mfit\u001b[0m\u001b[1;33m(\u001b[0m\u001b[0mX_aw2v_tr\u001b[0m\u001b[1;33m,\u001b[0m \u001b[0my_aw2v_tr\u001b[0m\u001b[1;33m)\u001b[0m\u001b[1;33m\u001b[0m\u001b[1;33m\u001b[0m\u001b[0m\n\u001b[0m\u001b[0;32m      9\u001b[0m \u001b[0mbest_params\u001b[0m \u001b[1;33m=\u001b[0m \u001b[0mgrid_result\u001b[0m\u001b[1;33m.\u001b[0m\u001b[0mbest_params_\u001b[0m\u001b[1;33m\u001b[0m\u001b[1;33m\u001b[0m\u001b[0m\n\u001b[0;32m     10\u001b[0m \u001b[0mprint\u001b[0m\u001b[1;33m(\u001b[0m\u001b[0mbest_params\u001b[0m\u001b[1;33m)\u001b[0m\u001b[1;33m\u001b[0m\u001b[1;33m\u001b[0m\u001b[0m\n",
      "\u001b[1;32mc:\\users\\asus\\appdata\\local\\programs\\python\\python37\\lib\\site-packages\\sklearn\\model_selection\\_search.py\u001b[0m in \u001b[0;36mfit\u001b[1;34m(self, X, y, groups, **fit_params)\u001b[0m\n\u001b[0;32m    606\u001b[0m \u001b[1;33m\u001b[0m\u001b[0m\n\u001b[0;32m    607\u001b[0m         scorers, self.multimetric_ = _check_multimetric_scoring(\n\u001b[1;32m--> 608\u001b[1;33m             self.estimator, scoring=self.scoring)\n\u001b[0m\u001b[0;32m    609\u001b[0m \u001b[1;33m\u001b[0m\u001b[0m\n\u001b[0;32m    610\u001b[0m         \u001b[1;32mif\u001b[0m \u001b[0mself\u001b[0m\u001b[1;33m.\u001b[0m\u001b[0mmultimetric_\u001b[0m\u001b[1;33m:\u001b[0m\u001b[1;33m\u001b[0m\u001b[1;33m\u001b[0m\u001b[0m\n",
      "\u001b[1;32mc:\\users\\asus\\appdata\\local\\programs\\python\\python37\\lib\\site-packages\\sklearn\\metrics\\scorer.py\u001b[0m in \u001b[0;36m_check_multimetric_scoring\u001b[1;34m(estimator, scoring)\u001b[0m\n\u001b[0;32m    340\u001b[0m     if callable(scoring) or scoring is None or isinstance(scoring,\n\u001b[0;32m    341\u001b[0m                                                           str):\n\u001b[1;32m--> 342\u001b[1;33m         \u001b[0mscorers\u001b[0m \u001b[1;33m=\u001b[0m \u001b[1;33m{\u001b[0m\u001b[1;34m\"score\"\u001b[0m\u001b[1;33m:\u001b[0m \u001b[0mcheck_scoring\u001b[0m\u001b[1;33m(\u001b[0m\u001b[0mestimator\u001b[0m\u001b[1;33m,\u001b[0m \u001b[0mscoring\u001b[0m\u001b[1;33m=\u001b[0m\u001b[0mscoring\u001b[0m\u001b[1;33m)\u001b[0m\u001b[1;33m}\u001b[0m\u001b[1;33m\u001b[0m\u001b[1;33m\u001b[0m\u001b[0m\n\u001b[0m\u001b[0;32m    343\u001b[0m         \u001b[1;32mreturn\u001b[0m \u001b[0mscorers\u001b[0m\u001b[1;33m,\u001b[0m \u001b[1;32mFalse\u001b[0m\u001b[1;33m\u001b[0m\u001b[1;33m\u001b[0m\u001b[0m\n\u001b[0;32m    344\u001b[0m     \u001b[1;32melse\u001b[0m\u001b[1;33m:\u001b[0m\u001b[1;33m\u001b[0m\u001b[1;33m\u001b[0m\u001b[0m\n",
      "\u001b[1;32mc:\\users\\asus\\appdata\\local\\programs\\python\\python37\\lib\\site-packages\\sklearn\\metrics\\scorer.py\u001b[0m in \u001b[0;36mcheck_scoring\u001b[1;34m(estimator, scoring, allow_none)\u001b[0m\n\u001b[0;32m    270\u001b[0m                         \"'fit' method, %r was passed\" % estimator)\n\u001b[0;32m    271\u001b[0m     \u001b[1;32mif\u001b[0m \u001b[0misinstance\u001b[0m\u001b[1;33m(\u001b[0m\u001b[0mscoring\u001b[0m\u001b[1;33m,\u001b[0m \u001b[0mstr\u001b[0m\u001b[1;33m)\u001b[0m\u001b[1;33m:\u001b[0m\u001b[1;33m\u001b[0m\u001b[1;33m\u001b[0m\u001b[0m\n\u001b[1;32m--> 272\u001b[1;33m         \u001b[1;32mreturn\u001b[0m \u001b[0mget_scorer\u001b[0m\u001b[1;33m(\u001b[0m\u001b[0mscoring\u001b[0m\u001b[1;33m)\u001b[0m\u001b[1;33m\u001b[0m\u001b[1;33m\u001b[0m\u001b[0m\n\u001b[0m\u001b[0;32m    273\u001b[0m     \u001b[1;32melif\u001b[0m \u001b[0mcallable\u001b[0m\u001b[1;33m(\u001b[0m\u001b[0mscoring\u001b[0m\u001b[1;33m)\u001b[0m\u001b[1;33m:\u001b[0m\u001b[1;33m\u001b[0m\u001b[1;33m\u001b[0m\u001b[0m\n\u001b[0;32m    274\u001b[0m         \u001b[1;31m# Heuristic to ensure user has not passed a metric\u001b[0m\u001b[1;33m\u001b[0m\u001b[1;33m\u001b[0m\u001b[1;33m\u001b[0m\u001b[0m\n",
      "\u001b[1;32mc:\\users\\asus\\appdata\\local\\programs\\python\\python37\\lib\\site-packages\\sklearn\\metrics\\scorer.py\u001b[0m in \u001b[0;36mget_scorer\u001b[1;34m(scoring)\u001b[0m\n\u001b[0;32m    230\u001b[0m             raise ValueError('%r is not a valid scoring value. '\n\u001b[0;32m    231\u001b[0m                              \u001b[1;34m'Use sorted(sklearn.metrics.SCORERS.keys()) '\u001b[0m\u001b[1;33m\u001b[0m\u001b[1;33m\u001b[0m\u001b[0m\n\u001b[1;32m--> 232\u001b[1;33m                              'to get valid options.' % (scoring))\n\u001b[0m\u001b[0;32m    233\u001b[0m     \u001b[1;32melse\u001b[0m\u001b[1;33m:\u001b[0m\u001b[1;33m\u001b[0m\u001b[1;33m\u001b[0m\u001b[0m\n\u001b[0;32m    234\u001b[0m         \u001b[0mscorer\u001b[0m \u001b[1;33m=\u001b[0m \u001b[0mscoring\u001b[0m\u001b[1;33m\u001b[0m\u001b[1;33m\u001b[0m\u001b[0m\n",
      "\u001b[1;31mValueError\u001b[0m: 'neg_mean_squared error' is not a valid scoring value. Use sorted(sklearn.metrics.SCORERS.keys()) to get valid options."
     ]
    }
   ],
   "source": [
    "#Hyperparameter tuning for Naive Bayes\n",
    "gsc = GridSearchCV(\n",
    "        estimator = MultinomialNB(),\n",
    "        param_grid = {\n",
    "            'alpha': [0.0001, 0.001, 0.01, 0.1, 1, 10, 100, 1000, 10000]\n",
    "        }, cv = 3, scoring = 'neg_mean_squared error', verbose = 10)\n",
    "\n",
    "grid_result = gsc.fit(X_aw2v_tr, y_aw2v_tr)\n",
    "best_params = grid_result.best_params_\n",
    "print(best_params)\n",
    "print(gsc.score(X_aw2v_tr, y_aw2v_tr))\n",
    "best_model = MultinomialNB(alpha = best_params['alpha'])"
   ]
  },
  {
   "cell_type": "code",
   "execution_count": 61,
   "metadata": {},
   "outputs": [
    {
     "name": "stdout",
     "output_type": "stream",
     "text": [
      "Fitting 5 folds for each of 9 candidates, totalling 45 fits\n"
     ]
    },
    {
     "name": "stderr",
     "output_type": "stream",
     "text": [
      "[Parallel(n_jobs=-1)]: Using backend LokyBackend with 12 concurrent workers.\n",
      "[Parallel(n_jobs=-1)]: Done   1 tasks      | elapsed:    2.3s\n",
      "[Parallel(n_jobs=-1)]: Done   8 tasks      | elapsed:    2.6s\n",
      "[Parallel(n_jobs=-1)]: Done  17 tasks      | elapsed:    2.9s\n",
      "[Parallel(n_jobs=-1)]: Done  27 out of  45 | elapsed:    3.2s remaining:    2.1s\n",
      "[Parallel(n_jobs=-1)]: Done  32 out of  45 | elapsed:    3.3s remaining:    1.3s\n",
      "[Parallel(n_jobs=-1)]: Done  37 out of  45 | elapsed:    3.4s remaining:    0.7s\n",
      "[Parallel(n_jobs=-1)]: Done  42 out of  45 | elapsed:    3.5s remaining:    0.2s\n",
      "[Parallel(n_jobs=-1)]: Done  45 out of  45 | elapsed:    3.5s finished\n"
     ]
    },
    {
     "name": "stdout",
     "output_type": "stream",
     "text": [
      "{'alpha': 0.0001}\n",
      "-0.044489795918367346\n"
     ]
    }
   ],
   "source": [
    "#Hyperparamter tuning for logistic regression\n",
    "gsc = GridSearchCV(\n",
    "    estimator = SGDClassifier(loss = 'log'), \n",
    "    param_grid = {\n",
    "        'alpha': [0.00001, 0.0001, 0.001, 0.01, 0.1, 1, 10, 100, 1000]\n",
    "    }, cv = 5, scoring='neg_mean_squared_error', verbose=10, n_jobs=-1)\n",
    "\n",
    "grid_result = gsc.fit(X_aw2v_tr, y_aw2v_tr)\n",
    "best_params = grid_result.best_params_\n",
    "print(best_params)\n",
    "print(gsc.score(X_aw2v_tr, y_aw2v_tr))\n",
    "best_model = SGDClassifier(loss = 'log', alpha = best_params['alpha'])"
   ]
  },
  {
   "cell_type": "code",
   "execution_count": 62,
   "metadata": {},
   "outputs": [
    {
     "data": {
      "image/png": "[encoded data removed]",
      "text/plain": [
       "<Figure size 432x288 with 1 Axes>"
      ]
     },
     "metadata": {
      "needs_background": "light"
     },
     "output_type": "display_data"
    }
   ],
   "source": [
    "#Roc curve using logistic regression\n",
    "#Code taken from https://www.datacamp.com/community/tutorials/understanding-logistic-regression-python\n",
    "best_model.fit(X_aw2v_tr, y_aw2v_tr)\n",
    "\n",
    "y_pred_tr = best_model.predict_proba(X_aw2v_tr)[::,1]\n",
    "y_pred_te = best_model.predict_proba(X_aw2v_te)[::,1]\n",
    "fpr_tr, tpr_tr, _tr = metrics.roc_curve(y_aw2v_tr,  y_pred_tr)\n",
    "fpr_te, tpr_te, _te = metrics.roc_curve(y_aw2v_te,  y_pred_te)\n",
    "auc_tr_aw_lr = metrics.roc_auc_score(y_aw2v_tr, y_pred_tr)\n",
    "auc_te_aw_lr = metrics.roc_auc_score(y_aw2v_te, y_pred_te)\n",
    "plt.plot(fpr_tr,tpr_tr,label=\"Train, auc=\"+str(auc_tr_aw_lr))\n",
    "plt.plot(fpr_te,tpr_te,label=\"Test, auc=\"+str(auc_te_aw_lr))\n",
    "plt.legend(loc=4)\n",
    "plt.show()"
   ]
  },
  {
   "cell_type": "code",
   "execution_count": 38,
   "metadata": {
    "scrolled": true
   },
   "outputs": [
    {
     "name": "stdout",
     "output_type": "stream",
     "text": [
      "Fitting 5 folds for each of 9 candidates, totalling 45 fits\n"
     ]
    },
    {
     "name": "stderr",
     "output_type": "stream",
     "text": [
      "[Parallel(n_jobs=-1)]: Using backend LokyBackend with 12 concurrent workers.\n",
      "[Parallel(n_jobs=-1)]: Done   1 tasks      | elapsed:    3.3s\n",
      "[Parallel(n_jobs=-1)]: Done   8 tasks      | elapsed:    3.6s\n",
      "[Parallel(n_jobs=-1)]: Done  17 tasks      | elapsed:    3.8s\n",
      "[Parallel(n_jobs=-1)]: Done  27 out of  45 | elapsed:    4.0s remaining:    2.6s\n",
      "[Parallel(n_jobs=-1)]: Done  32 out of  45 | elapsed:    4.1s remaining:    1.6s\n",
      "[Parallel(n_jobs=-1)]: Done  37 out of  45 | elapsed:    4.2s remaining:    0.8s\n",
      "[Parallel(n_jobs=-1)]: Done  42 out of  45 | elapsed:    4.2s remaining:    0.2s\n",
      "[Parallel(n_jobs=-1)]: Done  45 out of  45 | elapsed:    4.2s finished\n"
     ]
    },
    {
     "name": "stdout",
     "output_type": "stream",
     "text": [
      "{'alpha': 0.001}\n",
      "-0.06489795918367347\n"
     ]
    }
   ],
   "source": [
    "#Hpyerparamter tuning for SVM\n",
    "gsc = GridSearchCV(\n",
    "    estimator = SGDClassifier(loss = 'hinge'), \n",
    "    param_grid = {\n",
    "        'alpha': [0.00001, 0.0001, 0.001, 0.01, 0.1, 1, 10, 100, 1000]\n",
    "    }, cv = 5, scoring='neg_mean_squared_error', verbose=10, n_jobs=-1)\n",
    "\n",
    "grid_result = gsc.fit(X_aw2v_tr, y_aw2v_tr)\n",
    "best_params = grid_result.best_params_\n",
    "print(best_params)\n",
    "print(gsc.score(X_aw2v_tr, y_aw2v_tr))\n",
    "best_model = SGDClassifier(loss = 'hinge', alpha = best_params['alpha'])"
   ]
  },
  {
   "cell_type": "code",
   "execution_count": 41,
   "metadata": {},
   "outputs": [
    {
     "data": {
      "image/png": "[encoded data removed]",
      "text/plain": [
       "<Figure size 432x288 with 1 Axes>"
      ]
     },
     "metadata": {
      "needs_background": "light"
     },
     "output_type": "display_data"
    }
   ],
   "source": [
    "#Roc curve using SVM\n",
    "#Code taken from https://www.datacamp.com/community/tutorials/understanding-logistic-regression-python\n",
    "best_model.fit(X_aw2v_tr, y_aw2v_tr)\n",
    "\n",
    "y_pred_tr = best_model.predict(X_aw2v_tr)\n",
    "y_pred_te = best_model.predict(X_aw2v_te)\n",
    "fpr_tr, tpr_tr, _tr = metrics.roc_curve(y_aw2v_tr,  y_pred_tr)\n",
    "fpr_te, tpr_te, _te = metrics.roc_curve(y_aw2v_te,  y_pred_te)\n",
    "auc_tr_aw_svm = metrics.roc_auc_score(y_aw2v_tr, y_pred_tr)\n",
    "auc_te_aw_svm = metrics.roc_auc_score(y_aw2v_te, y_pred_te)\n",
    "plt.plot(fpr_tr,tpr_tr,label=\"Train, auc=\"+str(auc_tr_aw_svm))\n",
    "plt.plot(fpr_te,tpr_te,label=\"Test, auc=\"+str(auc_te_aw_svm))\n",
    "plt.legend(loc=4)\n",
    "plt.show()"
   ]
  },
  {
   "cell_type": "code",
   "execution_count": 42,
   "metadata": {},
   "outputs": [
    {
     "name": "stdout",
     "output_type": "stream",
     "text": [
      "Fitting 5 folds for each of 30 candidates, totalling 150 fits\n"
     ]
    },
    {
     "name": "stderr",
     "output_type": "stream",
     "text": [
      "[Parallel(n_jobs=-1)]: Using backend LokyBackend with 12 concurrent workers.\n",
      "[Parallel(n_jobs=-1)]: Done   1 tasks      | elapsed:    0.8s\n",
      "[Parallel(n_jobs=-1)]: Done   8 tasks      | elapsed:    0.8s\n",
      "[Parallel(n_jobs=-1)]: Done  17 tasks      | elapsed:    1.7s\n",
      "[Parallel(n_jobs=-1)]: Done  26 tasks      | elapsed:    2.5s\n",
      "[Parallel(n_jobs=-1)]: Done  37 tasks      | elapsed:    4.3s\n",
      "[Parallel(n_jobs=-1)]: Done  48 tasks      | elapsed:    5.7s\n",
      "[Parallel(n_jobs=-1)]: Done  61 tasks      | elapsed:    9.3s\n",
      "[Parallel(n_jobs=-1)]: Done  74 tasks      | elapsed:   12.5s\n",
      "[Parallel(n_jobs=-1)]: Done  89 tasks      | elapsed:   15.9s\n",
      "[Parallel(n_jobs=-1)]: Done 104 tasks      | elapsed:   24.5s\n",
      "[Parallel(n_jobs=-1)]: Done 121 tasks      | elapsed:   33.0s\n",
      "[Parallel(n_jobs=-1)]: Done 143 out of 150 | elapsed:   45.4s remaining:    2.1s\n",
      "[Parallel(n_jobs=-1)]: Done 150 out of 150 | elapsed:   48.9s finished\n"
     ]
    },
    {
     "name": "stdout",
     "output_type": "stream",
     "text": [
      "{'max_depth': 10, 'min_samples_split': 100}\n",
      "0.9025553187212276\n"
     ]
    }
   ],
   "source": [
    "#Hyperparamter tuning with decision trees\n",
    "gsc = GridSearchCV(\n",
    "    estimator = DecisionTreeClassifier(), \n",
    "    param_grid = {\n",
    "        'max_depth': [2, 5, 10, 20, 50],\n",
    "        'min_samples_split': [5, 10, 20, 30, 50, 100]\n",
    "    }, cv = 5, scoring='roc_auc', verbose=10, n_jobs=-1)\n",
    "\n",
    "grid_result = gsc.fit(X_aw2v_tr, y_aw2v_tr)\n",
    "best_params = grid_result.best_params_\n",
    "print(best_params)\n",
    "print(gsc.score(X_aw2v_tr, y_aw2v_tr))\n",
    "best_model = DecisionTreeClassifier(max_depth = best_params['max_depth'], min_samples_split = best_params['min_samples_split'])"
   ]
  },
  {
   "cell_type": "code",
   "execution_count": 66,
   "metadata": {
    "scrolled": true
   },
   "outputs": [
    {
     "name": "stderr",
     "output_type": "stream",
     "text": [
      "\r",
      "  0%|                                                                                            | 0/5 [00:00<?, ?it/s]"
     ]
    },
    {
     "name": "stdout",
     "output_type": "stream",
     "text": [
      "The accuracy for value of depth: 2 and min samples split: 5 is 0.8869387755102041 for train and 0.8966666666666666 for cv\n",
      "The accuracy for value of depth: 2 and min samples split: 10 is 0.8869387755102041 for train and 0.8966666666666666 for cv\n",
      "The accuracy for value of depth: 2 and min samples split: 20 is 0.8869387755102041 for train and 0.8966666666666666 for cv\n",
      "The accuracy for value of depth: 2 and min samples split: 30 is 0.8869387755102041 for train and 0.8966666666666666 for cv\n",
      "The accuracy for value of depth: 2 and min samples split: 50 is 0.8869387755102041 for train and 0.8966666666666666 for cv\n",
      "The accuracy for value of depth: 2 and min samples split: 100 is 0.8869387755102041 for train and 0.8966666666666666 for cv\n"
     ]
    },
    {
     "name": "stderr",
     "output_type": "stream",
     "text": [
      "\r",
      " 20%|████████████████▊                                                                   | 1/5 [00:03<00:12,  3.06s/it]"
     ]
    },
    {
     "name": "stdout",
     "output_type": "stream",
     "text": [
      "The accuracy for value of depth: 5 and min samples split: 5 is 0.9236734693877551 for train and 0.8885714285714286 for cv\n",
      "The accuracy for value of depth: 5 and min samples split: 10 is 0.9236734693877551 for train and 0.888095238095238 for cv\n",
      "The accuracy for value of depth: 5 and min samples split: 20 is 0.9230612244897959 for train and 0.8885714285714286 for cv\n",
      "The accuracy for value of depth: 5 and min samples split: 30 is 0.9230612244897959 for train and 0.8876190476190476 for cv\n",
      "The accuracy for value of depth: 5 and min samples split: 50 is 0.9181632653061225 for train and 0.8876190476190476 for cv\n",
      "The accuracy for value of depth: 5 and min samples split: 100 is 0.9130612244897959 for train and 0.8876190476190476 for cv\n"
     ]
    },
    {
     "name": "stderr",
     "output_type": "stream",
     "text": [
      "\r",
      " 40%|█████████████████████████████████▌                                                  | 2/5 [00:09<00:12,  4.22s/it]"
     ]
    },
    {
     "name": "stdout",
     "output_type": "stream",
     "text": [
      "The accuracy for value of depth: 10 and min samples split: 5 is 0.976326530612245 for train and 0.8714285714285714 for cv\n",
      "The accuracy for value of depth: 10 and min samples split: 10 is 0.9730612244897959 for train and 0.8638095238095238 for cv\n",
      "The accuracy for value of depth: 10 and min samples split: 20 is 0.9640816326530612 for train and 0.8652380952380953 for cv\n",
      "The accuracy for value of depth: 10 and min samples split: 30 is 0.9567346938775511 for train and 0.8595238095238096 for cv\n",
      "The accuracy for value of depth: 10 and min samples split: 50 is 0.9381632653061225 for train and 0.8695238095238095 for cv\n",
      "The accuracy for value of depth: 10 and min samples split: 100 is 0.923469387755102 for train and 0.8738095238095238 for cv\n"
     ]
    },
    {
     "name": "stderr",
     "output_type": "stream",
     "text": [
      "\r",
      " 60%|██████████████████████████████████████████████████▍                                 | 3/5 [00:22<00:13,  6.68s/it]"
     ]
    },
    {
     "name": "stdout",
     "output_type": "stream",
     "text": [
      "The accuracy for value of depth: 20 and min samples split: 5 is 0.9881632653061224 for train and 0.8561904761904762 for cv\n",
      "The accuracy for value of depth: 20 and min samples split: 10 is 0.9816326530612245 for train and 0.8547619047619047 for cv\n",
      "The accuracy for value of depth: 20 and min samples split: 20 is 0.9693877551020408 for train and 0.8576190476190476 for cv\n",
      "The accuracy for value of depth: 20 and min samples split: 30 is 0.9610204081632653 for train and 0.8471428571428572 for cv\n",
      "The accuracy for value of depth: 20 and min samples split: 50 is 0.9422448979591836 for train and 0.8571428571428571 for cv\n",
      "The accuracy for value of depth: 20 and min samples split: 100 is 0.9263265306122449 for train and 0.8647619047619047 for cv\n"
     ]
    },
    {
     "name": "stderr",
     "output_type": "stream",
     "text": [
      "\r",
      " 80%|███████████████████████████████████████████████████████████████████▏                | 4/5 [00:43<00:11, 11.05s/it]"
     ]
    },
    {
     "name": "stdout",
     "output_type": "stream",
     "text": [
      "The accuracy for value of depth: 50 and min samples split: 5 is 0.9942857142857143 for train and 0.8452380952380952 for cv\n",
      "The accuracy for value of depth: 50 and min samples split: 10 is 0.9855102040816327 for train and 0.8466666666666667 for cv\n",
      "The accuracy for value of depth: 50 and min samples split: 20 is 0.9728571428571429 for train and 0.8504761904761905 for cv\n",
      "The accuracy for value of depth: 50 and min samples split: 30 is 0.9640816326530612 for train and 0.849047619047619 for cv\n",
      "The accuracy for value of depth: 50 and min samples split: 50 is 0.9436734693877551 for train and 0.8547619047619047 for cv\n",
      "The accuracy for value of depth: 50 and min samples split: 100 is 0.9273469387755102 for train and 0.8628571428571429 for cv\n"
     ]
    },
    {
     "name": "stderr",
     "output_type": "stream",
     "text": [
      "100%|████████████████████████████████████████████████████████████████████████████████████| 5/5 [01:09<00:00, 15.43s/it]\n"
     ]
    }
   ],
   "source": [
    "#Manually searching for the best hyperparamter using Decision trees\n",
    "D = [2, 5, 10, 20, 50]\n",
    "MSS = [5, 10, 20, 30, 50, 100]\n",
    "for d in tqdm(D):\n",
    "    for m in MSS:\n",
    "        clf = DecisionTreeClassifier(max_depth = d, min_samples_split = m)\n",
    "        clf.fit(X_aw2v_tr, y_aw2v_tr)\n",
    "\n",
    "        y_pred_tr = clf.predict(X_aw2v_tr)\n",
    "        y_pred_cv = clf.predict(X_aw2v_cv)\n",
    "\n",
    "        tr_acc = accuracy_score(y_aw2v_tr, y_pred_tr)\n",
    "        cv_acc = accuracy_score(y_aw2v_cv, y_pred_cv)\n",
    "    \n",
    "        print(\"The accuracy for value of depth: \" + str(d)+\" and min samples split: \" + str(m) +\" is \" +str(tr_acc)+\" for train and \" + str(cv_acc) +\" for cv\")"
   ]
  },
  {
   "cell_type": "code",
   "execution_count": 43,
   "metadata": {},
   "outputs": [
    {
     "data": {
      "image/png": "[encoded data removed]",
      "text/plain": [
       "<Figure size 432x288 with 1 Axes>"
      ]
     },
     "metadata": {
      "needs_background": "light"
     },
     "output_type": "display_data"
    }
   ],
   "source": [
    "#Plotting the ROC curve for Decision Tree\n",
    "best_model.fit(X_aw2v_tr, y_aw2v_tr)\n",
    "\n",
    "y_pred_tr = best_model.predict_proba(X_aw2v_tr)[::,1]\n",
    "y_pred_te = best_model.predict_proba(X_aw2v_te)[::,1]\n",
    "fpr_tr, tpr_tr, _tr = metrics.roc_curve(y_aw2v_tr,  y_pred_tr)\n",
    "fpr_te, tpr_te, _te = metrics.roc_curve(y_aw2v_te,  y_pred_te)\n",
    "auc_tr_aw_dt = metrics.roc_auc_score(y_aw2v_tr, y_pred_tr)\n",
    "auc_te_aw_dt = metrics.roc_auc_score(y_aw2v_te, y_pred_te)\n",
    "plt.plot(fpr_tr,tpr_tr,label=\"Train, auc=\"+str(auc_tr_aw_dt))\n",
    "plt.plot(fpr_te,tpr_te,label=\"Test, auc=\"+str(auc_te_aw_dt))\n",
    "plt.legend(loc=4)\n",
    "plt.show()"
   ]
  },
  {
   "cell_type": "code",
   "execution_count": 53,
   "metadata": {},
   "outputs": [
    {
     "data": {
      "image/png": "[encoded data removed]",
      "text/plain": [
       "<Figure size 432x288 with 1 Axes>"
      ]
     },
     "metadata": {
      "needs_background": "light"
     },
     "output_type": "display_data"
    }
   ],
   "source": [
    "#Plotting the ROC curve for Decision Tree\n",
    "clf = DecisionTreeClassifier(max_depth = 10, min_samples_split = 5)\n",
    "clf.fit(X_aw2v_tr, y_aw2v_tr)\n",
    "\n",
    "y_pred_tr = clf.predict_proba(X_aw2v_tr)[::,1]\n",
    "y_pred_te = clf.predict_proba(X_aw2v_te)[::,1]\n",
    "fpr_tr, tpr_tr, _tr = metrics.roc_curve(y_aw2v_tr,  y_pred_tr)\n",
    "fpr_te, tpr_te, _te = metrics.roc_curve(y_aw2v_te,  y_pred_te)\n",
    "auc_tr_aw_dt2 = metrics.roc_auc_score(y_aw2v_tr, y_pred_tr)\n",
    "auc_te_aw_dt2 = metrics.roc_auc_score(y_aw2v_te, y_pred_te)\n",
    "plt.plot(fpr_tr,tpr_tr,label=\"Train, auc=\"+str(auc_tr_aw_dt2))\n",
    "plt.plot(fpr_te,tpr_te,label=\"Test, auc=\"+str(auc_te_aw_dt2))\n",
    "plt.legend(loc=4)\n",
    "plt.show()"
   ]
  },
  {
   "cell_type": "markdown",
   "metadata": {},
   "source": [
    "# 4. TF-IDF WEIGHTED WORD2VEC"
   ]
  },
  {
   "cell_type": "code",
   "execution_count": 44,
   "metadata": {},
   "outputs": [],
   "source": [
    "model = TfidfVectorizer()\n",
    "#model.fit(preprocessed_reviews[0:5000])\n",
    "model.fit(preprocessed_reviews[:10000])\n",
    "# we are converting a dictionary with word as a key, and the idf as a value\n",
    "dictionary = dict(zip(model.get_feature_names(), list(model.idf_)))"
   ]
  },
  {
   "cell_type": "code",
   "execution_count": 45,
   "metadata": {},
   "outputs": [
    {
     "data": {
      "text/plain": [
       "21580"
      ]
     },
     "execution_count": 45,
     "metadata": {},
     "output_type": "execute_result"
    }
   ],
   "source": [
    "len(dictionary)"
   ]
  },
  {
   "cell_type": "code",
   "execution_count": 46,
   "metadata": {},
   "outputs": [
    {
     "name": "stderr",
     "output_type": "stream",
     "text": [
      "100%|████████████████████████████████████████████████████████████████████████████| 10000/10000 [13:51<00:00, 12.03it/s]\n"
     ]
    }
   ],
   "source": [
    "# TF-IDF weighted Word2Vec\n",
    "tfidf_feat = model.get_feature_names() # tfidf words/col-names\n",
    "# final_tf_idf is the sparse matrix with row= sentence, col=word and cell_val = tfidf\n",
    "\n",
    "tfidf_sent_vectors = []; # the tfidf-w2v for each sentence/review is stored in this list\n",
    "row=0;\n",
    "for sent in tqdm(list_of_sentance): # for each review/sentence \n",
    "    sent_vec = np.zeros(300) # as word vectors are of zero length\n",
    "    weight_sum =0; # num of words with a valid vector in the sentence/review\n",
    "    for word in sent: # for each word in a review/sentence\n",
    "        if word in w2v_words and word in tfidf_feat:\n",
    "            vec = w2v_model.wv[word]\n",
    "#             tf_idf = tf_idf_matrix[row, tfidf_feat.index(word)]\n",
    "            # to reduce the computation we are \n",
    "            # dictionary[word] = idf value of word in whole courpus\n",
    "            # sent.count(word) = tf valeus of word in this review\n",
    "            tf_idf = dictionary[word]*(sent.count(word)/len(sent))\n",
    "            sent_vec += (vec * tf_idf)\n",
    "            weight_sum += tf_idf\n",
    "    if weight_sum != 0:\n",
    "        sent_vec /= weight_sum\n",
    "    tfidf_sent_vectors.append(sent_vec)\n",
    "    row += 1"
   ]
  },
  {
   "cell_type": "code",
   "execution_count": 47,
   "metadata": {},
   "outputs": [],
   "source": [
    "model = TfidfVectorizer()\n",
    "model.fit(preprocessed_summaries[0:10000])\n",
    "# we are converting a dictionary with word as a key, and the idf as a value\n",
    "dictionary = dict(zip(model.get_feature_names(), list(model.idf_)))"
   ]
  },
  {
   "cell_type": "code",
   "execution_count": 48,
   "metadata": {},
   "outputs": [
    {
     "name": "stderr",
     "output_type": "stream",
     "text": [
      "100%|███████████████████████████████████████████████████████████████████████████| 10000/10000 [01:22<00:00, 121.00it/s]\n"
     ]
    }
   ],
   "source": [
    "tfidf_feat = model.get_feature_names() # tfidf words/col-names\n",
    "# final_tf_idf is the sparse matrix with row= sentence, col=word and cell_val = tfidf\n",
    "\n",
    "tfidf_sum_vectors = []; # the tfidf-w2v for each sentence/review is stored in this list\n",
    "row=0;\n",
    "for sent in tqdm(summary_list): # for each review/sentence \n",
    "    sent_vec = np.zeros(300) # as word vectors are of zero length\n",
    "    weight_sum = 0; # num of words with a valid vector in the sentence/review\n",
    "    for word in sent: # for each word in a review/sentence\n",
    "        if word in w2v_words and word in tfidf_feat:\n",
    "            vec = w2v_model.wv[word]\n",
    "#             tf_idf = tf_idf_matrix[row, tfidf_feat.index(word)]\n",
    "            # to reduce the computation we are \n",
    "            # dictionary[word] = idf value of word in whole courpus\n",
    "            # sent.count(word) = tf valeus of word in this review\n",
    "            tf_idf = dictionary[word]*(sent.count(word)/len(sent))\n",
    "            sent_vec += (vec * tf_idf)\n",
    "            weight_sum += tf_idf\n",
    "    if weight_sum != 0:\n",
    "        sent_vec /= weight_sum\n",
    "    tfidf_sum_vectors.append(sent_vec)\n",
    "    row += 1"
   ]
  },
  {
   "cell_type": "code",
   "execution_count": 49,
   "metadata": {},
   "outputs": [
    {
     "name": "stdout",
     "output_type": "stream",
     "text": [
      "(10000, 300) (10000, 300)\n"
     ]
    }
   ],
   "source": [
    "tsev = np.asarray(tfidf_sent_vectors)\n",
    "tsuv = np.asarray(tfidf_sum_vectors)\n",
    "print(sev.shape, suv.shape)"
   ]
  },
  {
   "cell_type": "code",
   "execution_count": 50,
   "metadata": {},
   "outputs": [
    {
     "name": "stdout",
     "output_type": "stream",
     "text": [
      "1    8868\n",
      "0    1132\n",
      "Name: Score, dtype: int64\n",
      "(10000, 600)\n"
     ]
    }
   ],
   "source": [
    "y = Y[:10000]\n",
    "print(y.value_counts())\n",
    "X_tw2v = (np.vstack((tsev.T, tsuv.T))).T\n",
    "print(X_aw2v.shape)\n",
    "X_tw2v_1, X_tw2v_te, y_tw2v_1, y_tw2v_te = train_test_split(X_tw2v, y, test_size = 0.3, random_state = 0)\n",
    "X_tw2v_tr, X_tw2v_cv, y_tw2v_tr, y_tw2v_cv = train_test_split(X_tw2v_1, y_tw2v_1, test_size = 0.3, random_state = 0)"
   ]
  },
  {
   "cell_type": "code",
   "execution_count": 76,
   "metadata": {},
   "outputs": [
    {
     "name": "stderr",
     "output_type": "stream",
     "text": [
      "\r",
      "  0%|                                                                                            | 0/9 [00:00<?, ?it/s]"
     ]
    },
    {
     "name": "stdout",
     "output_type": "stream",
     "text": [
      "The accuracy for1nearest neighbors is:1.0for train and0.8904761904761904for cv\n"
     ]
    },
    {
     "name": "stderr",
     "output_type": "stream",
     "text": [
      "\r",
      " 11%|█████████▎                                                                          | 1/9 [00:10<01:26, 10.86s/it]"
     ]
    },
    {
     "name": "stdout",
     "output_type": "stream",
     "text": [
      "The accuracy for3nearest neighbors is:0.9359183673469388for train and0.9004761904761904for cv\n"
     ]
    },
    {
     "name": "stderr",
     "output_type": "stream",
     "text": [
      "\r",
      " 22%|██████████████████▋                                                                 | 2/9 [00:45<02:06, 18.02s/it]"
     ]
    },
    {
     "name": "stdout",
     "output_type": "stream",
     "text": [
      "The accuracy for5nearest neighbors is:0.9236734693877551for train and0.910952380952381for cv\n"
     ]
    },
    {
     "name": "stderr",
     "output_type": "stream",
     "text": [
      "\r",
      " 33%|████████████████████████████                                                        | 3/9 [01:20<02:18, 23.10s/it]"
     ]
    },
    {
     "name": "stdout",
     "output_type": "stream",
     "text": [
      "The accuracy for9nearest neighbors is:0.9108163265306123for train and0.9071428571428571for cv\n"
     ]
    },
    {
     "name": "stderr",
     "output_type": "stream",
     "text": [
      "\r",
      " 44%|█████████████████████████████████████▎                                              | 4/9 [01:55<02:13, 26.66s/it]"
     ]
    },
    {
     "name": "stdout",
     "output_type": "stream",
     "text": [
      "The accuracy for13nearest neighbors is:0.9038775510204081for train and0.9047619047619048for cv\n"
     ]
    },
    {
     "name": "stderr",
     "output_type": "stream",
     "text": [
      "\r",
      " 56%|██████████████████████████████████████████████▋                                     | 5/9 [02:30<01:56, 29.21s/it]"
     ]
    },
    {
     "name": "stdout",
     "output_type": "stream",
     "text": [
      "The accuracy for19nearest neighbors is:0.8973469387755102for train and0.9052380952380953for cv\n"
     ]
    },
    {
     "name": "stderr",
     "output_type": "stream",
     "text": [
      "\r",
      " 67%|████████████████████████████████████████████████████████                            | 6/9 [03:05<01:32, 30.96s/it]"
     ]
    },
    {
     "name": "stdout",
     "output_type": "stream",
     "text": [
      "The accuracy for25nearest neighbors is:0.8938775510204081for train and0.9014285714285715for cv\n"
     ]
    },
    {
     "name": "stderr",
     "output_type": "stream",
     "text": [
      "\r",
      " 78%|█████████████████████████████████████████████████████████████████▎                  | 7/9 [03:40<01:04, 32.23s/it]"
     ]
    },
    {
     "name": "stdout",
     "output_type": "stream",
     "text": [
      "The accuracy for35nearest neighbors is:0.8922448979591837for train and0.9014285714285715for cv\n"
     ]
    },
    {
     "name": "stderr",
     "output_type": "stream",
     "text": [
      "\r",
      " 89%|██████████████████████████████████████████████████████████████████████████▋         | 8/9 [04:16<00:33, 33.11s/it]"
     ]
    },
    {
     "name": "stdout",
     "output_type": "stream",
     "text": [
      "The accuracy for50nearest neighbors is:0.8918367346938776for train and0.9for cv\n"
     ]
    },
    {
     "name": "stderr",
     "output_type": "stream",
     "text": [
      "100%|████████████████████████████████████████████████████████████████████████████████████| 9/9 [04:51<00:00, 33.71s/it]\n"
     ]
    }
   ],
   "source": [
    "#Manually searching for best hyperparameter using KNN\n",
    "from sklearn.metrics import accuracy_score\n",
    "ks = [1, 3, 5, 9, 13, 19, 25, 35, 50]\n",
    "for k in tqdm(ks):\n",
    "    clf = KNeighborsClassifier(n_neighbors = k)\n",
    "    clf.fit(X_tw2v_tr, y_tw2v_tr)\n",
    "    \n",
    "    y_pred_tr = clf.predict(X_tw2v_tr)\n",
    "    y_pred_cv = clf.predict(X_tw2v_cv)\n",
    "    \n",
    "    tr_acc = accuracy_score(y_tw2v_tr, y_pred_tr)\n",
    "    cv_acc = accuracy_score(y_tw2v_cv, y_pred_cv)\n",
    "    \n",
    "    print(\"The accuracy for\" + str(k) + \"nearest neighbors is:\" +str(tr_acc)+\"for train and\" + str(cv_acc) +\"for cv\")"
   ]
  },
  {
   "cell_type": "code",
   "execution_count": 120,
   "metadata": {},
   "outputs": [
    {
     "name": "stdout",
     "output_type": "stream",
     "text": [
      "Fitting 3 folds for each of 9 candidates, totalling 27 fits\n"
     ]
    },
    {
     "name": "stderr",
     "output_type": "stream",
     "text": [
      "[Parallel(n_jobs=1)]: Using backend SequentialBackend with 1 concurrent workers.\n"
     ]
    },
    {
     "name": "stdout",
     "output_type": "stream",
     "text": [
      "[CV] n_neighbors=1 ...................................................\n",
      "[CV] ....................... n_neighbors=1, score=0.634, total=   5.1s\n"
     ]
    },
    {
     "name": "stderr",
     "output_type": "stream",
     "text": [
      "[Parallel(n_jobs=1)]: Done   1 out of   1 | elapsed:    5.0s remaining:    0.0s\n"
     ]
    },
    {
     "name": "stdout",
     "output_type": "stream",
     "text": [
      "[CV] n_neighbors=1 ...................................................\n",
      "[CV] ....................... n_neighbors=1, score=0.682, total=   5.0s\n"
     ]
    },
    {
     "name": "stderr",
     "output_type": "stream",
     "text": [
      "[Parallel(n_jobs=1)]: Done   2 out of   2 | elapsed:   10.0s remaining:    0.0s\n"
     ]
    },
    {
     "name": "stdout",
     "output_type": "stream",
     "text": [
      "[CV] n_neighbors=1 ...................................................\n",
      "[CV] ....................... n_neighbors=1, score=0.648, total=   4.9s\n"
     ]
    },
    {
     "name": "stderr",
     "output_type": "stream",
     "text": [
      "[Parallel(n_jobs=1)]: Done   3 out of   3 | elapsed:   14.9s remaining:    0.0s\n"
     ]
    },
    {
     "name": "stdout",
     "output_type": "stream",
     "text": [
      "[CV] n_neighbors=3 ...................................................\n",
      "[CV] ....................... n_neighbors=3, score=0.662, total=   4.8s\n"
     ]
    },
    {
     "name": "stderr",
     "output_type": "stream",
     "text": [
      "[Parallel(n_jobs=1)]: Done   4 out of   4 | elapsed:   19.7s remaining:    0.0s\n"
     ]
    },
    {
     "name": "stdout",
     "output_type": "stream",
     "text": [
      "[CV] n_neighbors=3 ...................................................\n",
      "[CV] ....................... n_neighbors=3, score=0.768, total=   4.7s\n"
     ]
    },
    {
     "name": "stderr",
     "output_type": "stream",
     "text": [
      "[Parallel(n_jobs=1)]: Done   5 out of   5 | elapsed:   24.4s remaining:    0.0s\n"
     ]
    },
    {
     "name": "stdout",
     "output_type": "stream",
     "text": [
      "[CV] n_neighbors=3 ...................................................\n",
      "[CV] ....................... n_neighbors=3, score=0.718, total=   4.8s\n"
     ]
    },
    {
     "name": "stderr",
     "output_type": "stream",
     "text": [
      "[Parallel(n_jobs=1)]: Done   6 out of   6 | elapsed:   29.2s remaining:    0.0s\n"
     ]
    },
    {
     "name": "stdout",
     "output_type": "stream",
     "text": [
      "[CV] n_neighbors=5 ...................................................\n",
      "[CV] ....................... n_neighbors=5, score=0.703, total=   4.9s\n"
     ]
    },
    {
     "name": "stderr",
     "output_type": "stream",
     "text": [
      "[Parallel(n_jobs=1)]: Done   7 out of   7 | elapsed:   34.1s remaining:    0.0s\n"
     ]
    },
    {
     "name": "stdout",
     "output_type": "stream",
     "text": [
      "[CV] n_neighbors=5 ...................................................\n",
      "[CV] ....................... n_neighbors=5, score=0.793, total=   4.8s\n"
     ]
    },
    {
     "name": "stderr",
     "output_type": "stream",
     "text": [
      "[Parallel(n_jobs=1)]: Done   8 out of   8 | elapsed:   38.9s remaining:    0.0s\n"
     ]
    },
    {
     "name": "stdout",
     "output_type": "stream",
     "text": [
      "[CV] n_neighbors=5 ...................................................\n",
      "[CV] ....................... n_neighbors=5, score=0.760, total=   4.9s\n"
     ]
    },
    {
     "name": "stderr",
     "output_type": "stream",
     "text": [
      "[Parallel(n_jobs=1)]: Done   9 out of   9 | elapsed:   43.8s remaining:    0.0s\n"
     ]
    },
    {
     "name": "stdout",
     "output_type": "stream",
     "text": [
      "[CV] n_neighbors=9 ...................................................\n",
      "[CV] ....................... n_neighbors=9, score=0.727, total=   4.9s\n",
      "[CV] n_neighbors=9 ...................................................\n",
      "[CV] ....................... n_neighbors=9, score=0.819, total=   5.2s\n",
      "[CV] n_neighbors=9 ...................................................\n",
      "[CV] ....................... n_neighbors=9, score=0.787, total=   5.1s\n",
      "[CV] n_neighbors=13 ..................................................\n",
      "[CV] ...................... n_neighbors=13, score=0.750, total=   5.0s\n",
      "[CV] n_neighbors=13 ..................................................\n",
      "[CV] ...................... n_neighbors=13, score=0.832, total=   5.0s\n",
      "[CV] n_neighbors=13 ..................................................\n",
      "[CV] ...................... n_neighbors=13, score=0.793, total=   4.8s\n",
      "[CV] n_neighbors=19 ..................................................\n",
      "[CV] ...................... n_neighbors=19, score=0.779, total=   4.8s\n",
      "[CV] n_neighbors=19 ..................................................\n",
      "[CV] ...................... n_neighbors=19, score=0.832, total=   4.8s\n",
      "[CV] n_neighbors=19 ..................................................\n",
      "[CV] ...................... n_neighbors=19, score=0.822, total=   4.8s\n",
      "[CV] n_neighbors=25 ..................................................\n",
      "[CV] ...................... n_neighbors=25, score=0.791, total=   4.9s\n",
      "[CV] n_neighbors=25 ..................................................\n",
      "[CV] ...................... n_neighbors=25, score=0.841, total=   4.8s\n",
      "[CV] n_neighbors=25 ..................................................\n",
      "[CV] ...................... n_neighbors=25, score=0.831, total=   4.9s\n",
      "[CV] n_neighbors=35 ..................................................\n",
      "[CV] ...................... n_neighbors=35, score=0.800, total=   4.8s\n",
      "[CV] n_neighbors=35 ..................................................\n",
      "[CV] ...................... n_neighbors=35, score=0.848, total=   4.8s\n",
      "[CV] n_neighbors=35 ..................................................\n",
      "[CV] ...................... n_neighbors=35, score=0.850, total=   5.1s\n",
      "[CV] n_neighbors=50 ..................................................\n",
      "[CV] ...................... n_neighbors=50, score=0.805, total=   5.2s\n",
      "[CV] n_neighbors=50 ..................................................\n",
      "[CV] ...................... n_neighbors=50, score=0.850, total=   4.8s\n",
      "[CV] n_neighbors=50 ..................................................\n",
      "[CV] ...................... n_neighbors=50, score=0.850, total=   4.8s\n"
     ]
    },
    {
     "name": "stderr",
     "output_type": "stream",
     "text": [
      "[Parallel(n_jobs=1)]: Done  27 out of  27 | elapsed:  2.2min finished\n"
     ]
    },
    {
     "name": "stdout",
     "output_type": "stream",
     "text": [
      "{'n_neighbors': 50}\n",
      "0.8912845290328797\n"
     ]
    }
   ],
   "source": [
    "#Hyperparamter tuning for KNN\n",
    "from sklearn.model_selection import GridSearchCV\n",
    "gsc = GridSearchCV(\n",
    "        estimator = KNeighborsClassifier(),\n",
    "        param_grid = {\n",
    "            'n_neighbors': [1, 3, 5, 9, 13, 19, 25, 35, 50]\n",
    "        }, cv = 3, scoring = 'roc_auc', verbose = 10)\n",
    "\n",
    "grid_result = gsc.fit(X_tw2v_tr, y_tw2v_tr)\n",
    "best_params = grid_result.best_params_\n",
    "print(best_params)\n",
    "print(gsc.score(X_tw2v_tr, y_tw2v_tr))\n",
    "best_model = KNeighborsClassifier(n_neighbors = best_params['n_neighbors'])"
   ]
  },
  {
   "cell_type": "code",
   "execution_count": 122,
   "metadata": {},
   "outputs": [
    {
     "data": {
      "image/png": "[encoded data removed]",
      "text/plain": [
       "<Figure size 432x288 with 1 Axes>"
      ]
     },
     "metadata": {
      "needs_background": "light"
     },
     "output_type": "display_data"
    }
   ],
   "source": [
    "#Plotting the ROC curve for KNN\n",
    "best_model.fit(X_tw2v_tr, y_tw2v_tr)\n",
    "\n",
    "y_pred_tr = best_model.predict_proba(X_tw2v_tr)[::,1]\n",
    "y_pred_te = best_model.predict_proba(X_tw2v_te)[::,1]\n",
    "fpr_tr, tpr_tr, _tr = metrics.roc_curve(y_tw2v_tr,  y_pred_tr)\n",
    "fpr_te, tpr_te, _te = metrics.roc_curve(y_tw2v_te,  y_pred_te)\n",
    "auc_tr_tw_knn = metrics.roc_auc_score(y_tw2v_tr, y_pred_tr)\n",
    "auc_te_tw_knn = metrics.roc_auc_score(y_tw2v_te, y_pred_te)\n",
    "plt.plot(fpr_tr,tpr_tr,label=\"Train, auc=\"+str(auc_tr_tw_knn))\n",
    "plt.plot(fpr_te,tpr_te,label=\"Test, auc=\"+str(auc_te_tw_knn))\n",
    "plt.legend(loc=4)\n",
    "plt.show()"
   ]
  },
  {
   "cell_type": "code",
   "execution_count": 79,
   "metadata": {
    "scrolled": true
   },
   "outputs": [
    {
     "ename": "ValueError",
     "evalue": "Input X must be non-negative",
     "output_type": "error",
     "traceback": [
      "\u001b[1;31m---------------------------------------------------------------------------\u001b[0m",
      "\u001b[1;31mValueError\u001b[0m                                Traceback (most recent call last)",
      "\u001b[1;32m<ipython-input-79-fcc482ca66db>\u001b[0m in \u001b[0;36m<module>\u001b[1;34m\u001b[0m\n\u001b[0;32m      4\u001b[0m \u001b[1;32mfor\u001b[0m \u001b[0ma\u001b[0m \u001b[1;32min\u001b[0m \u001b[0mA\u001b[0m\u001b[1;33m:\u001b[0m\u001b[1;33m\u001b[0m\u001b[1;33m\u001b[0m\u001b[0m\n\u001b[0;32m      5\u001b[0m     \u001b[0mclf\u001b[0m \u001b[1;33m=\u001b[0m \u001b[0mMultinomialNB\u001b[0m\u001b[1;33m(\u001b[0m\u001b[0malpha\u001b[0m \u001b[1;33m=\u001b[0m \u001b[0ma\u001b[0m\u001b[1;33m)\u001b[0m\u001b[1;33m\u001b[0m\u001b[1;33m\u001b[0m\u001b[0m\n\u001b[1;32m----> 6\u001b[1;33m     \u001b[0mclf\u001b[0m\u001b[1;33m.\u001b[0m\u001b[0mfit\u001b[0m\u001b[1;33m(\u001b[0m\u001b[0mX_tw2v_tr\u001b[0m\u001b[1;33m,\u001b[0m \u001b[0my_tw2v_tr\u001b[0m\u001b[1;33m)\u001b[0m\u001b[1;33m\u001b[0m\u001b[1;33m\u001b[0m\u001b[0m\n\u001b[0m\u001b[0;32m      7\u001b[0m \u001b[1;33m\u001b[0m\u001b[0m\n\u001b[0;32m      8\u001b[0m     \u001b[0my_pred_tr\u001b[0m \u001b[1;33m=\u001b[0m \u001b[0mclf\u001b[0m\u001b[1;33m.\u001b[0m\u001b[0mpredict\u001b[0m\u001b[1;33m(\u001b[0m\u001b[0mX_tw2v_tr\u001b[0m\u001b[1;33m)\u001b[0m\u001b[1;33m\u001b[0m\u001b[1;33m\u001b[0m\u001b[0m\n",
      "\u001b[1;32mc:\\users\\asus\\appdata\\local\\programs\\python\\python37\\lib\\site-packages\\sklearn\\naive_bayes.py\u001b[0m in \u001b[0;36mfit\u001b[1;34m(self, X, y, sample_weight)\u001b[0m\n\u001b[0;32m    611\u001b[0m         self.feature_count_ = np.zeros((n_effective_classes, n_features),\n\u001b[0;32m    612\u001b[0m                                        dtype=np.float64)\n\u001b[1;32m--> 613\u001b[1;33m         \u001b[0mself\u001b[0m\u001b[1;33m.\u001b[0m\u001b[0m_count\u001b[0m\u001b[1;33m(\u001b[0m\u001b[0mX\u001b[0m\u001b[1;33m,\u001b[0m \u001b[0mY\u001b[0m\u001b[1;33m)\u001b[0m\u001b[1;33m\u001b[0m\u001b[1;33m\u001b[0m\u001b[0m\n\u001b[0m\u001b[0;32m    614\u001b[0m         \u001b[0malpha\u001b[0m \u001b[1;33m=\u001b[0m \u001b[0mself\u001b[0m\u001b[1;33m.\u001b[0m\u001b[0m_check_alpha\u001b[0m\u001b[1;33m(\u001b[0m\u001b[1;33m)\u001b[0m\u001b[1;33m\u001b[0m\u001b[1;33m\u001b[0m\u001b[0m\n\u001b[0;32m    615\u001b[0m         \u001b[0mself\u001b[0m\u001b[1;33m.\u001b[0m\u001b[0m_update_feature_log_prob\u001b[0m\u001b[1;33m(\u001b[0m\u001b[0malpha\u001b[0m\u001b[1;33m)\u001b[0m\u001b[1;33m\u001b[0m\u001b[1;33m\u001b[0m\u001b[0m\n",
      "\u001b[1;32mc:\\users\\asus\\appdata\\local\\programs\\python\\python37\\lib\\site-packages\\sklearn\\naive_bayes.py\u001b[0m in \u001b[0;36m_count\u001b[1;34m(self, X, Y)\u001b[0m\n\u001b[0;32m    718\u001b[0m         \u001b[1;34m\"\"\"Count and smooth feature occurrences.\"\"\"\u001b[0m\u001b[1;33m\u001b[0m\u001b[1;33m\u001b[0m\u001b[0m\n\u001b[0;32m    719\u001b[0m         \u001b[1;32mif\u001b[0m \u001b[0mnp\u001b[0m\u001b[1;33m.\u001b[0m\u001b[0many\u001b[0m\u001b[1;33m(\u001b[0m\u001b[1;33m(\u001b[0m\u001b[0mX\u001b[0m\u001b[1;33m.\u001b[0m\u001b[0mdata\u001b[0m \u001b[1;32mif\u001b[0m \u001b[0missparse\u001b[0m\u001b[1;33m(\u001b[0m\u001b[0mX\u001b[0m\u001b[1;33m)\u001b[0m \u001b[1;32melse\u001b[0m \u001b[0mX\u001b[0m\u001b[1;33m)\u001b[0m \u001b[1;33m<\u001b[0m \u001b[1;36m0\u001b[0m\u001b[1;33m)\u001b[0m\u001b[1;33m:\u001b[0m\u001b[1;33m\u001b[0m\u001b[1;33m\u001b[0m\u001b[0m\n\u001b[1;32m--> 720\u001b[1;33m             \u001b[1;32mraise\u001b[0m \u001b[0mValueError\u001b[0m\u001b[1;33m(\u001b[0m\u001b[1;34m\"Input X must be non-negative\"\u001b[0m\u001b[1;33m)\u001b[0m\u001b[1;33m\u001b[0m\u001b[1;33m\u001b[0m\u001b[0m\n\u001b[0m\u001b[0;32m    721\u001b[0m         \u001b[0mself\u001b[0m\u001b[1;33m.\u001b[0m\u001b[0mfeature_count_\u001b[0m \u001b[1;33m+=\u001b[0m \u001b[0msafe_sparse_dot\u001b[0m\u001b[1;33m(\u001b[0m\u001b[0mY\u001b[0m\u001b[1;33m.\u001b[0m\u001b[0mT\u001b[0m\u001b[1;33m,\u001b[0m \u001b[0mX\u001b[0m\u001b[1;33m)\u001b[0m\u001b[1;33m\u001b[0m\u001b[1;33m\u001b[0m\u001b[0m\n\u001b[0;32m    722\u001b[0m         \u001b[0mself\u001b[0m\u001b[1;33m.\u001b[0m\u001b[0mclass_count_\u001b[0m \u001b[1;33m+=\u001b[0m \u001b[0mY\u001b[0m\u001b[1;33m.\u001b[0m\u001b[0msum\u001b[0m\u001b[1;33m(\u001b[0m\u001b[0maxis\u001b[0m\u001b[1;33m=\u001b[0m\u001b[1;36m0\u001b[0m\u001b[1;33m)\u001b[0m\u001b[1;33m\u001b[0m\u001b[1;33m\u001b[0m\u001b[0m\n",
      "\u001b[1;31mValueError\u001b[0m: Input X must be non-negative"
     ]
    }
   ],
   "source": [
    "#Application of Naive Bayes\n",
    "from sklearn.metrics import accuracy_score\n",
    "A = [0.0001, 0.001, 0.01, 0.1, 1, 10, 100, 1000, 10000]\n",
    "for a in A:\n",
    "    clf = MultinomialNB(alpha = a)\n",
    "    clf.fit(X_tw2v_tr, y_tw2v_tr)\n",
    "    \n",
    "    y_pred_tr = clf.predict(X_tw2v_tr)\n",
    "    y_pred_cv = clf.predict(X_tw2v_cv)\n",
    "    \n",
    "    tr_acc = accuracy_score(y_tw2v_tr, y_pred_tr)\n",
    "    cv_acc = accuracy_score(y_tw2v_cv, y_pred_cv)\n",
    "    \n",
    "    print(\"The accuracy for value of alpha: \" + str(a)+\" is \" +str(tr_acc)+\" for train and \" + str(cv_acc) +\"for cv\")"
   ]
  },
  {
   "cell_type": "code",
   "execution_count": 80,
   "metadata": {
    "scrolled": true
   },
   "outputs": [
    {
     "name": "stdout",
     "output_type": "stream",
     "text": [
      "Fitting 5 folds for each of 9 candidates, totalling 45 fits\n"
     ]
    },
    {
     "name": "stderr",
     "output_type": "stream",
     "text": [
      "[Parallel(n_jobs=-1)]: Using backend LokyBackend with 12 concurrent workers.\n",
      "[Parallel(n_jobs=-1)]: Done   1 tasks      | elapsed:    2.5s\n",
      "[Parallel(n_jobs=-1)]: Done   8 tasks      | elapsed:    2.8s\n",
      "[Parallel(n_jobs=-1)]: Done  17 tasks      | elapsed:    3.0s\n",
      "[Parallel(n_jobs=-1)]: Done  27 out of  45 | elapsed:    3.2s remaining:    2.1s\n",
      "[Parallel(n_jobs=-1)]: Done  32 out of  45 | elapsed:    3.4s remaining:    1.3s\n",
      "[Parallel(n_jobs=-1)]: Done  37 out of  45 | elapsed:    3.5s remaining:    0.7s\n",
      "[Parallel(n_jobs=-1)]: Done  42 out of  45 | elapsed:    3.6s remaining:    0.2s\n",
      "[Parallel(n_jobs=-1)]: Done  45 out of  45 | elapsed:    3.6s finished\n"
     ]
    },
    {
     "name": "stdout",
     "output_type": "stream",
     "text": [
      "{'alpha': 0.001}\n",
      "0.9472987318933881\n"
     ]
    }
   ],
   "source": [
    "#Hyperparamter tuning for logistic regression\n",
    "gsc = GridSearchCV(\n",
    "    estimator = SGDClassifier(loss = 'log'), \n",
    "    param_grid = {\n",
    "        'alpha': [0.00001, 0.0001, 0.001, 0.01, 0.1, 1, 10, 100, 1000]\n",
    "    }, cv = 5, scoring='roc_auc', verbose=10, n_jobs=-1)\n",
    "\n",
    "grid_result = gsc.fit(X_tw2v_tr, y_tw2v_tr)\n",
    "best_params = grid_result.best_params_\n",
    "print(best_params)\n",
    "print(gsc.score(X_tw2v_tr, y_tw2v_tr))\n",
    "best_model = SGDClassifier(loss = 'log', alpha = best_params['alpha'])"
   ]
  },
  {
   "cell_type": "code",
   "execution_count": 81,
   "metadata": {},
   "outputs": [
    {
     "data": {
      "image/png": "[encoded data removed]",
      "text/plain": [
       "<Figure size 432x288 with 1 Axes>"
      ]
     },
     "metadata": {
      "needs_background": "light"
     },
     "output_type": "display_data"
    }
   ],
   "source": [
    "#Roc curve using logistic regression\n",
    "#Code taken from https://www.datacamp.com/community/tutorials/understanding-logistic-regression-python\n",
    "best_model.fit(X_tw2v_tr, y_tw2v_tr)\n",
    "\n",
    "y_pred_tr = best_model.predict_proba(X_tw2v_tr)[::,1]\n",
    "y_pred_te = best_model.predict_proba(X_tw2v_te)[::,1]\n",
    "fpr_tr, tpr_tr, _tr = metrics.roc_curve(y_tw2v_tr,  y_pred_tr)\n",
    "fpr_te, tpr_te, _te = metrics.roc_curve(y_tw2v_te,  y_pred_te)\n",
    "auc_tr_tw_lr = metrics.roc_auc_score(y_tw2v_tr, y_pred_tr)\n",
    "auc_te_tw_lr = metrics.roc_auc_score(y_tw2v_te, y_pred_te)\n",
    "plt.plot(fpr_tr,tpr_tr,label=\"Train, auc=\"+str(auc_tr_tw_lr))\n",
    "plt.plot(fpr_te,tpr_te,label=\"Test, auc=\"+str(auc_te_tw_lr))\n",
    "plt.legend(loc=4)\n",
    "plt.show()"
   ]
  },
  {
   "cell_type": "code",
   "execution_count": 82,
   "metadata": {},
   "outputs": [
    {
     "name": "stdout",
     "output_type": "stream",
     "text": [
      "Fitting 5 folds for each of 9 candidates, totalling 45 fits\n"
     ]
    },
    {
     "name": "stderr",
     "output_type": "stream",
     "text": [
      "[Parallel(n_jobs=-1)]: Using backend LokyBackend with 12 concurrent workers.\n",
      "[Parallel(n_jobs=-1)]: Done   1 tasks      | elapsed:    0.4s\n",
      "[Parallel(n_jobs=-1)]: Done   8 tasks      | elapsed:    0.9s\n",
      "[Parallel(n_jobs=-1)]: Done  17 tasks      | elapsed:    1.0s\n",
      "[Parallel(n_jobs=-1)]: Done  27 out of  45 | elapsed:    1.2s remaining:    0.8s\n",
      "[Parallel(n_jobs=-1)]: Done  32 out of  45 | elapsed:    1.4s remaining:    0.5s\n",
      "[Parallel(n_jobs=-1)]: Done  37 out of  45 | elapsed:    1.5s remaining:    0.2s\n",
      "[Parallel(n_jobs=-1)]: Done  42 out of  45 | elapsed:    1.5s remaining:    0.0s\n",
      "[Parallel(n_jobs=-1)]: Done  45 out of  45 | elapsed:    1.6s finished\n"
     ]
    },
    {
     "name": "stdout",
     "output_type": "stream",
     "text": [
      "{'alpha': 0.001}\n",
      "0.9547291089694495\n"
     ]
    }
   ],
   "source": [
    "#Hpyerparamter tuning for SVM\n",
    "gsc = GridSearchCV(\n",
    "    estimator = SGDClassifier(loss = 'hinge'), \n",
    "    param_grid = {\n",
    "        'alpha': [0.00001, 0.0001, 0.001, 0.01, 0.1, 1, 10, 100, 1000]\n",
    "    }, cv = 5, scoring='roc_auc', verbose=10, n_jobs=-1)\n",
    "\n",
    "grid_result = gsc.fit(X_tw2v_tr, y_tw2v_tr)\n",
    "best_params = grid_result.best_params_\n",
    "print(best_params)\n",
    "print(gsc.score(X_tw2v_tr, y_tw2v_tr))\n",
    "best_model = SGDClassifier(loss = 'hinge', alpha = best_params['alpha'])"
   ]
  },
  {
   "cell_type": "code",
   "execution_count": 83,
   "metadata": {},
   "outputs": [
    {
     "data": {
      "image/png": "[encoded data removed]",
      "text/plain": [
       "<Figure size 432x288 with 1 Axes>"
      ]
     },
     "metadata": {
      "needs_background": "light"
     },
     "output_type": "display_data"
    }
   ],
   "source": [
    "#Roc curve using SVM\n",
    "#Code taken from https://www.datacamp.com/community/tutorials/understanding-logistic-regression-python\n",
    "best_model.fit(X_tw2v_tr, y_tw2v_tr)\n",
    "\n",
    "y_pred_tr = best_model.predict(X_tw2v_tr)\n",
    "y_pred_te = best_model.predict(X_tw2v_te)\n",
    "fpr_tr, tpr_tr, _tr = metrics.roc_curve(y_tw2v_tr,  y_pred_tr)\n",
    "fpr_te, tpr_te, _te = metrics.roc_curve(y_tw2v_te,  y_pred_te)\n",
    "auc_tr_tw_svm = metrics.roc_auc_score(y_tw2v_tr, y_pred_tr)\n",
    "auc_te_tw_svm = metrics.roc_auc_score(y_tw2v_te, y_pred_te)\n",
    "plt.plot(fpr_tr,tpr_tr,label=\"Train, auc=\"+str(auc_tr_tw_svm))\n",
    "plt.plot(fpr_te,tpr_te,label=\"Test, auc=\"+str(auc_te_tw_svm))\n",
    "plt.legend(loc=4)\n",
    "plt.show()"
   ]
  },
  {
   "cell_type": "code",
   "execution_count": 51,
   "metadata": {},
   "outputs": [
    {
     "name": "stdout",
     "output_type": "stream",
     "text": [
      "Fitting 5 folds for each of 30 candidates, totalling 150 fits\n"
     ]
    },
    {
     "name": "stderr",
     "output_type": "stream",
     "text": [
      "[Parallel(n_jobs=-1)]: Using backend LokyBackend with 12 concurrent workers.\n",
      "[Parallel(n_jobs=-1)]: Done   1 tasks      | elapsed:    3.2s\n",
      "[Parallel(n_jobs=-1)]: Done   8 tasks      | elapsed:    3.3s\n",
      "[Parallel(n_jobs=-1)]: Done  17 tasks      | elapsed:    4.2s\n",
      "[Parallel(n_jobs=-1)]: Done  26 tasks      | elapsed:    4.9s\n",
      "[Parallel(n_jobs=-1)]: Done  37 tasks      | elapsed:    6.7s\n",
      "[Parallel(n_jobs=-1)]: Done  48 tasks      | elapsed:    8.0s\n",
      "[Parallel(n_jobs=-1)]: Done  61 tasks      | elapsed:   11.9s\n",
      "[Parallel(n_jobs=-1)]: Done  74 tasks      | elapsed:   15.3s\n",
      "[Parallel(n_jobs=-1)]: Done  89 tasks      | elapsed:   18.7s\n",
      "[Parallel(n_jobs=-1)]: Done 104 tasks      | elapsed:   27.2s\n",
      "[Parallel(n_jobs=-1)]: Done 121 tasks      | elapsed:   36.3s\n",
      "[Parallel(n_jobs=-1)]: Done 143 out of 150 | elapsed:   50.4s remaining:    2.4s\n",
      "[Parallel(n_jobs=-1)]: Done 150 out of 150 | elapsed:   53.8s finished\n"
     ]
    },
    {
     "name": "stdout",
     "output_type": "stream",
     "text": [
      "{'max_depth': 5, 'min_samples_split': 50}\n",
      "0.7812003153237717\n"
     ]
    }
   ],
   "source": [
    "#Hyperparamter tuning with decision trees\n",
    "gsc = GridSearchCV(\n",
    "    estimator = DecisionTreeClassifier(), \n",
    "    param_grid = {\n",
    "        'max_depth': [2, 5, 10, 20, 50],\n",
    "        'min_samples_split': [5, 10, 20, 30, 50, 100]\n",
    "    }, cv = 5, scoring='roc_auc', verbose=10, n_jobs=-1)\n",
    "\n",
    "grid_result = gsc.fit(X_tw2v_tr, y_tw2v_tr)\n",
    "best_params = grid_result.best_params_\n",
    "print(best_params)\n",
    "print(gsc.score(X_tw2v_tr, y_tw2v_tr))\n",
    "best_model = DecisionTreeClassifier(max_depth = best_params['max_depth'], min_samples_split = best_params['min_samples_split'])"
   ]
  },
  {
   "cell_type": "code",
   "execution_count": 85,
   "metadata": {
    "scrolled": true
   },
   "outputs": [
    {
     "name": "stderr",
     "output_type": "stream",
     "text": [
      "\r",
      "  0%|                                                                                            | 0/5 [00:00<?, ?it/s]"
     ]
    },
    {
     "name": "stdout",
     "output_type": "stream",
     "text": [
      "The accuracy for value of depth: 2 and min samples split: 5 is 0.8928571428571429 for train and 0.8952380952380953 for cv\n",
      "The accuracy for value of depth: 2 and min samples split: 10 is 0.8928571428571429 for train and 0.8952380952380953 for cv\n",
      "The accuracy for value of depth: 2 and min samples split: 20 is 0.8928571428571429 for train and 0.8952380952380953 for cv\n",
      "The accuracy for value of depth: 2 and min samples split: 30 is 0.8928571428571429 for train and 0.8952380952380953 for cv\n",
      "The accuracy for value of depth: 2 and min samples split: 50 is 0.8928571428571429 for train and 0.8952380952380953 for cv\n",
      "The accuracy for value of depth: 2 and min samples split: 100 is 0.8928571428571429 for train and 0.8952380952380953 for cv\n"
     ]
    },
    {
     "name": "stderr",
     "output_type": "stream",
     "text": [
      "\r",
      " 20%|████████████████▊                                                                   | 1/5 [00:03<00:12,  3.15s/it]"
     ]
    },
    {
     "name": "stdout",
     "output_type": "stream",
     "text": [
      "The accuracy for value of depth: 5 and min samples split: 5 is 0.9104081632653062 for train and 0.8957142857142857 for cv\n",
      "The accuracy for value of depth: 5 and min samples split: 10 is 0.91 for train and 0.8966666666666666 for cv\n",
      "The accuracy for value of depth: 5 and min samples split: 20 is 0.9089795918367347 for train and 0.8966666666666666 for cv\n",
      "The accuracy for value of depth: 5 and min samples split: 30 is 0.9057142857142857 for train and 0.8909523809523809 for cv\n",
      "The accuracy for value of depth: 5 and min samples split: 50 is 0.9044897959183673 for train and 0.8909523809523809 for cv\n",
      "The accuracy for value of depth: 5 and min samples split: 100 is 0.9026530612244898 for train and 0.8876190476190476 for cv\n"
     ]
    },
    {
     "name": "stderr",
     "output_type": "stream",
     "text": [
      "\r",
      " 40%|█████████████████████████████████▌                                                  | 2/5 [00:10<00:13,  4.54s/it]"
     ]
    },
    {
     "name": "stdout",
     "output_type": "stream",
     "text": [
      "The accuracy for value of depth: 10 and min samples split: 5 is 0.9542857142857143 for train and 0.8842857142857142 for cv\n",
      "The accuracy for value of depth: 10 and min samples split: 10 is 0.9520408163265306 for train and 0.8828571428571429 for cv\n",
      "The accuracy for value of depth: 10 and min samples split: 20 is 0.9440816326530612 for train and 0.8838095238095238 for cv\n",
      "The accuracy for value of depth: 10 and min samples split: 30 is 0.936530612244898 for train and 0.8723809523809524 for cv\n",
      "The accuracy for value of depth: 10 and min samples split: 50 is 0.926734693877551 for train and 0.8742857142857143 for cv\n",
      "The accuracy for value of depth: 10 and min samples split: 100 is 0.9151020408163265 for train and 0.8690476190476191 for cv\n"
     ]
    },
    {
     "name": "stderr",
     "output_type": "stream",
     "text": [
      "\r",
      " 60%|██████████████████████████████████████████████████▍                                 | 3/5 [00:24<00:14,  7.21s/it]"
     ]
    },
    {
     "name": "stdout",
     "output_type": "stream",
     "text": [
      "The accuracy for value of depth: 20 and min samples split: 5 is 0.9838775510204082 for train and 0.8652380952380953 for cv\n",
      "The accuracy for value of depth: 20 and min samples split: 10 is 0.976938775510204 for train and 0.8495238095238096 for cv\n",
      "The accuracy for value of depth: 20 and min samples split: 20 is 0.9614285714285714 for train and 0.86 for cv\n",
      "The accuracy for value of depth: 20 and min samples split: 30 is 0.9506122448979591 for train and 0.8485714285714285 for cv\n",
      "The accuracy for value of depth: 20 and min samples split: 50 is 0.94 for train and 0.8480952380952381 for cv\n",
      "The accuracy for value of depth: 20 and min samples split: 100 is 0.9230612244897959 for train and 0.8561904761904762 for cv\n"
     ]
    },
    {
     "name": "stderr",
     "output_type": "stream",
     "text": [
      "\r",
      " 80%|███████████████████████████████████████████████████████████████████▏                | 4/5 [00:47<00:11, 12.00s/it]"
     ]
    },
    {
     "name": "stdout",
     "output_type": "stream",
     "text": [
      "The accuracy for value of depth: 50 and min samples split: 5 is 0.9948979591836735 for train and 0.8461904761904762 for cv\n",
      "The accuracy for value of depth: 50 and min samples split: 10 is 0.9834693877551021 for train and 0.8519047619047619 for cv\n",
      "The accuracy for value of depth: 50 and min samples split: 20 is 0.9655102040816327 for train and 0.8523809523809524 for cv\n",
      "The accuracy for value of depth: 50 and min samples split: 30 is 0.9557142857142857 for train and 0.8442857142857143 for cv\n",
      "The accuracy for value of depth: 50 and min samples split: 50 is 0.9420408163265306 for train and 0.8466666666666667 for cv\n",
      "The accuracy for value of depth: 50 and min samples split: 100 is 0.9261224489795918 for train and 0.8504761904761905 for cv\n"
     ]
    },
    {
     "name": "stderr",
     "output_type": "stream",
     "text": [
      "100%|████████████████████████████████████████████████████████████████████████████████████| 5/5 [01:23<00:00, 19.15s/it]\n"
     ]
    }
   ],
   "source": [
    "#Manual search for best hyperparamter using Decision trees\n",
    "D = [2, 5, 10, 20, 50]\n",
    "MSS = [5, 10, 20, 30, 50, 100]\n",
    "for d in tqdm(D):\n",
    "    for m in MSS:\n",
    "        clf = DecisionTreeClassifier(max_depth = d, min_samples_split = m)\n",
    "        clf.fit(X_tw2v_tr, y_tw2v_tr)\n",
    "\n",
    "        y_pred_tr = clf.predict(X_tw2v_tr)\n",
    "        y_pred_cv = clf.predict(X_tw2v_cv)\n",
    "\n",
    "        tr_acc = accuracy_score(y_tw2v_tr, y_pred_tr)\n",
    "        cv_acc = accuracy_score(y_tw2v_cv, y_pred_cv)\n",
    "    \n",
    "        print(\"The accuracy for value of depth: \" + str(d)+\" and min samples split: \" + str(m) +\" is \" +str(tr_acc)+\" for train and \" + str(cv_acc) +\" for cv\")"
   ]
  },
  {
   "cell_type": "code",
   "execution_count": 52,
   "metadata": {},
   "outputs": [
    {
     "data": {
      "image/png": "[encoded data removed]",
      "text/plain": [
       "<Figure size 432x288 with 1 Axes>"
      ]
     },
     "metadata": {
      "needs_background": "light"
     },
     "output_type": "display_data"
    }
   ],
   "source": [
    "#Plotting the ROC curve for Decision Tree\n",
    "best_model.fit(X_aw2v_tr, y_aw2v_tr)\n",
    "\n",
    "y_pred_tr = best_model.predict_proba(X_tw2v_tr)[::, 1]\n",
    "y_pred_te = best_model.predict_proba(X_tw2v_te)[::, 1]\n",
    "fpr_tr, tpr_tr, _tr = metrics.roc_curve(y_tw2v_tr,  y_pred_tr)\n",
    "fpr_te, tpr_te, _te = metrics.roc_curve(y_tw2v_te,  y_pred_te)\n",
    "auc_tr_tw_dt = metrics.roc_auc_score(y_tw2v_tr, y_pred_tr)\n",
    "auc_te_tw_dt = metrics.roc_auc_score(y_tw2v_te, y_pred_te)\n",
    "plt.plot(fpr_tr,tpr_tr,label=\"Train, auc=\"+str(auc_tr_tw_dt))\n",
    "plt.plot(fpr_te,tpr_te,label=\"Test, auc=\"+str(auc_te_tw_dt))\n",
    "plt.legend(loc=4)\n",
    "plt.show()"
   ]
  }
 ],
 "metadata": {
  "kernelspec": {
   "display_name": "Python 3",
   "language": "python",
   "name": "python3"
  },
  "language_info": {
   "codemirror_mode": {
    "name": "ipython",
    "version": 3
   },
   "file_extension": ".py",
   "mimetype": "text/x-python",
   "name": "python",
   "nbconvert_exporter": "python",
   "pygments_lexer": "ipython3",
   "version": "3.7.4"
  }
 },
 "nbformat": 4,
 "nbformat_minor": 2
}
